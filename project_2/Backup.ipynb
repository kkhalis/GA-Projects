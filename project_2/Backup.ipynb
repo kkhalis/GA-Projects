{
 "cells": [
  {
   "cell_type": "code",
   "execution_count": 1,
   "id": "c14e9ca9",
   "metadata": {},
   "outputs": [],
   "source": [
    "import numpy as np\n",
    "import pandas as pd\n",
    "import matplotlib.pyplot as plt\n",
    "import seaborn as sns\n",
    "import math\n",
    "\n",
    "from itertools import combinations\n",
    "from sklearn.linear_model import LinearRegression\n",
    "from sklearn.model_selection import train_test_split, cross_val_score\n",
    "from sklearn.metrics import mean_squared_error"
   ]
  },
  {
   "cell_type": "code",
   "execution_count": 2,
   "id": "990e2e84",
   "metadata": {},
   "outputs": [],
   "source": [
    "# One hot encode for Nominal ONLY\n",
    "# Functions for repeated graphs\n",
    "# Check if across categories if sale price varies\n",
    "# Don't use correlation for categorical features\n",
    "# 5 outliers, 3 are in test set. Need to remove 2 in train set\n",
    "# if want to remove, need to prove via stdev\n",
    "# Can choose to drop one column if there is high collinearity for 2 variables"
   ]
  },
  {
   "cell_type": "code",
   "execution_count": 43,
   "id": "d578faea",
   "metadata": {},
   "outputs": [],
   "source": [
    "data = pd.read_csv('./datasets/train.csv')\n",
    "# 23 Nominal, 23 Ordinal, 14 Discrete, 20 Continuous\n",
    "\n",
    "ord_features = [\n",
    "    'Lot Shape',\n",
    "    'Utilities',\n",
    "    'Land Slope',\n",
    "    'Overall Qual',\n",
    "    'Overall Cond',\n",
    "    'Exter Qual',\n",
    "    'Exter Cond',\n",
    "    'Bsmt Qual',\n",
    "    'Bsmt Cond',\n",
    "    'Bsmt Exposure',\n",
    "    'BsmtFin Type 1',\n",
    "    'BsmtFin Type 2',\n",
    "    'Heating QC',\n",
    "    'Electrical',\n",
    "    'Kitchen Qual',\n",
    "    'Functional',\n",
    "    'Fireplace Qu',\n",
    "    'Garage Finish',\n",
    "    'Garage Qual',\n",
    "    'Garage Cond',\n",
    "    'Paved Drive',\n",
    "    'Pool QC',\n",
    "    'Fence'    \n",
    "]\n",
    "\n",
    "nom_features = [\n",
    "    'PID', #** Exclude PID as nom observation ids\n",
    "    'MS SubClass',\n",
    "    'MS Zoning',\n",
    "    'Street',\n",
    "    'Alley',\n",
    "    'Land Contour',\n",
    "    'Lot Config',\n",
    "    'Neighborhood',\n",
    "    'Condition 1',\n",
    "    'Condition 2',\n",
    "    'Bldg Type',\n",
    "    'House Style',\n",
    "    'Roof Style',\n",
    "    'Roof Matl',\n",
    "    'Exterior 1st',\n",
    "    'Exterior 2nd',\n",
    "    'Mas Vnr Type',\n",
    "    'Foundation',\n",
    "    'Heating',\n",
    "    'Central Air',\n",
    "    'Garage Type',\n",
    "    'Misc Feature',\n",
    "    'Sale Type',\n",
    "#     'Sale Condition'\n",
    "]\n",
    "\n",
    "cont_features = [\n",
    "    'Lot Frontage',\n",
    "    'Lot Area',\n",
    "    'Mas Vnr Area',\n",
    "    'BsmtFin SF 1',\n",
    "    'BsmtFin SF 2',\n",
    "    'Bsmt Unf SF',\n",
    "    'Total Bsmt SF',\n",
    "    '1st Flr SF',\n",
    "    '2nd Flr SF',\n",
    "    'Low Qual Fin SF',\n",
    "    'Gr Liv Area',\n",
    "    'Garage Area',\n",
    "    'Wood Deck SF',\n",
    "    'Open Porch SF',\n",
    "    'Enclosed Porch',\n",
    "    '3Ssn Porch',\n",
    "    'Screen Porch',\n",
    "    'Pool Area',\n",
    "    'Misc Val',\n",
    "    'SalePrice'\n",
    "]\n",
    "\n",
    "\n",
    "disc_features = [\n",
    "    'Id',\n",
    "    'Year Built',\n",
    "    'Year Remod/Add',\n",
    "    'Bsmt Full Bath',\n",
    "    'Bsmt Half Bath',\n",
    "    'Full Bath',\n",
    "    'Half Bath',\n",
    "    'Bedroom AbvGr',\n",
    "    'Kitchen AbvGr',\n",
    "    'TotRms AbvGrd',\n",
    "    'Fireplaces',\n",
    "    'Garage Yr Blt',\n",
    "    'Garage Cars',\n",
    "    'Mo Sold',\n",
    "    'Yr Sold'\n",
    "]\n"
   ]
  },
  {
   "cell_type": "code",
   "execution_count": 35,
   "id": "36066f4a",
   "metadata": {},
   "outputs": [],
   "source": [
    "def check_nan_values(df, col_lst):\n",
    "    ft_lst = []\n",
    "    for feature in df.loc[:,(df[col_lst].isnull().sum() > 0).index].columns:\n",
    "        if df[feature].isnull().values.any():\n",
    "            ft_lst.append(feature)\n",
    "    return ft_lst\n"
   ]
  },
  {
   "cell_type": "code",
   "execution_count": 45,
   "id": "1d427fac",
   "metadata": {},
   "outputs": [
    {
     "data": {
      "text/plain": [
       "['Alley', 'Mas Vnr Type', 'Garage Type', 'Misc Feature']"
      ]
     },
     "execution_count": 45,
     "metadata": {},
     "output_type": "execute_result"
    }
   ],
   "source": [
    "check_nan_values(data,nom_features)\n"
   ]
  },
  {
   "cell_type": "code",
   "execution_count": 46,
   "id": "7906552b",
   "metadata": {},
   "outputs": [],
   "source": [
    "# Clean nominal features\n",
    "data['Alley'] = data['Alley'].fillna('NA')\n",
    "data['Garage Type'] = data['Garage Type'].fillna('NA')\n",
    "data['Misc Feature'] = data['Misc Feature'].fillna('NA')\n",
    "data['Mas Vnr Type'] = data['Mas Vnr Type'].map(lambda x: 'CBlock' if pd.isnull(x) else x)"
   ]
  },
  {
   "cell_type": "code",
   "execution_count": 48,
   "id": "a7a8ae96",
   "metadata": {},
   "outputs": [
    {
     "data": {
      "text/html": [
       "<div>\n",
       "<style scoped>\n",
       "    .dataframe tbody tr th:only-of-type {\n",
       "        vertical-align: middle;\n",
       "    }\n",
       "\n",
       "    .dataframe tbody tr th {\n",
       "        vertical-align: top;\n",
       "    }\n",
       "\n",
       "    .dataframe thead th {\n",
       "        text-align: right;\n",
       "    }\n",
       "</style>\n",
       "<table border=\"1\" class=\"dataframe\">\n",
       "  <thead>\n",
       "    <tr style=\"text-align: right;\">\n",
       "      <th></th>\n",
       "      <th>count</th>\n",
       "      <th>unique</th>\n",
       "      <th>top</th>\n",
       "      <th>freq</th>\n",
       "    </tr>\n",
       "  </thead>\n",
       "  <tbody>\n",
       "    <tr>\n",
       "      <th>Alley</th>\n",
       "      <td>2051</td>\n",
       "      <td>3</td>\n",
       "      <td>NA</td>\n",
       "      <td>1911</td>\n",
       "    </tr>\n",
       "    <tr>\n",
       "      <th>Mas Vnr Type</th>\n",
       "      <td>2051</td>\n",
       "      <td>5</td>\n",
       "      <td>None</td>\n",
       "      <td>1218</td>\n",
       "    </tr>\n",
       "    <tr>\n",
       "      <th>Garage Type</th>\n",
       "      <td>2051</td>\n",
       "      <td>7</td>\n",
       "      <td>Attchd</td>\n",
       "      <td>1213</td>\n",
       "    </tr>\n",
       "    <tr>\n",
       "      <th>Misc Feature</th>\n",
       "      <td>2051</td>\n",
       "      <td>6</td>\n",
       "      <td>NA</td>\n",
       "      <td>1986</td>\n",
       "    </tr>\n",
       "  </tbody>\n",
       "</table>\n",
       "</div>"
      ],
      "text/plain": [
       "             count unique     top  freq\n",
       "Alley         2051      3      NA  1911\n",
       "Mas Vnr Type  2051      5    None  1218\n",
       "Garage Type   2051      7  Attchd  1213\n",
       "Misc Feature  2051      6      NA  1986"
      ]
     },
     "execution_count": 48,
     "metadata": {},
     "output_type": "execute_result"
    }
   ],
   "source": [
    "data.loc[:,['Alley','Mas Vnr Type','Garage Type','Misc Feature']].describe().T"
   ]
  },
  {
   "cell_type": "code",
   "execution_count": null,
   "id": "23c98e0b",
   "metadata": {},
   "outputs": [],
   "source": [
    "# Clean nominal features\n",
    "# data['Alley'] = data['Alley'].map(lambda x: 'NA' if pd.isnull(x) else x)\n",
    "# data['Mas Vnr Type'] = data['Mas Vnr Type'].map(lambda x: 'CBlock' if pd.isnull(x) else x)\n",
    "# data['Garage Type'] = data['Garage Type'].map(lambda x: 'NA' if pd.isnull(x) else x)\n",
    "# data['Misc Feature'] = data['Misc Feature'].map(lambda x: 'NA' if pd.isnull(x) else x )"
   ]
  },
  {
   "cell_type": "code",
   "execution_count": null,
   "id": "f2ae35b8",
   "metadata": {},
   "outputs": [],
   "source": [
    "# data.loc[:,['Alley','Mas Vnr Type','Garage Type','Misc Feature']].describe().T"
   ]
  },
  {
   "cell_type": "code",
   "execution_count": 52,
   "id": "3188bd72",
   "metadata": {},
   "outputs": [],
   "source": [
    "# Clean Ordinal features\n",
    "for ft in check_nan_values(data,ord_features):\n",
    "    data[ft] = data[ft].fillna('NA')"
   ]
  },
  {
   "cell_type": "code",
   "execution_count": 53,
   "id": "75c492b9",
   "metadata": {},
   "outputs": [
    {
     "name": "stdout",
     "output_type": "stream",
     "text": [
      "<class 'pandas.core.frame.DataFrame'>\n",
      "RangeIndex: 2051 entries, 0 to 2050\n",
      "Data columns (total 11 columns):\n",
      " #   Column          Non-Null Count  Dtype \n",
      "---  ------          --------------  ----- \n",
      " 0   Bsmt Qual       2051 non-null   object\n",
      " 1   Bsmt Cond       2051 non-null   object\n",
      " 2   Bsmt Exposure   2051 non-null   object\n",
      " 3   BsmtFin Type 1  2051 non-null   object\n",
      " 4   BsmtFin Type 2  2051 non-null   object\n",
      " 5   Fireplace Qu    2051 non-null   object\n",
      " 6   Garage Finish   2051 non-null   object\n",
      " 7   Garage Qual     2051 non-null   object\n",
      " 8   Garage Cond     2051 non-null   object\n",
      " 9   Pool QC         2051 non-null   object\n",
      " 10  Fence           2051 non-null   object\n",
      "dtypes: object(11)\n",
      "memory usage: 176.4+ KB\n"
     ]
    }
   ],
   "source": [
    "data.loc[:,['Bsmt Qual','Bsmt Cond','Bsmt Exposure','BsmtFin Type 1','BsmtFin Type 2','Fireplace Qu','Garage Finish','Garage Qual','Garage Cond','Pool QC','Fence']].info()"
   ]
  },
  {
   "cell_type": "code",
   "execution_count": null,
   "id": "457511f1",
   "metadata": {},
   "outputs": [],
   "source": [
    "# Clean ordinal features\n",
    "data['Bsmt Qual'] = data['Bsmt Qual'].map(lambda x: 'NA' if pd.isnull(x) else x )\n",
    "data['Bsmt Cond'] = data['Bsmt Cond'].map(lambda x: 'NA' if pd.isnull(x) else x )\n",
    "data['Bsmt Exposure'] = data['Bsmt Exposure'].map(lambda x: 'NA' if pd.isnull(x) else x )\n",
    "data['BsmtFin Type 1'] = data['BsmtFin Type 1'].map(lambda x: 'NA' if pd.isnull(x) else x )\n",
    "data['BsmtFin Type 2'] = data['BsmtFin Type 2'].map(lambda x: 'NA' if pd.isnull(x) else x )\n",
    "data['Fireplace Qu'] = data['Fireplace Qu'].map(lambda x: 'NA' if pd.isnull(x) else x )\n",
    "data['Garage Finish'] = data['Garage Finish'].map(lambda x: 'NA' if pd.isnull(x) else x )\n",
    "data['Garage Qual'] = data['Garage Qual'].map(lambda x: 'NA' if pd.isnull(x) else x )\n",
    "data['Garage Cond'] = data['Garage Cond'].map(lambda x: 'NA' if pd.isnull(x) else x )\n",
    "data['Pool QC'] = data['Pool QC'].map(lambda x: 'NA' if pd.isnull(x) else x )\n",
    "data['Fence'] = data['Fence'].map(lambda x: 'NA' if pd.isnull(x) else x )"
   ]
  },
  {
   "cell_type": "code",
   "execution_count": 54,
   "id": "652c44d2",
   "metadata": {},
   "outputs": [
    {
     "data": {
      "text/html": [
       "<div>\n",
       "<style scoped>\n",
       "    .dataframe tbody tr th:only-of-type {\n",
       "        vertical-align: middle;\n",
       "    }\n",
       "\n",
       "    .dataframe tbody tr th {\n",
       "        vertical-align: top;\n",
       "    }\n",
       "\n",
       "    .dataframe thead th {\n",
       "        text-align: right;\n",
       "    }\n",
       "</style>\n",
       "<table border=\"1\" class=\"dataframe\">\n",
       "  <thead>\n",
       "    <tr style=\"text-align: right;\">\n",
       "      <th></th>\n",
       "      <th>count</th>\n",
       "      <th>unique</th>\n",
       "      <th>top</th>\n",
       "      <th>freq</th>\n",
       "    </tr>\n",
       "  </thead>\n",
       "  <tbody>\n",
       "    <tr>\n",
       "      <th>Bsmt Qual</th>\n",
       "      <td>2051</td>\n",
       "      <td>6</td>\n",
       "      <td>TA</td>\n",
       "      <td>887</td>\n",
       "    </tr>\n",
       "    <tr>\n",
       "      <th>Bsmt Cond</th>\n",
       "      <td>2051</td>\n",
       "      <td>6</td>\n",
       "      <td>TA</td>\n",
       "      <td>1834</td>\n",
       "    </tr>\n",
       "    <tr>\n",
       "      <th>Bsmt Exposure</th>\n",
       "      <td>2051</td>\n",
       "      <td>5</td>\n",
       "      <td>No</td>\n",
       "      <td>1339</td>\n",
       "    </tr>\n",
       "    <tr>\n",
       "      <th>BsmtFin Type 1</th>\n",
       "      <td>2051</td>\n",
       "      <td>7</td>\n",
       "      <td>GLQ</td>\n",
       "      <td>615</td>\n",
       "    </tr>\n",
       "    <tr>\n",
       "      <th>BsmtFin Type 2</th>\n",
       "      <td>2051</td>\n",
       "      <td>7</td>\n",
       "      <td>Unf</td>\n",
       "      <td>1749</td>\n",
       "    </tr>\n",
       "    <tr>\n",
       "      <th>Fireplace Qu</th>\n",
       "      <td>2051</td>\n",
       "      <td>6</td>\n",
       "      <td>NA</td>\n",
       "      <td>1000</td>\n",
       "    </tr>\n",
       "    <tr>\n",
       "      <th>Garage Finish</th>\n",
       "      <td>2051</td>\n",
       "      <td>4</td>\n",
       "      <td>Unf</td>\n",
       "      <td>849</td>\n",
       "    </tr>\n",
       "    <tr>\n",
       "      <th>Garage Qual</th>\n",
       "      <td>2051</td>\n",
       "      <td>6</td>\n",
       "      <td>TA</td>\n",
       "      <td>1832</td>\n",
       "    </tr>\n",
       "    <tr>\n",
       "      <th>Garage Cond</th>\n",
       "      <td>2051</td>\n",
       "      <td>6</td>\n",
       "      <td>TA</td>\n",
       "      <td>1868</td>\n",
       "    </tr>\n",
       "    <tr>\n",
       "      <th>Pool QC</th>\n",
       "      <td>2051</td>\n",
       "      <td>5</td>\n",
       "      <td>NA</td>\n",
       "      <td>2042</td>\n",
       "    </tr>\n",
       "    <tr>\n",
       "      <th>Fence</th>\n",
       "      <td>2051</td>\n",
       "      <td>5</td>\n",
       "      <td>NA</td>\n",
       "      <td>1651</td>\n",
       "    </tr>\n",
       "  </tbody>\n",
       "</table>\n",
       "</div>"
      ],
      "text/plain": [
       "               count unique  top  freq\n",
       "Bsmt Qual       2051      6   TA   887\n",
       "Bsmt Cond       2051      6   TA  1834\n",
       "Bsmt Exposure   2051      5   No  1339\n",
       "BsmtFin Type 1  2051      7  GLQ   615\n",
       "BsmtFin Type 2  2051      7  Unf  1749\n",
       "Fireplace Qu    2051      6   NA  1000\n",
       "Garage Finish   2051      4  Unf   849\n",
       "Garage Qual     2051      6   TA  1832\n",
       "Garage Cond     2051      6   TA  1868\n",
       "Pool QC         2051      5   NA  2042\n",
       "Fence           2051      5   NA  1651"
      ]
     },
     "execution_count": 54,
     "metadata": {},
     "output_type": "execute_result"
    }
   ],
   "source": [
    "data.loc[:,['Bsmt Qual','Bsmt Cond','Bsmt Exposure','BsmtFin Type 1','BsmtFin Type 2','Fireplace Qu','Garage Finish','Garage Qual','Garage Cond','Pool QC','Fence']].describe().T"
   ]
  },
  {
   "cell_type": "code",
   "execution_count": null,
   "id": "4f63addb",
   "metadata": {},
   "outputs": [],
   "source": [
    "data.loc[:,['Bsmt Qual','Bsmt Cond','Bsmt Exposure','BsmtFin Type 1','BsmtFin Type 2','Fireplace Qu','Garage Finish','Garage Qual','Garage Cond','Pool QC','Fence']].info()"
   ]
  },
  {
   "cell_type": "code",
   "execution_count": null,
   "id": "54cadd4a",
   "metadata": {},
   "outputs": [],
   "source": [
    "check_nan_values(data,cont_features)\n"
   ]
  },
  {
   "cell_type": "code",
   "execution_count": null,
   "id": "91374545",
   "metadata": {},
   "outputs": [],
   "source": [
    "# Clean continuous features\n",
    "data['Lot Frontage'] = data['Lot Frontage'].map(lambda x: 0 if pd.isnull(x) else x )\n",
    "data['Mas Vnr Area'] = data['Mas Vnr Area'].map(lambda x: 0 if pd.isnull(x) else x )\n",
    "data['BsmtFin SF 1'] = data['BsmtFin SF 1'].map(lambda x: 0 if pd.isnull(x) else x )\n",
    "data['BsmtFin SF 2'] = data['BsmtFin SF 2'].map(lambda x: 0 if pd.isnull(x) else x )\n",
    "data['Bsmt Unf SF'] = data['Bsmt Unf SF'].map(lambda x: 0 if pd.isnull(x) else x )\n",
    "data['Total Bsmt SF'] = data['Total Bsmt SF'].map(lambda x: 0 if pd.isnull(x) else x )\n",
    "data['Garage Area'] = data['Garage Area'].map(lambda x: 0 if pd.isnull(x) else x )"
   ]
  },
  {
   "cell_type": "code",
   "execution_count": null,
   "id": "825dbecb",
   "metadata": {},
   "outputs": [],
   "source": [
    "data.loc[:,['Lot Frontage',\n",
    " 'Mas Vnr Area',\n",
    " 'BsmtFin SF 1',\n",
    " 'BsmtFin SF 2',\n",
    " 'Bsmt Unf SF',\n",
    " 'Total Bsmt SF',\n",
    " 'Garage Area']].info()"
   ]
  },
  {
   "cell_type": "code",
   "execution_count": null,
   "id": "db7444fb",
   "metadata": {},
   "outputs": [],
   "source": [
    "check_nan_values(data,disc_features)"
   ]
  },
  {
   "cell_type": "code",
   "execution_count": null,
   "id": "ab24ec8b",
   "metadata": {},
   "outputs": [],
   "source": [
    "data['Bsmt Full Bath'] = data['Bsmt Full Bath'].map(lambda x: 0 if pd.isnull(x) else x )\n",
    "data['Bsmt Half Bath'] = data['Bsmt Half Bath'].map(lambda x: 0 if pd.isnull(x) else x )\n",
    "data['Garage Yr Blt'] = data['Garage Yr Blt'].map(lambda x: 0 if pd.isnull(x) else x )\n",
    "data['Garage Cars'] = data['Garage Cars'].map(lambda x: 0 if pd.isnull(x) else x )"
   ]
  },
  {
   "cell_type": "code",
   "execution_count": null,
   "id": "efa16ae8",
   "metadata": {},
   "outputs": [],
   "source": [
    "data.loc[:,['Bsmt Full Bath', 'Bsmt Half Bath', 'Garage Yr Blt', 'Garage Cars']].info()"
   ]
  },
  {
   "cell_type": "code",
   "execution_count": null,
   "id": "74fd4f02",
   "metadata": {},
   "outputs": [],
   "source": [
    "data.head(10)"
   ]
  },
  {
   "cell_type": "code",
   "execution_count": null,
   "id": "a9f58cef",
   "metadata": {},
   "outputs": [],
   "source": [
    "data.tail(10)"
   ]
  },
  {
   "cell_type": "code",
   "execution_count": null,
   "id": "9d82a0b0",
   "metadata": {},
   "outputs": [],
   "source": [
    "data['Garage Yr Blt'].describe()   # Noted typo of 2207. Deduced to be 2007 instead\n",
    "data.loc[data['Garage Yr Blt'] == 2207, 'Garage Yr Blt'] = 2007"
   ]
  },
  {
   "cell_type": "code",
   "execution_count": null,
   "id": "b0d080a4",
   "metadata": {},
   "outputs": [],
   "source": [
    "data['Central Air'] = data['Central Air'].map(lambda x: 1 if x == 'Y' else 0)"
   ]
  },
  {
   "cell_type": "code",
   "execution_count": null,
   "id": "6ecb8f05",
   "metadata": {},
   "outputs": [],
   "source": [
    "plt.figure(figsize=(20,20))\n",
    "sns.heatmap(data=data.corr()[['SalePrice']].sort_values(ascending=False, by='SalePrice'), annot=True, cmap='coolwarm')"
   ]
  },
  {
   "cell_type": "code",
   "execution_count": null,
   "id": "b8909d8b",
   "metadata": {},
   "outputs": [],
   "source": [
    "data.to_csv('./datasets/cleaned_data.csv')"
   ]
  },
  {
   "cell_type": "code",
   "execution_count": null,
   "id": "3ab52546",
   "metadata": {},
   "outputs": [],
   "source": []
  }
 ],
 "metadata": {
  "kernelspec": {
   "display_name": "Python 3",
   "language": "python",
   "name": "python3"
  },
  "language_info": {
   "codemirror_mode": {
    "name": "ipython",
    "version": 3
   },
   "file_extension": ".py",
   "mimetype": "text/x-python",
   "name": "python",
   "nbconvert_exporter": "python",
   "pygments_lexer": "ipython3",
   "version": "3.8.8"
  }
 },
 "nbformat": 4,
 "nbformat_minor": 5
}
