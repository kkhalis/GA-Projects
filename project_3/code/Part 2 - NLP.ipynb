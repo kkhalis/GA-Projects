{
 "cells": [
  {
   "cell_type": "code",
   "execution_count": 1,
   "id": "c272489a",
   "metadata": {},
   "outputs": [],
   "source": [
    "import numpy as np\n",
    "import pandas as pd\n",
    "import matplotlib.pyplot as plt\n",
    "import seaborn as sns\n",
    "import re\n",
    "\n",
    "from nltk.stem import WordNetLemmatizer, PorterStemmer, SnowballStemmer\n",
    "from nltk.tokenize import sent_tokenize, word_tokenize, RegexpTokenizer\n",
    "\n",
    "from nltk.corpus import stopwords\n",
    "from nltk.sentiment.vader import SentimentIntensityAnalyzer\n",
    "\n",
    "from sklearn.model_selection import train_test_split, GridSearchCV\n",
    "from sklearn.pipeline import Pipeline\n",
    "from sklearn.naive_bayes import MultinomialNB\n",
    "from sklearn.linear_model import LogisticRegression\n",
    "from sklearn.neighbors import KNeighborsClassifier\n",
    "from sklearn.metrics import confusion_matrix, plot_confusion_matrix\n",
    "\n",
    "from sklearn.feature_extraction.text import CountVectorizer, TfidfVectorizer\n",
    "from sklearn.tree import DecisionTreeClassifier\n",
    "from sklearn.ensemble import BaggingClassifier, RandomForestClassifier, ExtraTreesClassifier"
   ]
  },
  {
   "cell_type": "code",
   "execution_count": 2,
   "id": "f87b305f",
   "metadata": {},
   "outputs": [],
   "source": [
    "crypto_df = pd.read_csv('../data/cryptocurrency.csv')\n",
    "stocks_df = pd.read_csv('../data/stocks.csv')\n",
    "\n",
    "main_df = pd.concat([crypto_df,stocks_df])[['subreddit','selftext','title']]\n",
    "main_df.reset_index(inplace=True)\n",
    "main_df.drop(labels='index', inplace=True, axis=1)"
   ]
  },
  {
   "cell_type": "code",
   "execution_count": 3,
   "id": "bfe1de26",
   "metadata": {},
   "outputs": [
    {
     "data": {
      "text/plain": [
       "subreddit    0\n",
       "selftext     0\n",
       "title        0\n",
       "dtype: int64"
      ]
     },
     "execution_count": 3,
     "metadata": {},
     "output_type": "execute_result"
    }
   ],
   "source": [
    "main_df.isnull().sum()"
   ]
  },
  {
   "cell_type": "markdown",
   "id": "5f1ae7b4",
   "metadata": {},
   "source": [
    "### Data Cleaning"
   ]
  },
  {
   "cell_type": "code",
   "execution_count": 4,
   "id": "018f5dc1",
   "metadata": {},
   "outputs": [
    {
     "data": {
      "text/html": [
       "<div>\n",
       "<style scoped>\n",
       "    .dataframe tbody tr th:only-of-type {\n",
       "        vertical-align: middle;\n",
       "    }\n",
       "\n",
       "    .dataframe tbody tr th {\n",
       "        vertical-align: top;\n",
       "    }\n",
       "\n",
       "    .dataframe thead th {\n",
       "        text-align: right;\n",
       "    }\n",
       "</style>\n",
       "<table border=\"1\" class=\"dataframe\">\n",
       "  <thead>\n",
       "    <tr style=\"text-align: right;\">\n",
       "      <th></th>\n",
       "      <th>subreddit</th>\n",
       "      <th>selftext</th>\n",
       "      <th>title</th>\n",
       "    </tr>\n",
       "  </thead>\n",
       "  <tbody>\n",
       "    <tr>\n",
       "      <th>0</th>\n",
       "      <td>CryptoCurrency</td>\n",
       "      <td>I'm pretty new to crypto, just got in this yea...</td>\n",
       "      <td>Not Your Keys, Not Your Coin</td>\n",
       "    </tr>\n",
       "    <tr>\n",
       "      <th>1</th>\n",
       "      <td>CryptoCurrency</td>\n",
       "      <td>Coinbase will not be launching its crypto lend...</td>\n",
       "      <td>The SEC bullied coinbase into dropping their 4...</td>\n",
       "    </tr>\n",
       "    <tr>\n",
       "      <th>2</th>\n",
       "      <td>CryptoCurrency</td>\n",
       "      <td>I strongly believe Ryan Reynolds and Rob McElh...</td>\n",
       "      <td>Wrexham Football Club as a DAO</td>\n",
       "    </tr>\n",
       "    <tr>\n",
       "      <th>3</th>\n",
       "      <td>CryptoCurrency</td>\n",
       "      <td>You will want to take your ALGOs off any excha...</td>\n",
       "      <td>ALGO hodlers, don't forget governance starts O...</td>\n",
       "    </tr>\n",
       "    <tr>\n",
       "      <th>4</th>\n",
       "      <td>CryptoCurrency</td>\n",
       "      <td>If you're bringing up mobile phones, smart dev...</td>\n",
       "      <td>Blockchain's relevance- The link between milit...</td>\n",
       "    </tr>\n",
       "  </tbody>\n",
       "</table>\n",
       "</div>"
      ],
      "text/plain": [
       "        subreddit                                           selftext  \\\n",
       "0  CryptoCurrency  I'm pretty new to crypto, just got in this yea...   \n",
       "1  CryptoCurrency  Coinbase will not be launching its crypto lend...   \n",
       "2  CryptoCurrency  I strongly believe Ryan Reynolds and Rob McElh...   \n",
       "3  CryptoCurrency  You will want to take your ALGOs off any excha...   \n",
       "4  CryptoCurrency  If you're bringing up mobile phones, smart dev...   \n",
       "\n",
       "                                               title  \n",
       "0                       Not Your Keys, Not Your Coin  \n",
       "1  The SEC bullied coinbase into dropping their 4...  \n",
       "2                     Wrexham Football Club as a DAO  \n",
       "3  ALGO hodlers, don't forget governance starts O...  \n",
       "4  Blockchain's relevance- The link between milit...  "
      ]
     },
     "execution_count": 4,
     "metadata": {},
     "output_type": "execute_result"
    }
   ],
   "source": [
    "main_df.head()"
   ]
  },
  {
   "cell_type": "code",
   "execution_count": 5,
   "id": "43221050",
   "metadata": {},
   "outputs": [
    {
     "data": {
      "text/html": [
       "<div>\n",
       "<style scoped>\n",
       "    .dataframe tbody tr th:only-of-type {\n",
       "        vertical-align: middle;\n",
       "    }\n",
       "\n",
       "    .dataframe tbody tr th {\n",
       "        vertical-align: top;\n",
       "    }\n",
       "\n",
       "    .dataframe thead th {\n",
       "        text-align: right;\n",
       "    }\n",
       "</style>\n",
       "<table border=\"1\" class=\"dataframe\">\n",
       "  <thead>\n",
       "    <tr style=\"text-align: right;\">\n",
       "      <th></th>\n",
       "      <th>subreddit</th>\n",
       "      <th>selftext</th>\n",
       "      <th>title</th>\n",
       "    </tr>\n",
       "  </thead>\n",
       "  <tbody>\n",
       "    <tr>\n",
       "      <th>2025</th>\n",
       "      <td>stocks</td>\n",
       "      <td>Hi all -- I'm hoping for help understanding wh...</td>\n",
       "      <td>Help requested: What is my 401(k) invested in?</td>\n",
       "    </tr>\n",
       "    <tr>\n",
       "      <th>2026</th>\n",
       "      <td>stocks</td>\n",
       "      <td>Obviously tobacco consumption has declined con...</td>\n",
       "      <td>Looking to get into weed/vape/tobacco companie...</td>\n",
       "    </tr>\n",
       "    <tr>\n",
       "      <th>2027</th>\n",
       "      <td>stocks</td>\n",
       "      <td>Hey guys. I have been using free tools until n...</td>\n",
       "      <td>What tools/services are worth paying for?</td>\n",
       "    </tr>\n",
       "    <tr>\n",
       "      <th>2028</th>\n",
       "      <td>stocks</td>\n",
       "      <td>What happens to stocks when the company goes b...</td>\n",
       "      <td>Can hedge funds or retail still own stock in a...</td>\n",
       "    </tr>\n",
       "    <tr>\n",
       "      <th>2029</th>\n",
       "      <td>stocks</td>\n",
       "      <td>I have 40k in my Charles Schwab account.  My I...</td>\n",
       "      <td>Another annoying question about what I should ...</td>\n",
       "    </tr>\n",
       "  </tbody>\n",
       "</table>\n",
       "</div>"
      ],
      "text/plain": [
       "     subreddit                                           selftext  \\\n",
       "2025    stocks  Hi all -- I'm hoping for help understanding wh...   \n",
       "2026    stocks  Obviously tobacco consumption has declined con...   \n",
       "2027    stocks  Hey guys. I have been using free tools until n...   \n",
       "2028    stocks  What happens to stocks when the company goes b...   \n",
       "2029    stocks  I have 40k in my Charles Schwab account.  My I...   \n",
       "\n",
       "                                                  title  \n",
       "2025     Help requested: What is my 401(k) invested in?  \n",
       "2026  Looking to get into weed/vape/tobacco companie...  \n",
       "2027          What tools/services are worth paying for?  \n",
       "2028  Can hedge funds or retail still own stock in a...  \n",
       "2029  Another annoying question about what I should ...  "
      ]
     },
     "execution_count": 5,
     "metadata": {},
     "output_type": "execute_result"
    }
   ],
   "source": [
    "main_df.tail()"
   ]
  },
  {
   "cell_type": "code",
   "execution_count": null,
   "id": "72d21782",
   "metadata": {},
   "outputs": [],
   "source": []
  },
  {
   "cell_type": "markdown",
   "id": "7eb9c13e",
   "metadata": {},
   "source": [
    "#### Initialise helper methods for data cleaning and confusion matrix plotting"
   ]
  },
  {
   "cell_type": "code",
   "execution_count": 6,
   "id": "0747f82e",
   "metadata": {},
   "outputs": [],
   "source": [
    "def clean_data(data):\n",
    "    url_regex = r'https?:\\/\\/(www\\.)?[-a-zA-Z0-9@:%._\\+~#=]{1,256}\\.[a-zA-Z0-9()]{1,6}\\b([-a-zA-Z0-9()@:%_\\+.~#?&\\/\\/=]*)(;\\w+.?\\w+)?'\n",
    "    num_regex = r'\\d+'\n",
    "    word_regex = r\"(\\w+'*\\w+)\"#r'[A-Za-z]+'\n",
    "    non_word_regex = r'(\\&amp)[&;â€œ™,.]'\n",
    "    x = re.sub(url_regex,'',data)\n",
    "    x = re.sub(num_regex,'',x)\n",
    "    word_tokenizer = RegexpTokenizer(word_regex)\n",
    "    x = word_tokenizer.tokenize(x.lower())\n",
    "    tokenizer = RegexpTokenizer(r'[?!\\W+]')\n",
    "    tmp_lst = list(filter(None,[re.sub(non_word_regex,'',i) for i in x]))\n",
    "    lemmatizer = WordNetLemmatizer()\n",
    "    lemma_tmp = [lemmatizer.lemmatize(tok) for tok in tmp_lst]\n",
    "#     snow_stem = SnowballStemmer(language='english')\n",
    "#     snow_tmp = [snow_stem.stem(tok) for tok in tmp_lst]\n",
    "#     p_stemmer = PorterStemmer()\n",
    "#     stem_tmp = [p_stemmer.stem(tok) for tok in tmp_lst]\n",
    "    return ' '.join(lemma_tmp)"
   ]
  },
  {
   "cell_type": "code",
   "execution_count": 7,
   "id": "6784d69e",
   "metadata": {},
   "outputs": [],
   "source": [
    "def metrics_and_plot_cm(classifier, X, y):\n",
    "    preds = classifier.predict(X)\n",
    "    tn, fp, fn, tp = confusion_matrix(y, preds).ravel()\n",
    "    acc = (tp + tn) / (tn + fp + fn + tp)\n",
    "    misclass = 1 - acc\n",
    "    sens = tp / (tp + fn)\n",
    "    spec = tn / (tn + fp)\n",
    "    prec = tp / (tp + fp)\n",
    "    results = {\n",
    "        'Accuracy': acc,\n",
    "        'Misclassification Rate': misclass,\n",
    "        'Sensitivity': sens,\n",
    "        'Specificity': spec,\n",
    "        'Precision': prec\n",
    "    }\n",
    "    metrics = pd.DataFrame({\n",
    "        'Metric': results.keys(),\n",
    "        'Score': results.values()\n",
    "        })\n",
    "    plot_confusion_matrix(classifier, X, y, cmap='Blues', values_format='d');\n",
    "    return metrics"
   ]
  },
  {
   "cell_type": "code",
   "execution_count": 8,
   "id": "ab88e2b0",
   "metadata": {},
   "outputs": [],
   "source": [
    "def compare_cvec_tvec(df):\n",
    "    cvec = CountVectorizer(stop_words=list_of_stopwords)\n",
    "    tvec = TfidfVectorizer(stop_words=list_of_stopwords)\n",
    "    cvec_sc = cvec.fit_transform(df)\n",
    "    cvec_df = pd.DataFrame(cvec_sc.todense(), columns=cvec.get_feature_names())\n",
    "    tvec_sc = tvec.fit_transform(df)\n",
    "    tvec_df = pd.DataFrame(tvec_sc.todense(), columns=tvec.get_feature_names())\n",
    "    \n",
    "    fig, ax = plt.subplots(nrows=1, ncols=2, figsize=(20,15))\n",
    "    cvec_df.sum().sort_values(ascending=False).head(30).plot(kind='barh', ax=ax[0])\n",
    "    tvec_df.sum().sort_values(ascending=False).head(30).plot(kind='barh', ax=ax[1])\n",
    "    ax[0].set_title('Count Vectorizer Word Count', fontweight='bold')\n",
    "    ax[0].set_xlabel('Count')\n",
    "    ax[0].set_ylabel('Word')\n",
    "    ax[1].set_title('TFIDF Vectorizer Word Count', fontweight='bold')\n",
    "    ax[1].set_xlabel('Count')\n",
    "    ax[1].set_ylabel('Word')\n",
    "    "
   ]
  },
  {
   "cell_type": "markdown",
   "id": "69536453",
   "metadata": {},
   "source": [
    "#### Merge selftext and title as a combined feature to use as X"
   ]
  },
  {
   "cell_type": "code",
   "execution_count": 11,
   "id": "5f48fefa",
   "metadata": {
    "scrolled": false
   },
   "outputs": [],
   "source": [
    "main_df['selftext_title'] = main_df['selftext'] + main_df['title']"
   ]
  },
  {
   "cell_type": "code",
   "execution_count": 12,
   "id": "32814be2",
   "metadata": {},
   "outputs": [],
   "source": [
    "main_df['selftext_title'] = main_df['selftext_title'].apply(clean_data)"
   ]
  },
  {
   "cell_type": "code",
   "execution_count": 13,
   "id": "12a3e8a5",
   "metadata": {},
   "outputs": [
    {
     "data": {
      "text/html": [
       "<div>\n",
       "<style scoped>\n",
       "    .dataframe tbody tr th:only-of-type {\n",
       "        vertical-align: middle;\n",
       "    }\n",
       "\n",
       "    .dataframe tbody tr th {\n",
       "        vertical-align: top;\n",
       "    }\n",
       "\n",
       "    .dataframe thead th {\n",
       "        text-align: right;\n",
       "    }\n",
       "</style>\n",
       "<table border=\"1\" class=\"dataframe\">\n",
       "  <thead>\n",
       "    <tr style=\"text-align: right;\">\n",
       "      <th></th>\n",
       "      <th>subreddit</th>\n",
       "      <th>selftext</th>\n",
       "      <th>title</th>\n",
       "      <th>selftext_title</th>\n",
       "    </tr>\n",
       "  </thead>\n",
       "  <tbody>\n",
       "    <tr>\n",
       "      <th>0</th>\n",
       "      <td>CryptoCurrency</td>\n",
       "      <td>I'm pretty new to crypto, just got in this yea...</td>\n",
       "      <td>Not Your Keys, Not Your Coin</td>\n",
       "      <td>i'm pretty new to crypto just got in this year...</td>\n",
       "    </tr>\n",
       "    <tr>\n",
       "      <th>1</th>\n",
       "      <td>CryptoCurrency</td>\n",
       "      <td>Coinbase will not be launching its crypto lend...</td>\n",
       "      <td>The SEC bullied coinbase into dropping their 4...</td>\n",
       "      <td>coinbase will not be launching it crypto lendi...</td>\n",
       "    </tr>\n",
       "    <tr>\n",
       "      <th>2</th>\n",
       "      <td>CryptoCurrency</td>\n",
       "      <td>I strongly believe Ryan Reynolds and Rob McElh...</td>\n",
       "      <td>Wrexham Football Club as a DAO</td>\n",
       "      <td>strongly believe ryan reynolds and rob mcelhen...</td>\n",
       "    </tr>\n",
       "    <tr>\n",
       "      <th>3</th>\n",
       "      <td>CryptoCurrency</td>\n",
       "      <td>You will want to take your ALGOs off any excha...</td>\n",
       "      <td>ALGO hodlers, don't forget governance starts O...</td>\n",
       "      <td>you will want to take your algos off any excha...</td>\n",
       "    </tr>\n",
       "    <tr>\n",
       "      <th>4</th>\n",
       "      <td>CryptoCurrency</td>\n",
       "      <td>If you're bringing up mobile phones, smart dev...</td>\n",
       "      <td>Blockchain's relevance- The link between milit...</td>\n",
       "      <td>if you're bringing up mobile phone smart devic...</td>\n",
       "    </tr>\n",
       "  </tbody>\n",
       "</table>\n",
       "</div>"
      ],
      "text/plain": [
       "        subreddit                                           selftext  \\\n",
       "0  CryptoCurrency  I'm pretty new to crypto, just got in this yea...   \n",
       "1  CryptoCurrency  Coinbase will not be launching its crypto lend...   \n",
       "2  CryptoCurrency  I strongly believe Ryan Reynolds and Rob McElh...   \n",
       "3  CryptoCurrency  You will want to take your ALGOs off any excha...   \n",
       "4  CryptoCurrency  If you're bringing up mobile phones, smart dev...   \n",
       "\n",
       "                                               title  \\\n",
       "0                       Not Your Keys, Not Your Coin   \n",
       "1  The SEC bullied coinbase into dropping their 4...   \n",
       "2                     Wrexham Football Club as a DAO   \n",
       "3  ALGO hodlers, don't forget governance starts O...   \n",
       "4  Blockchain's relevance- The link between milit...   \n",
       "\n",
       "                                      selftext_title  \n",
       "0  i'm pretty new to crypto just got in this year...  \n",
       "1  coinbase will not be launching it crypto lendi...  \n",
       "2  strongly believe ryan reynolds and rob mcelhen...  \n",
       "3  you will want to take your algos off any excha...  \n",
       "4  if you're bringing up mobile phone smart devic...  "
      ]
     },
     "execution_count": 13,
     "metadata": {},
     "output_type": "execute_result"
    }
   ],
   "source": [
    "main_df.head(5)"
   ]
  },
  {
   "cell_type": "markdown",
   "id": "3a5a3db1",
   "metadata": {},
   "source": [
    "#### Map results of subreddit to 1 and 0"
   ]
  },
  {
   "cell_type": "code",
   "execution_count": 14,
   "id": "6448d435",
   "metadata": {},
   "outputs": [],
   "source": [
    "main_df['subreddit'] = main_df['subreddit'].map({'CryptoCurrency':1, 'stocks':0})\n",
    "# main_df['subreddit'] = main_df['subreddit'].map({'CryptoCurrency':1, 'wallstreetbets':0})"
   ]
  },
  {
   "cell_type": "code",
   "execution_count": 15,
   "id": "9924fe05",
   "metadata": {},
   "outputs": [],
   "source": [
    "X = main_df['selftext_title']\n",
    "y = main_df['subreddit']"
   ]
  },
  {
   "cell_type": "code",
   "execution_count": 16,
   "id": "62b1c9ab",
   "metadata": {},
   "outputs": [
    {
     "data": {
      "text/plain": [
       "0    0.500985\n",
       "1    0.499015\n",
       "Name: subreddit, dtype: float64"
      ]
     },
     "execution_count": 16,
     "metadata": {},
     "output_type": "execute_result"
    }
   ],
   "source": [
    "y.value_counts(normalize=True)"
   ]
  },
  {
   "cell_type": "markdown",
   "id": "52d9c179",
   "metadata": {},
   "source": [
    "#### Stopwords"
   ]
  },
  {
   "cell_type": "markdown",
   "id": "349db038",
   "metadata": {},
   "source": [
    "Here, we use the base package of stopwords from the english language in the CountVectorizer library. This will allow us to exclude basic common terms which are uninformative in representing the context and content of the subreddit.\n",
    "\n",
    "Additionally, to prevent overfitting the model with very easily classifiable words to the subreddit, we add and combine our own list of stopwords, which will be used across our models."
   ]
  },
  {
   "cell_type": "code",
   "execution_count": 9,
   "id": "3172268e",
   "metadata": {},
   "outputs": [],
   "source": [
    "eng_stopwords = list(CountVectorizer(stop_words='english').get_stop_words())\n",
    "self_def_stopwords = ['cryptocurrency','crypto','stocks','stock','amp','share','like','just','make','shares','market','buy','people','time','don','money','price','companies','company','new','know','bitcoin','ethereum','ve','coin','btc','eth','long','day','good','year','think','going','gt','want', 'dip', 'news', 'years', 'sell','need', 'week','blockchain','coins','lot','said','term','way','use','trading','ha','wa','thi']\n",
    "list_of_stopwords = eng_stopwords + self_def_stopwords"
   ]
  },
  {
   "cell_type": "code",
   "execution_count": null,
   "id": "f7d37b7c",
   "metadata": {},
   "outputs": [],
   "source": []
  },
  {
   "cell_type": "markdown",
   "id": "0083d75e",
   "metadata": {},
   "source": [
    "#### TODO: Create function to take in and compare words from Lemmatizer and Stemmer\n",
    "Show 2 charts side by side for comparison. <br>\n",
    "Explain choice of lemmatising vs stemmer"
   ]
  },
  {
   "cell_type": "markdown",
   "id": "5c2dd8c2",
   "metadata": {},
   "source": [
    "#### Comparison of top 30 word counts between CountVectorizer and TFIDFVectorizer"
   ]
  },
  {
   "cell_type": "markdown",
   "id": "be475115",
   "metadata": {},
   "source": [
    "From the charts below in comparison with our stopwords, we can see that CountVectorizer, which tends to only count the highest frequency of words, picks out words that are commonly used within our subreddits.\n",
    "\n",
    "TFIDFVectorizer on the other hand, is able to pick up much more relatable words to the topic instead.\n",
    "\n",
    "We will also see the comparison of CountVectorizer and TFIDFVectorizer later in our models, and we will notice that models using TFIDFVectorizer tend to provide better results"
   ]
  },
  {
   "cell_type": "code",
   "execution_count": 17,
   "id": "69114997",
   "metadata": {},
   "outputs": [
    {
     "data": {
      "image/png": "[encoded data removed]",
      "text/plain": [
       "<Figure size 1440x1080 with 2 Axes>"
      ]
     },
     "metadata": {
      "needs_background": "light"
     },
     "output_type": "display_data"
    }
   ],
   "source": [
    "compare_cvec_tvec(main_df['selftext_title'])"
   ]
  },
  {
   "cell_type": "code",
   "execution_count": null,
   "id": "e7c2f8b4",
   "metadata": {},
   "outputs": [],
   "source": []
  },
  {
   "cell_type": "code",
   "execution_count": null,
   "id": "da89416c",
   "metadata": {},
   "outputs": [],
   "source": []
  },
  {
   "cell_type": "markdown",
   "id": "29f54eda",
   "metadata": {},
   "source": [
    "### Train Test and Split"
   ]
  },
  {
   "cell_type": "code",
   "execution_count": null,
   "id": "10fb5ac2",
   "metadata": {},
   "outputs": [],
   "source": [
    "X_train, X_test, y_train, y_test = train_test_split(X, y, train_size=0.8, stratify=y, random_state=42)"
   ]
  },
  {
   "cell_type": "code",
   "execution_count": null,
   "id": "502c8895",
   "metadata": {},
   "outputs": [],
   "source": []
  },
  {
   "cell_type": "code",
   "execution_count": null,
   "id": "cbe4c7f3",
   "metadata": {},
   "outputs": [],
   "source": [
    "cvec = CountVectorizer(stop_words=list_of_stopwords, ngram_range=(1,2))\n",
    "cvec.fit(X_train)"
   ]
  },
  {
   "cell_type": "code",
   "execution_count": null,
   "id": "6e8ee465",
   "metadata": {},
   "outputs": [],
   "source": [
    "X_train_sc = cvec.transform(X_train)"
   ]
  },
  {
   "cell_type": "code",
   "execution_count": null,
   "id": "aac05469",
   "metadata": {},
   "outputs": [],
   "source": [
    "X_train_sc"
   ]
  },
  {
   "cell_type": "code",
   "execution_count": null,
   "id": "0f018529",
   "metadata": {},
   "outputs": [],
   "source": [
    "X_train_df = pd.DataFrame(X_train_sc.todense(),\n",
    "                         columns=cvec.get_feature_names())"
   ]
  },
  {
   "cell_type": "code",
   "execution_count": null,
   "id": "a14a26f1",
   "metadata": {},
   "outputs": [],
   "source": [
    "X_train_df.sum().sort_values(ascending=False).head(40).index"
   ]
  },
  {
   "cell_type": "code",
   "execution_count": null,
   "id": "89930f2a",
   "metadata": {
    "scrolled": false
   },
   "outputs": [],
   "source": [
    "plt.figure(figsize=(15,15))\n",
    "X_train_df.sum().sort_values(ascending=False).head(40).plot(kind='barh')"
   ]
  },
  {
   "cell_type": "code",
   "execution_count": null,
   "id": "4d9a3f41",
   "metadata": {},
   "outputs": [],
   "source": []
  },
  {
   "cell_type": "markdown",
   "id": "a2fb9d73",
   "metadata": {},
   "source": [
    "### Logistic Regression"
   ]
  },
  {
   "cell_type": "markdown",
   "id": "22bf00ad",
   "metadata": {},
   "source": [
    "#### CountVectorizer with Logistic Regression"
   ]
  },
  {
   "cell_type": "code",
   "execution_count": null,
   "id": "9c121f5a",
   "metadata": {},
   "outputs": [],
   "source": [
    "pipe_cvec_logreg = Pipeline([\n",
    "    ('cvec', CountVectorizer(stop_words=list_of_stopwords)),\n",
    "    ('logreg',LogisticRegression()),\n",
    "])"
   ]
  },
  {
   "cell_type": "code",
   "execution_count": null,
   "id": "5abf8555",
   "metadata": {},
   "outputs": [],
   "source": [
    "# pipe_logreg_params = {\n",
    "#     'cvec__max_features': [None,2000,3000,4000,5000],\n",
    "#     'cvec__min_df': [2,3],\n",
    "#     'cvec__max_df': [.85,.9,.95],\n",
    "#     'cvec__ngram_range': [(1,1),(1,2),(1,3)],\n",
    "# }\n",
    "\n",
    "\n",
    "pipe_cvec_logreg_params = {\n",
    "    'cvec__max_features': [None],\n",
    "    'cvec__min_df': [.01],\n",
    "    'cvec__max_df': [.85],\n",
    "    'cvec__ngram_range': [(1,2)],\n",
    "}"
   ]
  },
  {
   "cell_type": "code",
   "execution_count": null,
   "id": "edcf8adb",
   "metadata": {},
   "outputs": [],
   "source": [
    "gs_cvec_logreg = GridSearchCV(pipe_cvec_logreg, param_grid=pipe_cvec_logreg_params, cv=5)"
   ]
  },
  {
   "cell_type": "code",
   "execution_count": null,
   "id": "94158592",
   "metadata": {},
   "outputs": [],
   "source": [
    "gs_cvec_logreg.fit(X_train,y_train)"
   ]
  },
  {
   "cell_type": "code",
   "execution_count": null,
   "id": "88ccfe37",
   "metadata": {},
   "outputs": [],
   "source": [
    "gs_cvec_logreg.best_score_"
   ]
  },
  {
   "cell_type": "code",
   "execution_count": null,
   "id": "ddb431e4",
   "metadata": {},
   "outputs": [],
   "source": [
    "gs_cvec_logreg.best_params_"
   ]
  },
  {
   "cell_type": "code",
   "execution_count": null,
   "id": "712b59ba",
   "metadata": {},
   "outputs": [],
   "source": [
    "gs_cvec_logreg.score(X_train,y_train)"
   ]
  },
  {
   "cell_type": "code",
   "execution_count": null,
   "id": "b9964209",
   "metadata": {},
   "outputs": [],
   "source": [
    "gs_cvec_logreg.score(X_test, y_test)"
   ]
  },
  {
   "cell_type": "code",
   "execution_count": null,
   "id": "9791caca",
   "metadata": {},
   "outputs": [],
   "source": [
    "metrics_and_plot_cm(gs_cvec_logreg,X_test, y_test)"
   ]
  },
  {
   "cell_type": "markdown",
   "id": "7525531f",
   "metadata": {},
   "source": [
    "#### TFIDF Vectorizer with Logistic Regression"
   ]
  },
  {
   "cell_type": "code",
   "execution_count": null,
   "id": "c470874a",
   "metadata": {},
   "outputs": [],
   "source": [
    "pipe_tvec_logreg = Pipeline([\n",
    "    ('tvec', TfidfVectorizer(stop_words=list_of_stopwords)),\n",
    "    ('logreg',LogisticRegression()),\n",
    "])"
   ]
  },
  {
   "cell_type": "code",
   "execution_count": null,
   "id": "68cb9769",
   "metadata": {},
   "outputs": [],
   "source": [
    "# pipe_logreg_tvec_params = {\n",
    "#     'tvec__max_features': [None,2000,3000,4000,5000],\n",
    "#     'tvec__min_df': [2,3],\n",
    "#     'tvec__max_df': [.85,.9,.95],\n",
    "#     'tvec__ngram_range': [(1,1),(1,2),(1,3)],\n",
    "# }\n",
    "\n",
    "pipe_tvec_logreg_params = {\n",
    "    'tvec__max_features': [None],\n",
    "    'tvec__min_df': [.01],\n",
    "    'tvec__max_df': [.85],\n",
    "    'tvec__ngram_range': [(1,3)],\n",
    "}"
   ]
  },
  {
   "cell_type": "code",
   "execution_count": null,
   "id": "1c7abfaf",
   "metadata": {},
   "outputs": [],
   "source": [
    "gs_tvec_logreg = GridSearchCV(pipe_tvec_logreg, param_grid=pipe_tvec_logreg_params, cv=5)"
   ]
  },
  {
   "cell_type": "code",
   "execution_count": null,
   "id": "f812c3d6",
   "metadata": {},
   "outputs": [],
   "source": [
    "%%time\n",
    "gs_tvec_logreg.fit(X_train,y_train)"
   ]
  },
  {
   "cell_type": "code",
   "execution_count": null,
   "id": "f3281150",
   "metadata": {},
   "outputs": [],
   "source": [
    "gs_tvec_logreg.best_score_"
   ]
  },
  {
   "cell_type": "code",
   "execution_count": null,
   "id": "53aa3aff",
   "metadata": {},
   "outputs": [],
   "source": [
    "gs_tvec_logreg.best_params_"
   ]
  },
  {
   "cell_type": "code",
   "execution_count": null,
   "id": "0797653a",
   "metadata": {},
   "outputs": [],
   "source": [
    "gs_tvec_logreg.score(X_train,y_train)"
   ]
  },
  {
   "cell_type": "code",
   "execution_count": null,
   "id": "3866ac61",
   "metadata": {},
   "outputs": [],
   "source": [
    "gs_tvec_logreg.score(X_test, y_test)"
   ]
  },
  {
   "cell_type": "code",
   "execution_count": null,
   "id": "3b62af50",
   "metadata": {},
   "outputs": [],
   "source": [
    "metrics_and_plot_cm(gs_tvec_logreg,X_test, y_test)"
   ]
  },
  {
   "cell_type": "markdown",
   "id": "3b23777f",
   "metadata": {},
   "source": [
    "#### CountVectorizer with k-NN Classifier"
   ]
  },
  {
   "cell_type": "code",
   "execution_count": null,
   "id": "f758cb06",
   "metadata": {},
   "outputs": [],
   "source": [
    "pipe_cvec_knn = Pipeline([\n",
    "    ('cvec', CountVectorizer(stop_words=list_of_stopwords)),\n",
    "    ('knn',KNeighborsClassifier()),\n",
    "])"
   ]
  },
  {
   "cell_type": "code",
   "execution_count": null,
   "id": "4d69e5f9",
   "metadata": {},
   "outputs": [],
   "source": [
    "# pipe_cvec_knn_params = {\n",
    "#     'cvec__max_features': [None,2000,3000,4000,5000],\n",
    "#     'cvec__min_df': [2,3],\n",
    "#     'cvec__max_df': [.85],\n",
    "#     'cvec__ngram_range': [(1,1),(1,2),(1,3)],\n",
    "#     'knn__n_neighbors': [5,6,7,8,9,10],\n",
    "\n",
    "# }\n",
    "\n",
    "pipe_cvec_knn_params = {\n",
    "    'cvec__max_features': [None],\n",
    "    'cvec__min_df': [.01],\n",
    "    'cvec__max_df': [.85],\n",
    "    'cvec__ngram_range': [(1,1)],\n",
    "    'knn__n_neighbors': [13],\n",
    "\n",
    "}\n",
    "\n"
   ]
  },
  {
   "cell_type": "code",
   "execution_count": null,
   "id": "8f75aeb5",
   "metadata": {},
   "outputs": [],
   "source": [
    "gs_cvec_knn = GridSearchCV(pipe_cvec_knn, param_grid=pipe_cvec_knn_params, cv=5, verbose=1)"
   ]
  },
  {
   "cell_type": "code",
   "execution_count": null,
   "id": "d6b20bd5",
   "metadata": {
    "scrolled": false
   },
   "outputs": [],
   "source": [
    "%%time\n",
    "gs_cvec_knn.fit(X_train, y_train)"
   ]
  },
  {
   "cell_type": "code",
   "execution_count": null,
   "id": "5db45e11",
   "metadata": {},
   "outputs": [],
   "source": [
    "gs_cvec_knn.best_params_"
   ]
  },
  {
   "cell_type": "code",
   "execution_count": null,
   "id": "8a6c4fb3",
   "metadata": {},
   "outputs": [],
   "source": [
    "gs_cvec_knn.score(X_train, y_train)"
   ]
  },
  {
   "cell_type": "code",
   "execution_count": null,
   "id": "1a859b39",
   "metadata": {},
   "outputs": [],
   "source": [
    "gs_cvec_knn.score(X_test,y_test)"
   ]
  },
  {
   "cell_type": "code",
   "execution_count": null,
   "id": "085a700e",
   "metadata": {},
   "outputs": [],
   "source": [
    "metrics_and_plot_cm(gs_cvec_knn,X_test, y_test)"
   ]
  },
  {
   "cell_type": "markdown",
   "id": "5555398e",
   "metadata": {},
   "source": [
    "#### TFIDF Vectorizer with k-NN Classifier"
   ]
  },
  {
   "cell_type": "code",
   "execution_count": null,
   "id": "375ebb28",
   "metadata": {},
   "outputs": [],
   "source": [
    "pipe_tvec_knn = Pipeline([\n",
    "    ('tvec', TfidfVectorizer(stop_words=list_of_stopwords)),\n",
    "    ('knn',KNeighborsClassifier()),\n",
    "])"
   ]
  },
  {
   "cell_type": "code",
   "execution_count": null,
   "id": "68e39a5c",
   "metadata": {},
   "outputs": [],
   "source": [
    "pipe_tvec_knn_params = {\n",
    "    'tvec__max_features': [None],\n",
    "     'tvec__min_df': [.01],\n",
    "    'tvec__max_df': [.9],\n",
    "    'tvec__ngram_range': [(1,1)],\n",
    "    'knn__n_neighbors': [13],\n",
    "\n",
    "}"
   ]
  },
  {
   "cell_type": "code",
   "execution_count": null,
   "id": "74e1150a",
   "metadata": {},
   "outputs": [],
   "source": [
    "gs_tvec_knn = GridSearchCV(pipe_tvec_knn, param_grid=pipe_tvec_knn_params, cv=5, verbose=1)"
   ]
  },
  {
   "cell_type": "code",
   "execution_count": null,
   "id": "53fd5b77",
   "metadata": {
    "scrolled": true
   },
   "outputs": [],
   "source": [
    "%%time\n",
    "gs_tvec_knn.fit(X_train, y_train)"
   ]
  },
  {
   "cell_type": "code",
   "execution_count": null,
   "id": "6e8a4153",
   "metadata": {},
   "outputs": [],
   "source": [
    "gs_tvec_knn.best_params_"
   ]
  },
  {
   "cell_type": "code",
   "execution_count": null,
   "id": "b8d6400e",
   "metadata": {},
   "outputs": [],
   "source": [
    "gs_tvec_knn.best_score_"
   ]
  },
  {
   "cell_type": "code",
   "execution_count": null,
   "id": "39786bf0",
   "metadata": {},
   "outputs": [],
   "source": [
    "gs_tvec_knn.score(X_train, y_train)"
   ]
  },
  {
   "cell_type": "code",
   "execution_count": null,
   "id": "2a383168",
   "metadata": {},
   "outputs": [],
   "source": [
    "gs_tvec_knn.score(X_test, y_test)"
   ]
  },
  {
   "cell_type": "code",
   "execution_count": null,
   "id": "30277b48",
   "metadata": {},
   "outputs": [],
   "source": [
    "metrics_and_plot_cm(gs_tvec_knn,X_test, y_test)"
   ]
  },
  {
   "cell_type": "markdown",
   "id": "3997abff",
   "metadata": {},
   "source": [
    "#### Using CountVectorizer with Naive Bayes"
   ]
  },
  {
   "cell_type": "code",
   "execution_count": null,
   "id": "142114f8",
   "metadata": {},
   "outputs": [],
   "source": [
    "pipe_cvec_nb = Pipeline([\n",
    "    ('cvec', CountVectorizer(stop_words=list_of_stopwords)),\n",
    "    ('nb', MultinomialNB())\n",
    "])"
   ]
  },
  {
   "cell_type": "code",
   "execution_count": null,
   "id": "bfe33aa2",
   "metadata": {},
   "outputs": [],
   "source": [
    "pipe_cvec_nb_params = {\n",
    "    'cvec__max_features': [None],\n",
    "    'cvec__min_df': [.01],\n",
    "    'cvec__max_df': [.9],\n",
    "    'cvec__ngram_range': [(1,2)],\n",
    "    'nb__alpha':[0.25]\n",
    "}"
   ]
  },
  {
   "cell_type": "code",
   "execution_count": null,
   "id": "f34d4923",
   "metadata": {},
   "outputs": [],
   "source": [
    "gs_cvec_nb = GridSearchCV(pipe_cvec_nb, param_grid=pipe_cvec_nb_params, cv=5, verbose=1)"
   ]
  },
  {
   "cell_type": "code",
   "execution_count": null,
   "id": "a28f19c4",
   "metadata": {},
   "outputs": [],
   "source": [
    "%%time\n",
    "gs_cvec_nb.fit(X_train, y_train)"
   ]
  },
  {
   "cell_type": "code",
   "execution_count": null,
   "id": "849dbeb7",
   "metadata": {
    "scrolled": true
   },
   "outputs": [],
   "source": [
    "print(gs_cvec_nb.best_score_)"
   ]
  },
  {
   "cell_type": "code",
   "execution_count": null,
   "id": "ec44b270",
   "metadata": {},
   "outputs": [],
   "source": [
    "gs_cvec_nb.best_params_"
   ]
  },
  {
   "cell_type": "code",
   "execution_count": null,
   "id": "ab697a21",
   "metadata": {},
   "outputs": [],
   "source": [
    "gs_cvec_nb.score(X_train, y_train)"
   ]
  },
  {
   "cell_type": "code",
   "execution_count": null,
   "id": "d08da03c",
   "metadata": {},
   "outputs": [],
   "source": [
    "gs_cvec_nb.score(X_test,y_test)"
   ]
  },
  {
   "cell_type": "code",
   "execution_count": null,
   "id": "b41f2b7c",
   "metadata": {},
   "outputs": [],
   "source": [
    "metrics_and_plot_cm(gs_cvec_nb,X_test, y_test)"
   ]
  },
  {
   "cell_type": "markdown",
   "id": "57d8a841",
   "metadata": {},
   "source": [
    "#### Using TFIDF Vectorizer with Naive Bayes Classifier"
   ]
  },
  {
   "cell_type": "code",
   "execution_count": null,
   "id": "ff1899a5",
   "metadata": {},
   "outputs": [],
   "source": [
    "pipe_tvec_nb = Pipeline([\n",
    "    ('tvec', TfidfVectorizer(stop_words=list_of_stopwords)),\n",
    "    ('nb', MultinomialNB())\n",
    "])"
   ]
  },
  {
   "cell_type": "code",
   "execution_count": null,
   "id": "b4acb375",
   "metadata": {},
   "outputs": [],
   "source": [
    "# pipe_tvec_nb_params = {\n",
    "#     'tvec__max_features': [None,2000,3000,4000],\n",
    "#     'tvec__min_df': [.2],\n",
    "#     'tvec__max_df': [.9,.95],\n",
    "#     'tvec__ngram_range': [(1,1),(1,2),(1,3)],\n",
    "#     'nb__alpha':[0.1,1,10]\n",
    "# }\n",
    "\n",
    "pipe_tvec_nb_params = {\n",
    "    'tvec__max_features': [None],\n",
    "    'tvec__min_df': [.01],\n",
    "    'tvec__max_df': [.9],\n",
    "    'tvec__ngram_range': [(1,1)],\n",
    "    'nb__alpha':[0.1]\n",
    "}\n"
   ]
  },
  {
   "cell_type": "code",
   "execution_count": null,
   "id": "3ee83d6b",
   "metadata": {},
   "outputs": [],
   "source": [
    "gs_tvec_nb = GridSearchCV(pipe_tvec_nb, param_grid=pipe_tvec_nb_params, cv=5, verbose=1)"
   ]
  },
  {
   "cell_type": "code",
   "execution_count": null,
   "id": "df5b13b8",
   "metadata": {},
   "outputs": [],
   "source": [
    "%%time\n",
    "gs_tvec_nb.fit(X_train, y_train)"
   ]
  },
  {
   "cell_type": "code",
   "execution_count": null,
   "id": "b927f9eb",
   "metadata": {},
   "outputs": [],
   "source": [
    "gs_tvec_nb.score(X_train,y_train)"
   ]
  },
  {
   "cell_type": "code",
   "execution_count": null,
   "id": "716e58fa",
   "metadata": {},
   "outputs": [],
   "source": [
    "gs_tvec_nb.score(X_test, y_test)"
   ]
  },
  {
   "cell_type": "code",
   "execution_count": null,
   "id": "953e0f49",
   "metadata": {},
   "outputs": [],
   "source": [
    "gs_tvec_nb.best_score_"
   ]
  },
  {
   "cell_type": "code",
   "execution_count": null,
   "id": "965e85fa",
   "metadata": {},
   "outputs": [],
   "source": [
    "metrics_and_plot_cm(gs_tvec_nb,X_test, y_test)"
   ]
  },
  {
   "cell_type": "markdown",
   "id": "d36cfe70",
   "metadata": {},
   "source": [
    "#### Using CountVectorizer with DecisionTreeClassifier"
   ]
  },
  {
   "cell_type": "code",
   "execution_count": null,
   "id": "2cfdd87a",
   "metadata": {},
   "outputs": [],
   "source": [
    "pipe_cvec_tree = Pipeline([\n",
    "    ('cvec', CountVectorizer(stop_words=list_of_stopwords)),\n",
    "    ('tree', DecisionTreeClassifier())\n",
    "])"
   ]
  },
  {
   "cell_type": "code",
   "execution_count": null,
   "id": "32c22c4c",
   "metadata": {},
   "outputs": [],
   "source": [
    "pipe_cvec_tree_params = {\n",
    "    'cvec__max_features': [None],\n",
    "    'cvec__min_df': [.01],\n",
    "    'cvec__max_df': [.9],\n",
    "    'cvec__ngram_range': [(1,1)],\n",
    "    'tree__max_depth': [None],\n",
    "    'tree__min_samples_split': [30],\n",
    "    'tree__min_samples_leaf': [5],\n",
    "    'tree__ccp_alpha': [0.001]\n",
    "}"
   ]
  },
  {
   "cell_type": "code",
   "execution_count": null,
   "id": "4d64640b",
   "metadata": {},
   "outputs": [],
   "source": [
    "gs_cvec_tree = GridSearchCV(estimator=pipe_cvec_tree, \n",
    "                            param_grid=pipe_cvec_tree_params,\n",
    "                            cv=5,\n",
    "                            verbose=1)"
   ]
  },
  {
   "cell_type": "code",
   "execution_count": null,
   "id": "df3174cb",
   "metadata": {},
   "outputs": [],
   "source": [
    "%%time\n",
    "gs_cvec_tree.fit(X_train, y_train)"
   ]
  },
  {
   "cell_type": "code",
   "execution_count": null,
   "id": "a4dc5a10",
   "metadata": {},
   "outputs": [],
   "source": [
    "gs_cvec_tree.best_params_"
   ]
  },
  {
   "cell_type": "code",
   "execution_count": null,
   "id": "55f87fcc",
   "metadata": {},
   "outputs": [],
   "source": [
    "gs_cvec_tree.best_score_"
   ]
  },
  {
   "cell_type": "code",
   "execution_count": null,
   "id": "84667ec4",
   "metadata": {},
   "outputs": [],
   "source": [
    "gs_cvec_tree.score(X_train, y_train)"
   ]
  },
  {
   "cell_type": "code",
   "execution_count": null,
   "id": "11bd8558",
   "metadata": {},
   "outputs": [],
   "source": [
    "gs_cvec_tree.score(X_test, y_test)"
   ]
  },
  {
   "cell_type": "code",
   "execution_count": null,
   "id": "f782f99d",
   "metadata": {},
   "outputs": [],
   "source": [
    "metrics_and_plot_cm(gs_cvec_tree,X_test, y_test)"
   ]
  },
  {
   "cell_type": "code",
   "execution_count": null,
   "id": "8f9f6fe2",
   "metadata": {},
   "outputs": [],
   "source": []
  },
  {
   "cell_type": "code",
   "execution_count": null,
   "id": "8c8fe0c3",
   "metadata": {},
   "outputs": [],
   "source": []
  },
  {
   "cell_type": "markdown",
   "id": "12f56b19",
   "metadata": {},
   "source": [
    "#### Using TFIDFVectorizer with DecisionTreeClassifier"
   ]
  },
  {
   "cell_type": "code",
   "execution_count": null,
   "id": "8c528242",
   "metadata": {},
   "outputs": [],
   "source": [
    "pipe_tvec_tree = Pipeline([\n",
    "    ('tvec', TfidfVectorizer(stop_words=list_of_stopwords)),\n",
    "    ('tree', DecisionTreeClassifier())\n",
    "])"
   ]
  },
  {
   "cell_type": "code",
   "execution_count": null,
   "id": "3af6ce91",
   "metadata": {},
   "outputs": [],
   "source": [
    "# pipe_tree_params = {\n",
    "#     'tvec__max_features': [None],\n",
    "#     'tvec__min_df': [.2,.3],\n",
    "#     'tvec__max_df': [.9,.95],\n",
    "#     'tvec__ngram_range': [(1,1),(1,2)],\n",
    "#     'tree__max_depth': [None],\n",
    "#     'tree__min_samples_split': [5,10,15,20],\n",
    "#     'tree__min_samples_leaf': [2,3,4,5,6],\n",
    "#     'tree__ccp_alpha': [0,0.001,0.01,0.1,1,10]\n",
    "# }\n",
    "\n",
    "pipe_tvec_tree_params = {\n",
    "    'tvec__max_features': [None],\n",
    "    'tvec__min_df': [.01],\n",
    "    'tvec__max_df': [.9],\n",
    "    'tvec__ngram_range': [(1,1)],\n",
    "    'tree__max_depth': [None],\n",
    "    'tree__min_samples_split': [30],\n",
    "    'tree__min_samples_leaf': [2],\n",
    "    'tree__ccp_alpha': [0.001]\n",
    "}"
   ]
  },
  {
   "cell_type": "code",
   "execution_count": null,
   "id": "df700b6e",
   "metadata": {},
   "outputs": [],
   "source": [
    "gs_tvec_tree = GridSearchCV(estimator = pipe_tvec_tree,\n",
    "                      param_grid=pipe_tvec_tree_params,\n",
    "                      cv=5,\n",
    "                      verbose=1\n",
    "                     )"
   ]
  },
  {
   "cell_type": "code",
   "execution_count": null,
   "id": "b181e233",
   "metadata": {},
   "outputs": [],
   "source": [
    "%%time\n",
    "gs_tvec_tree.fit(X_train, y_train)"
   ]
  },
  {
   "cell_type": "code",
   "execution_count": null,
   "id": "f35a06e9",
   "metadata": {},
   "outputs": [],
   "source": [
    "gs_tvec_tree.best_params_"
   ]
  },
  {
   "cell_type": "code",
   "execution_count": null,
   "id": "07f3c0ed",
   "metadata": {
    "scrolled": true
   },
   "outputs": [],
   "source": [
    "gs_tvec_tree.best_score_"
   ]
  },
  {
   "cell_type": "code",
   "execution_count": null,
   "id": "02dbb68b",
   "metadata": {},
   "outputs": [],
   "source": [
    "gs_tvec_tree.score(X_train, y_train)"
   ]
  },
  {
   "cell_type": "code",
   "execution_count": null,
   "id": "c8079c7c",
   "metadata": {},
   "outputs": [],
   "source": [
    "gs_tvec_tree.score(X_test, y_test)"
   ]
  },
  {
   "cell_type": "code",
   "execution_count": null,
   "id": "a40375b7",
   "metadata": {},
   "outputs": [],
   "source": [
    "metrics_and_plot_cm(gs_tvec_tree,X_test, y_test)"
   ]
  },
  {
   "cell_type": "code",
   "execution_count": null,
   "id": "04239a21",
   "metadata": {},
   "outputs": [],
   "source": []
  },
  {
   "cell_type": "markdown",
   "id": "34d629cd",
   "metadata": {},
   "source": [
    "#### Using CountVectorizer with Bagging"
   ]
  },
  {
   "cell_type": "code",
   "execution_count": null,
   "id": "187a270a",
   "metadata": {},
   "outputs": [],
   "source": [
    "pipe_cvec_bag = Pipeline([\n",
    "    ('cvec', CountVectorizer(stop_words=list_of_stopwords)),\n",
    "    ('bag', BaggingClassifier(bootstrap=True))\n",
    "])"
   ]
  },
  {
   "cell_type": "code",
   "execution_count": null,
   "id": "a5abc28c",
   "metadata": {},
   "outputs": [],
   "source": [
    "# Best params found\n",
    "pipe_cvec_bag_params = {\n",
    "    'cvec__max_features': [None],\n",
    "    'cvec__min_df': [.01],\n",
    "    'cvec__max_df': [.9],\n",
    "    'cvec__ngram_range': [(1,2)],\n",
    "    'bag__n_estimators': [40],\n",
    "}"
   ]
  },
  {
   "cell_type": "code",
   "execution_count": null,
   "id": "c0fdeb9a",
   "metadata": {},
   "outputs": [],
   "source": [
    "gs_cvec_bag = GridSearchCV(estimator = pipe_cvec_bag,\n",
    "                      param_grid=pipe_cvec_bag_params,\n",
    "                      cv=5,\n",
    "                      verbose=1\n",
    "                     )"
   ]
  },
  {
   "cell_type": "code",
   "execution_count": null,
   "id": "f5bcac36",
   "metadata": {},
   "outputs": [],
   "source": [
    "%%time\n",
    "gs_cvec_bag.fit(X_train, y_train)"
   ]
  },
  {
   "cell_type": "code",
   "execution_count": null,
   "id": "e6c955d6",
   "metadata": {},
   "outputs": [],
   "source": [
    "gs_cvec_bag.best_params_"
   ]
  },
  {
   "cell_type": "code",
   "execution_count": null,
   "id": "47774c9f",
   "metadata": {},
   "outputs": [],
   "source": [
    "gs_cvec_bag.best_score_"
   ]
  },
  {
   "cell_type": "code",
   "execution_count": null,
   "id": "4aa0c9d3",
   "metadata": {},
   "outputs": [],
   "source": [
    "gs_cvec_bag.score(X_train, y_train)"
   ]
  },
  {
   "cell_type": "code",
   "execution_count": null,
   "id": "ceca004e",
   "metadata": {},
   "outputs": [],
   "source": [
    "gs_cvec_bag.score(X_test, y_test)"
   ]
  },
  {
   "cell_type": "code",
   "execution_count": null,
   "id": "025544e7",
   "metadata": {},
   "outputs": [],
   "source": [
    "metrics_and_plot_cm(gs_cvec_bag,X_test, y_test)"
   ]
  },
  {
   "cell_type": "markdown",
   "id": "98d4e701",
   "metadata": {},
   "source": [
    "#### Using TFIDFVectorizer with Bagging"
   ]
  },
  {
   "cell_type": "code",
   "execution_count": null,
   "id": "066a175a",
   "metadata": {},
   "outputs": [],
   "source": [
    "pipe_tvec_bag = Pipeline([\n",
    "    ('tvec', TfidfVectorizer(stop_words=list_of_stopwords)),\n",
    "    ('bag', BaggingClassifier(bootstrap=True))\n",
    "])"
   ]
  },
  {
   "cell_type": "code",
   "execution_count": null,
   "id": "4421f325",
   "metadata": {},
   "outputs": [],
   "source": [
    "# pipe_bag_params = {\n",
    "#     'tvec__max_features': [None,2000,3000,4000,5000],\n",
    "#     'tvec__min_df': [.2,.3],\n",
    "#     'tvec__max_df': [.85,.9,.95],\n",
    "#     'tvec__ngram_range': [(1,1),(1,2),(1,3)],\n",
    "#     'bag__n_estimators': [10,20,30],\n",
    "# }\n",
    "\n",
    "# Best params found\n",
    "pipe_tvec_bag_params = {\n",
    "    'tvec__max_features': [None],\n",
    "     'tvec__min_df': [.01],\n",
    "     'tvec__max_df': [.95],\n",
    "    'tvec__ngram_range': [(1,1)],\n",
    "    'bag__n_estimators': [40],\n",
    "}"
   ]
  },
  {
   "cell_type": "code",
   "execution_count": null,
   "id": "b01e647b",
   "metadata": {},
   "outputs": [],
   "source": [
    "gs_tvec_bag = GridSearchCV(estimator = pipe_tvec_bag,\n",
    "                      param_grid=pipe_tvec_bag_params,\n",
    "                      cv=5,\n",
    "#                       verbose=1\n",
    "                     )"
   ]
  },
  {
   "cell_type": "code",
   "execution_count": null,
   "id": "46d8b4a4",
   "metadata": {},
   "outputs": [],
   "source": [
    "%%time\n",
    "gs_tvec_bag.fit(X_train, y_train)"
   ]
  },
  {
   "cell_type": "code",
   "execution_count": null,
   "id": "045018ae",
   "metadata": {},
   "outputs": [],
   "source": [
    "gs_tvec_bag.best_params_"
   ]
  },
  {
   "cell_type": "code",
   "execution_count": null,
   "id": "01d12628",
   "metadata": {},
   "outputs": [],
   "source": [
    "gs_tvec_bag.best_estimator_"
   ]
  },
  {
   "cell_type": "code",
   "execution_count": null,
   "id": "5302c97c",
   "metadata": {},
   "outputs": [],
   "source": [
    "gs_tvec_bag.best_score_"
   ]
  },
  {
   "cell_type": "code",
   "execution_count": null,
   "id": "64cd921f",
   "metadata": {},
   "outputs": [],
   "source": [
    "gs_tvec_bag.score(X_train, y_train)"
   ]
  },
  {
   "cell_type": "code",
   "execution_count": null,
   "id": "967a226b",
   "metadata": {},
   "outputs": [],
   "source": [
    "gs_tvec_bag.score(X_test, y_test)"
   ]
  },
  {
   "cell_type": "code",
   "execution_count": null,
   "id": "6cb5e697",
   "metadata": {},
   "outputs": [],
   "source": [
    "metrics_and_plot_cm(gs_tvec_bag,X_test, y_test)"
   ]
  },
  {
   "cell_type": "markdown",
   "id": "05933003",
   "metadata": {},
   "source": [
    "#### CountVectorizer with RandomForest Classifier"
   ]
  },
  {
   "cell_type": "code",
   "execution_count": null,
   "id": "23144384",
   "metadata": {},
   "outputs": [],
   "source": [
    "pipe_cvec_rf = Pipeline([\n",
    "    ('cvec', CountVectorizer(stop_words=list_of_stopwords)),\n",
    "    ('rf', RandomForestClassifier()),\n",
    "])"
   ]
  },
  {
   "cell_type": "code",
   "execution_count": null,
   "id": "2f436f9f",
   "metadata": {},
   "outputs": [],
   "source": [
    "pipe_cvec_rf_params = {\n",
    "    'cvec__max_features': [3000],\n",
    "    'cvec__min_df': [.01],\n",
    "    'cvec__max_df': [.95],\n",
    "    'cvec__ngram_range': [(1,1)],\n",
    "    'rf__n_estimators':[200],\n",
    "    'rf__max_depth':  [None],\n",
    "}"
   ]
  },
  {
   "cell_type": "code",
   "execution_count": null,
   "id": "f1d7eb41",
   "metadata": {},
   "outputs": [],
   "source": [
    "gs_cvec_rf = GridSearchCV(estimator=pipe_cvec_rf,\n",
    "                     param_grid=pipe_cvec_rf_params,\n",
    "                     cv=5,\n",
    "#                      verbose=1\n",
    "                    )"
   ]
  },
  {
   "cell_type": "code",
   "execution_count": null,
   "id": "904c13f4",
   "metadata": {},
   "outputs": [],
   "source": [
    "%%time\n",
    "gs_cvec_rf.fit(X_train, y_train)"
   ]
  },
  {
   "cell_type": "code",
   "execution_count": null,
   "id": "a959a413",
   "metadata": {},
   "outputs": [],
   "source": [
    "gs_cvec_rf.best_params_"
   ]
  },
  {
   "cell_type": "code",
   "execution_count": null,
   "id": "bd781ba3",
   "metadata": {},
   "outputs": [],
   "source": [
    "gs_cvec_rf.best_score_"
   ]
  },
  {
   "cell_type": "code",
   "execution_count": null,
   "id": "29774707",
   "metadata": {},
   "outputs": [],
   "source": [
    "gs_cvec_rf.score(X_train, y_train)"
   ]
  },
  {
   "cell_type": "code",
   "execution_count": null,
   "id": "4116ea2e",
   "metadata": {},
   "outputs": [],
   "source": [
    "gs_cvec_rf.score(X_test, y_test)"
   ]
  },
  {
   "cell_type": "code",
   "execution_count": null,
   "id": "65b41f49",
   "metadata": {},
   "outputs": [],
   "source": [
    "metrics_and_plot_cm(gs_cvec_rf,X_test, y_test)"
   ]
  },
  {
   "cell_type": "code",
   "execution_count": null,
   "id": "01736593",
   "metadata": {},
   "outputs": [],
   "source": []
  },
  {
   "cell_type": "code",
   "execution_count": null,
   "id": "2db2aa01",
   "metadata": {},
   "outputs": [],
   "source": []
  },
  {
   "cell_type": "markdown",
   "id": "085026b4",
   "metadata": {},
   "source": [
    "#### Using TFIDFVectorizer with Random Forest Classifier"
   ]
  },
  {
   "cell_type": "code",
   "execution_count": null,
   "id": "6354e741",
   "metadata": {},
   "outputs": [],
   "source": [
    "pipe_tvec_rf = Pipeline([\n",
    "    ('tvec', TfidfVectorizer(stop_words=list_of_stopwords)),\n",
    "    ('rf', RandomForestClassifier()),\n",
    "])"
   ]
  },
  {
   "cell_type": "code",
   "execution_count": null,
   "id": "18e12bfd",
   "metadata": {},
   "outputs": [],
   "source": [
    "# pipe_rf_params = {\n",
    "#     'tvec__max_features': [None,2000,3000],\n",
    "#     'tvec__min_df': [.2,.3],\n",
    "#     'tvec__ngram_range': [(1,1),(1,2),(1,3)],\n",
    "#     'rf__n_estimators':[100,150,200],\n",
    "#     'rf__max_depth': [None, 1, 2, 3],\n",
    "# }\n",
    "\n",
    "# Best params for Random Forest\n",
    "pipe_tvec_rf_params = {\n",
    "    'tvec__max_features': [4000],\n",
    "    'tvec__min_df': [.01],\n",
    "#     'tvec__max_df': [.95],\n",
    "    'tvec__ngram_range': [(1,2)],\n",
    "    'rf__n_estimators':[150],\n",
    "    'rf__max_depth':  [None],\n",
    "}"
   ]
  },
  {
   "cell_type": "code",
   "execution_count": null,
   "id": "6239ecb0",
   "metadata": {},
   "outputs": [],
   "source": [
    "gs_tvec_rf = GridSearchCV(estimator=pipe_tvec_rf,\n",
    "                     param_grid=pipe_tvec_rf_params,\n",
    "                     cv=5,\n",
    "#                      verbose=1\n",
    "                    )"
   ]
  },
  {
   "cell_type": "code",
   "execution_count": null,
   "id": "59c97cd5",
   "metadata": {},
   "outputs": [],
   "source": [
    "%%time\n",
    "gs_tvec_rf.fit(X_train, y_train)"
   ]
  },
  {
   "cell_type": "code",
   "execution_count": null,
   "id": "844d629e",
   "metadata": {
    "scrolled": true
   },
   "outputs": [],
   "source": [
    "gs_tvec_rf.best_params_"
   ]
  },
  {
   "cell_type": "code",
   "execution_count": null,
   "id": "e3e4180a",
   "metadata": {},
   "outputs": [],
   "source": [
    "gs_tvec_rf.best_score_"
   ]
  },
  {
   "cell_type": "code",
   "execution_count": null,
   "id": "7123aa79",
   "metadata": {},
   "outputs": [],
   "source": [
    "gs_tvec_rf.score(X_train, y_train)"
   ]
  },
  {
   "cell_type": "code",
   "execution_count": null,
   "id": "b8f4d98f",
   "metadata": {},
   "outputs": [],
   "source": [
    "gs_tvec_rf.score(X_test, y_test)"
   ]
  },
  {
   "cell_type": "code",
   "execution_count": null,
   "id": "d2796f68",
   "metadata": {},
   "outputs": [],
   "source": [
    "metrics_and_plot_cm(gs_tvec_rf,X_test, y_test)"
   ]
  },
  {
   "cell_type": "markdown",
   "id": "89b9147a",
   "metadata": {},
   "source": [
    "#### CountVectorizer with ExtraTreesClassifier"
   ]
  },
  {
   "cell_type": "code",
   "execution_count": null,
   "id": "93802b38",
   "metadata": {},
   "outputs": [],
   "source": [
    "pipe_cvec_et = Pipeline([\n",
    "    ('cvec', CountVectorizer()),\n",
    "    ('et', ExtraTreesClassifier()),\n",
    "])"
   ]
  },
  {
   "cell_type": "code",
   "execution_count": null,
   "id": "be89da55",
   "metadata": {},
   "outputs": [],
   "source": [
    "pipe_cvec_et_params = {\n",
    "    'cvec__max_features': [None],\n",
    "    'cvec__min_df': [.01],\n",
    "    'cvec__max_df': [.95],\n",
    "    'cvec__ngram_range': [(1,2)],\n",
    "    'et__n_estimators':[500],\n",
    "    'et__max_depth':  [None],\n",
    "}"
   ]
  },
  {
   "cell_type": "code",
   "execution_count": null,
   "id": "52d287a4",
   "metadata": {},
   "outputs": [],
   "source": [
    "gs_cvec_et = GridSearchCV(pipe_cvec_et, param_grid=pipe_cvec_et_params,cv=5,verbose=1)"
   ]
  },
  {
   "cell_type": "code",
   "execution_count": null,
   "id": "466f6f06",
   "metadata": {},
   "outputs": [],
   "source": [
    "%%time\n",
    "gs_cvec_et.fit(X_train, y_train)"
   ]
  },
  {
   "cell_type": "code",
   "execution_count": null,
   "id": "fff9158b",
   "metadata": {},
   "outputs": [],
   "source": [
    "gs_cvec_et.best_params_"
   ]
  },
  {
   "cell_type": "code",
   "execution_count": null,
   "id": "984c8089",
   "metadata": {},
   "outputs": [],
   "source": [
    "gs_cvec_et.best_score_"
   ]
  },
  {
   "cell_type": "code",
   "execution_count": null,
   "id": "d8eb6715",
   "metadata": {},
   "outputs": [],
   "source": [
    "gs_cvec_et.score(X_train, y_train)"
   ]
  },
  {
   "cell_type": "code",
   "execution_count": null,
   "id": "899eb125",
   "metadata": {},
   "outputs": [],
   "source": [
    "gs_cvec_et.score(X_test, y_test)"
   ]
  },
  {
   "cell_type": "code",
   "execution_count": null,
   "id": "07a1a95f",
   "metadata": {},
   "outputs": [],
   "source": [
    "metrics_and_plot_cm(gs_cvec_et,X_test, y_test)"
   ]
  },
  {
   "cell_type": "markdown",
   "id": "5e670c00",
   "metadata": {},
   "source": [
    "#### TFIDFVectorizer with ExtraTreesClassifier"
   ]
  },
  {
   "cell_type": "code",
   "execution_count": null,
   "id": "d138a968",
   "metadata": {},
   "outputs": [],
   "source": [
    "pipe_tvec_et = Pipeline([\n",
    "    ('tvec', TfidfVectorizer()),\n",
    "    ('et', ExtraTreesClassifier()),\n",
    "])"
   ]
  },
  {
   "cell_type": "code",
   "execution_count": null,
   "id": "967a513a",
   "metadata": {},
   "outputs": [],
   "source": [
    "pipe_tvec_et_params = {\n",
    "    'tvec__max_features': [None],\n",
    "    'tvec__min_df': [.01],\n",
    "    'tvec__max_df': [.95],\n",
    "    'tvec__ngram_range': [(1,1)],\n",
    "    'et__n_estimators':[600],\n",
    "    'et__max_depth':  [None],\n",
    "}"
   ]
  },
  {
   "cell_type": "code",
   "execution_count": null,
   "id": "83b12e85",
   "metadata": {},
   "outputs": [],
   "source": [
    "gs_tvec_et = GridSearchCV(pipe_tvec_et, param_grid=pipe_tvec_et_params,cv=5,verbose=1)"
   ]
  },
  {
   "cell_type": "code",
   "execution_count": null,
   "id": "aee66af2",
   "metadata": {},
   "outputs": [],
   "source": [
    "%%time\n",
    "gs_tvec_et.fit(X_train, y_train)"
   ]
  },
  {
   "cell_type": "code",
   "execution_count": null,
   "id": "3b2d02f3",
   "metadata": {},
   "outputs": [],
   "source": [
    "gs_tvec_et.best_params_"
   ]
  },
  {
   "cell_type": "code",
   "execution_count": null,
   "id": "ab2080bd",
   "metadata": {},
   "outputs": [],
   "source": [
    "gs_tvec_et.best_score_"
   ]
  },
  {
   "cell_type": "code",
   "execution_count": null,
   "id": "dd92e974",
   "metadata": {},
   "outputs": [],
   "source": [
    "gs_tvec_et.score(X_train, y_train)"
   ]
  },
  {
   "cell_type": "code",
   "execution_count": null,
   "id": "effeb216",
   "metadata": {},
   "outputs": [],
   "source": [
    "gs_tvec_et.score(X_test, y_test)"
   ]
  },
  {
   "cell_type": "code",
   "execution_count": null,
   "id": "91e60e67",
   "metadata": {},
   "outputs": [],
   "source": [
    "metrics_and_plot_cm(gs_tvec_et,X_test, y_test)"
   ]
  },
  {
   "cell_type": "code",
   "execution_count": null,
   "id": "80575a94",
   "metadata": {},
   "outputs": [],
   "source": []
  },
  {
   "cell_type": "code",
   "execution_count": null,
   "id": "4142fa9c",
   "metadata": {},
   "outputs": [],
   "source": []
  }
 ],
 "metadata": {
  "kernelspec": {
   "display_name": "Python 3",
   "language": "python",
   "name": "python3"
  },
  "language_info": {
   "codemirror_mode": {
    "name": "ipython",
    "version": 3
   },
   "file_extension": ".py",
   "mimetype": "text/x-python",
   "name": "python",
   "nbconvert_exporter": "python",
   "pygments_lexer": "ipython3",
   "version": "3.8.8"
  }
 },
 "nbformat": 4,
 "nbformat_minor": 5
}
