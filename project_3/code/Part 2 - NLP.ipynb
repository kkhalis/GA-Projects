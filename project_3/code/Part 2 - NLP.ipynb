{
 "cells": [
  {
   "cell_type": "code",
   "execution_count": 1,
   "id": "c272489a",
   "metadata": {},
   "outputs": [],
   "source": [
    "import numpy as np\n",
    "import pandas as pd\n",
    "import matplotlib.pyplot as plt\n",
    "import seaborn as sns\n",
    "import re\n",
    "\n",
    "from nltk.stem import WordNetLemmatizer\n",
    "from nltk.tokenize import sent_tokenize, word_tokenize, RegexpTokenizer\n",
    "from nltk.stem.porter import PorterStemmer\n",
    "\n",
    "from nltk.corpus import stopwords\n",
    "from nltk.sentiment.vader import SentimentIntensityAnalyzer\n",
    "\n",
    "from sklearn.model_selection import train_test_split, GridSearchCV\n",
    "from sklearn.pipeline import Pipeline\n",
    "from sklearn.naive_bayes import MultinomialNB\n",
    "from sklearn.linear_model import LogisticRegression\n",
    "from sklearn.neighbors import KNeighborsClassifier\n",
    "from sklearn.metrics import confusion_matrix, plot_confusion_matrix\n",
    "\n",
    "from sklearn.feature_extraction.text import CountVectorizer, TfidfVectorizer\n",
    "from sklearn.tree import DecisionTreeClassifier\n",
    "from sklearn.ensemble import BaggingClassifier, RandomForestClassifier, ExtraTreesClassifier"
   ]
  },
  {
   "cell_type": "code",
   "execution_count": 2,
   "id": "f87b305f",
   "metadata": {},
   "outputs": [],
   "source": [
    "crypto_df = pd.read_csv('../data/cryptocurrency.csv')\n",
    "stocks_df = pd.read_csv('../data/stocks.csv')\n",
    "\n",
    "main_df = pd.concat([crypto_df,stocks_df])[['subreddit','selftext','title']]\n",
    "main_df.reset_index(inplace=True)\n",
    "main_df.drop(labels='index', inplace=True, axis=1)"
   ]
  },
  {
   "cell_type": "code",
   "execution_count": 3,
   "id": "bfe1de26",
   "metadata": {},
   "outputs": [
    {
     "data": {
      "text/plain": [
       "subreddit    0\n",
       "selftext     0\n",
       "title        0\n",
       "dtype: int64"
      ]
     },
     "execution_count": 3,
     "metadata": {},
     "output_type": "execute_result"
    }
   ],
   "source": [
    "main_df.isnull().sum()"
   ]
  },
  {
   "cell_type": "markdown",
   "id": "5f1ae7b4",
   "metadata": {},
   "source": [
    "### Data Cleaning"
   ]
  },
  {
   "cell_type": "code",
   "execution_count": 4,
   "id": "018f5dc1",
   "metadata": {},
   "outputs": [
    {
     "data": {
      "text/html": [
       "<div>\n",
       "<style scoped>\n",
       "    .dataframe tbody tr th:only-of-type {\n",
       "        vertical-align: middle;\n",
       "    }\n",
       "\n",
       "    .dataframe tbody tr th {\n",
       "        vertical-align: top;\n",
       "    }\n",
       "\n",
       "    .dataframe thead th {\n",
       "        text-align: right;\n",
       "    }\n",
       "</style>\n",
       "<table border=\"1\" class=\"dataframe\">\n",
       "  <thead>\n",
       "    <tr style=\"text-align: right;\">\n",
       "      <th></th>\n",
       "      <th>subreddit</th>\n",
       "      <th>selftext</th>\n",
       "      <th>title</th>\n",
       "    </tr>\n",
       "  </thead>\n",
       "  <tbody>\n",
       "    <tr>\n",
       "      <th>0</th>\n",
       "      <td>CryptoCurrency</td>\n",
       "      <td>I'm pretty new to crypto, just got in this yea...</td>\n",
       "      <td>Not Your Keys, Not Your Coin</td>\n",
       "    </tr>\n",
       "    <tr>\n",
       "      <th>1</th>\n",
       "      <td>CryptoCurrency</td>\n",
       "      <td>Coinbase will not be launching its crypto lend...</td>\n",
       "      <td>The SEC bullied coinbase into dropping their 4...</td>\n",
       "    </tr>\n",
       "    <tr>\n",
       "      <th>2</th>\n",
       "      <td>CryptoCurrency</td>\n",
       "      <td>I strongly believe Ryan Reynolds and Rob McElh...</td>\n",
       "      <td>Wrexham Football Club as a DAO</td>\n",
       "    </tr>\n",
       "    <tr>\n",
       "      <th>3</th>\n",
       "      <td>CryptoCurrency</td>\n",
       "      <td>You will want to take your ALGOs off any excha...</td>\n",
       "      <td>ALGO hodlers, don't forget governance starts O...</td>\n",
       "    </tr>\n",
       "    <tr>\n",
       "      <th>4</th>\n",
       "      <td>CryptoCurrency</td>\n",
       "      <td>If you're bringing up mobile phones, smart dev...</td>\n",
       "      <td>Blockchain's relevance- The link between milit...</td>\n",
       "    </tr>\n",
       "  </tbody>\n",
       "</table>\n",
       "</div>"
      ],
      "text/plain": [
       "        subreddit                                           selftext  \\\n",
       "0  CryptoCurrency  I'm pretty new to crypto, just got in this yea...   \n",
       "1  CryptoCurrency  Coinbase will not be launching its crypto lend...   \n",
       "2  CryptoCurrency  I strongly believe Ryan Reynolds and Rob McElh...   \n",
       "3  CryptoCurrency  You will want to take your ALGOs off any excha...   \n",
       "4  CryptoCurrency  If you're bringing up mobile phones, smart dev...   \n",
       "\n",
       "                                               title  \n",
       "0                       Not Your Keys, Not Your Coin  \n",
       "1  The SEC bullied coinbase into dropping their 4...  \n",
       "2                     Wrexham Football Club as a DAO  \n",
       "3  ALGO hodlers, don't forget governance starts O...  \n",
       "4  Blockchain's relevance- The link between milit...  "
      ]
     },
     "execution_count": 4,
     "metadata": {},
     "output_type": "execute_result"
    }
   ],
   "source": [
    "main_df.head()"
   ]
  },
  {
   "cell_type": "code",
   "execution_count": 5,
   "id": "43221050",
   "metadata": {},
   "outputs": [
    {
     "data": {
      "text/html": [
       "<div>\n",
       "<style scoped>\n",
       "    .dataframe tbody tr th:only-of-type {\n",
       "        vertical-align: middle;\n",
       "    }\n",
       "\n",
       "    .dataframe tbody tr th {\n",
       "        vertical-align: top;\n",
       "    }\n",
       "\n",
       "    .dataframe thead th {\n",
       "        text-align: right;\n",
       "    }\n",
       "</style>\n",
       "<table border=\"1\" class=\"dataframe\">\n",
       "  <thead>\n",
       "    <tr style=\"text-align: right;\">\n",
       "      <th></th>\n",
       "      <th>subreddit</th>\n",
       "      <th>selftext</th>\n",
       "      <th>title</th>\n",
       "    </tr>\n",
       "  </thead>\n",
       "  <tbody>\n",
       "    <tr>\n",
       "      <th>2025</th>\n",
       "      <td>stocks</td>\n",
       "      <td>Hi all -- I'm hoping for help understanding wh...</td>\n",
       "      <td>Help requested: What is my 401(k) invested in?</td>\n",
       "    </tr>\n",
       "    <tr>\n",
       "      <th>2026</th>\n",
       "      <td>stocks</td>\n",
       "      <td>Obviously tobacco consumption has declined con...</td>\n",
       "      <td>Looking to get into weed/vape/tobacco companie...</td>\n",
       "    </tr>\n",
       "    <tr>\n",
       "      <th>2027</th>\n",
       "      <td>stocks</td>\n",
       "      <td>Hey guys. I have been using free tools until n...</td>\n",
       "      <td>What tools/services are worth paying for?</td>\n",
       "    </tr>\n",
       "    <tr>\n",
       "      <th>2028</th>\n",
       "      <td>stocks</td>\n",
       "      <td>What happens to stocks when the company goes b...</td>\n",
       "      <td>Can hedge funds or retail still own stock in a...</td>\n",
       "    </tr>\n",
       "    <tr>\n",
       "      <th>2029</th>\n",
       "      <td>stocks</td>\n",
       "      <td>I have 40k in my Charles Schwab account.  My I...</td>\n",
       "      <td>Another annoying question about what I should ...</td>\n",
       "    </tr>\n",
       "  </tbody>\n",
       "</table>\n",
       "</div>"
      ],
      "text/plain": [
       "     subreddit                                           selftext  \\\n",
       "2025    stocks  Hi all -- I'm hoping for help understanding wh...   \n",
       "2026    stocks  Obviously tobacco consumption has declined con...   \n",
       "2027    stocks  Hey guys. I have been using free tools until n...   \n",
       "2028    stocks  What happens to stocks when the company goes b...   \n",
       "2029    stocks  I have 40k in my Charles Schwab account.  My I...   \n",
       "\n",
       "                                                  title  \n",
       "2025     Help requested: What is my 401(k) invested in?  \n",
       "2026  Looking to get into weed/vape/tobacco companie...  \n",
       "2027          What tools/services are worth paying for?  \n",
       "2028  Can hedge funds or retail still own stock in a...  \n",
       "2029  Another annoying question about what I should ...  "
      ]
     },
     "execution_count": 5,
     "metadata": {},
     "output_type": "execute_result"
    }
   ],
   "source": [
    "main_df.tail()"
   ]
  },
  {
   "cell_type": "code",
   "execution_count": null,
   "id": "72d21782",
   "metadata": {},
   "outputs": [],
   "source": []
  },
  {
   "cell_type": "markdown",
   "id": "7eb9c13e",
   "metadata": {},
   "source": [
    "#### Initialise helper methods for data cleaning and confusion matrix plotting"
   ]
  },
  {
   "cell_type": "code",
   "execution_count": 8,
   "id": "0747f82e",
   "metadata": {},
   "outputs": [],
   "source": [
    "def clean_data(data):\n",
    "    url_regex = r'https?:\\/\\/(www\\.)?[-a-zA-Z0-9@:%._\\+~#=]{1,256}\\.[a-zA-Z0-9()]{1,6}\\b([-a-zA-Z0-9()@:%_\\+.~#?&\\/\\/=]*)(;\\w+.?\\w+)?'\n",
    "    num_regex = r'\\d+'\n",
    "    word_regex = r\"(\\w+'*\\w+)\"#r'[A-Za-z]+'\n",
    "    non_word_regex = r'(\\&amp)[&;â€œ™,.]'\n",
    "    x = re.sub(url_regex,'',data)\n",
    "    x = re.sub(num_regex,'',x)\n",
    "    word_tokenizer = RegexpTokenizer(word_regex)\n",
    "    x = word_tokenizer.tokenize(x.lower())\n",
    "    tokenizer = RegexpTokenizer(r'[?!\\W+]')\n",
    "    tmp_lst = list(filter(None,[re.sub(non_word_regex,'',i) for i in x]))\n",
    "    lemmatizer = WordNetLemmatizer()\n",
    "    lemma_tmp = [lemmatizer.lemmatize(tok) for tok in tmp_lst]\n",
    "#     p_stemmer = PorterStemmer()\n",
    "#     stem_tmp = [p_stemmer.stem(tok) for tok in tmp_lst]\n",
    "    return ' '.join(lemma_tmp)"
   ]
  },
  {
   "cell_type": "code",
   "execution_count": 126,
   "id": "6784d69e",
   "metadata": {},
   "outputs": [],
   "source": [
    "def metrics_and_plot_cm(classifier, X, y):\n",
    "    preds = classifier.predict(X)\n",
    "    tn, fp, fn, tp = confusion_matrix(y, preds).ravel()\n",
    "    acc = (tp + tn) / (tn + fp + fn + tp)\n",
    "    misclass = 1 - acc\n",
    "    sens = tp / (tp + fn)\n",
    "    spec = tn / (tn + fp)\n",
    "    prec = tp / (tp + fp)\n",
    "    results = {\n",
    "        'Accuracy': acc,\n",
    "        'Misclassification Rate': misclass,\n",
    "        'Sensitivity': sens,\n",
    "        'Specificity': spec,\n",
    "        'Precision': prec\n",
    "    }\n",
    "    metrics = pd.DataFrame({\n",
    "        'Metric': results.keys(),\n",
    "        'Score': results.values()\n",
    "        })\n",
    "    plot_confusion_matrix(classifier, X, y, cmap='Blues', values_format='d');\n",
    "    return metrics"
   ]
  },
  {
   "cell_type": "code",
   "execution_count": null,
   "id": "129b163e",
   "metadata": {},
   "outputs": [],
   "source": []
  },
  {
   "cell_type": "markdown",
   "id": "69536453",
   "metadata": {},
   "source": [
    "#### Merge selftext and title as a combined feature to use as X"
   ]
  },
  {
   "cell_type": "code",
   "execution_count": 10,
   "id": "5f48fefa",
   "metadata": {
    "scrolled": false
   },
   "outputs": [],
   "source": [
    "main_df['selftext_title'] = main_df['selftext'] + main_df['title']"
   ]
  },
  {
   "cell_type": "code",
   "execution_count": 11,
   "id": "32814be2",
   "metadata": {},
   "outputs": [],
   "source": [
    "main_df['selftext_title'] = main_df['selftext_title'].apply(clean_data)"
   ]
  },
  {
   "cell_type": "code",
   "execution_count": 12,
   "id": "12a3e8a5",
   "metadata": {},
   "outputs": [
    {
     "data": {
      "text/html": [
       "<div>\n",
       "<style scoped>\n",
       "    .dataframe tbody tr th:only-of-type {\n",
       "        vertical-align: middle;\n",
       "    }\n",
       "\n",
       "    .dataframe tbody tr th {\n",
       "        vertical-align: top;\n",
       "    }\n",
       "\n",
       "    .dataframe thead th {\n",
       "        text-align: right;\n",
       "    }\n",
       "</style>\n",
       "<table border=\"1\" class=\"dataframe\">\n",
       "  <thead>\n",
       "    <tr style=\"text-align: right;\">\n",
       "      <th></th>\n",
       "      <th>subreddit</th>\n",
       "      <th>selftext</th>\n",
       "      <th>title</th>\n",
       "      <th>selftext_title</th>\n",
       "    </tr>\n",
       "  </thead>\n",
       "  <tbody>\n",
       "    <tr>\n",
       "      <th>0</th>\n",
       "      <td>CryptoCurrency</td>\n",
       "      <td>I'm pretty new to crypto, just got in this yea...</td>\n",
       "      <td>Not Your Keys, Not Your Coin</td>\n",
       "      <td>i'm pretty new to crypto just got in this year...</td>\n",
       "    </tr>\n",
       "    <tr>\n",
       "      <th>1</th>\n",
       "      <td>CryptoCurrency</td>\n",
       "      <td>Coinbase will not be launching its crypto lend...</td>\n",
       "      <td>The SEC bullied coinbase into dropping their 4...</td>\n",
       "      <td>coinbase will not be launching it crypto lendi...</td>\n",
       "    </tr>\n",
       "    <tr>\n",
       "      <th>2</th>\n",
       "      <td>CryptoCurrency</td>\n",
       "      <td>I strongly believe Ryan Reynolds and Rob McElh...</td>\n",
       "      <td>Wrexham Football Club as a DAO</td>\n",
       "      <td>strongly believe ryan reynolds and rob mcelhen...</td>\n",
       "    </tr>\n",
       "    <tr>\n",
       "      <th>3</th>\n",
       "      <td>CryptoCurrency</td>\n",
       "      <td>You will want to take your ALGOs off any excha...</td>\n",
       "      <td>ALGO hodlers, don't forget governance starts O...</td>\n",
       "      <td>you will want to take your algos off any excha...</td>\n",
       "    </tr>\n",
       "    <tr>\n",
       "      <th>4</th>\n",
       "      <td>CryptoCurrency</td>\n",
       "      <td>If you're bringing up mobile phones, smart dev...</td>\n",
       "      <td>Blockchain's relevance- The link between milit...</td>\n",
       "      <td>if you're bringing up mobile phone smart devic...</td>\n",
       "    </tr>\n",
       "    <tr>\n",
       "      <th>...</th>\n",
       "      <td>...</td>\n",
       "      <td>...</td>\n",
       "      <td>...</td>\n",
       "      <td>...</td>\n",
       "    </tr>\n",
       "    <tr>\n",
       "      <th>2025</th>\n",
       "      <td>stocks</td>\n",
       "      <td>Hi all -- I'm hoping for help understanding wh...</td>\n",
       "      <td>Help requested: What is my 401(k) invested in?</td>\n",
       "      <td>hi all i'm hoping for help understanding what ...</td>\n",
       "    </tr>\n",
       "    <tr>\n",
       "      <th>2026</th>\n",
       "      <td>stocks</td>\n",
       "      <td>Obviously tobacco consumption has declined con...</td>\n",
       "      <td>Looking to get into weed/vape/tobacco companie...</td>\n",
       "      <td>obviously tobacco consumption ha declined cons...</td>\n",
       "    </tr>\n",
       "    <tr>\n",
       "      <th>2027</th>\n",
       "      <td>stocks</td>\n",
       "      <td>Hey guys. I have been using free tools until n...</td>\n",
       "      <td>What tools/services are worth paying for?</td>\n",
       "      <td>hey guy have been using free tool until now as...</td>\n",
       "    </tr>\n",
       "    <tr>\n",
       "      <th>2028</th>\n",
       "      <td>stocks</td>\n",
       "      <td>What happens to stocks when the company goes b...</td>\n",
       "      <td>Can hedge funds or retail still own stock in a...</td>\n",
       "      <td>what happens to stock when the company go bank...</td>\n",
       "    </tr>\n",
       "    <tr>\n",
       "      <th>2029</th>\n",
       "      <td>stocks</td>\n",
       "      <td>I have 40k in my Charles Schwab account.  My I...</td>\n",
       "      <td>Another annoying question about what I should ...</td>\n",
       "      <td>have in my charles schwab account my individua...</td>\n",
       "    </tr>\n",
       "  </tbody>\n",
       "</table>\n",
       "<p>2030 rows × 4 columns</p>\n",
       "</div>"
      ],
      "text/plain": [
       "           subreddit                                           selftext  \\\n",
       "0     CryptoCurrency  I'm pretty new to crypto, just got in this yea...   \n",
       "1     CryptoCurrency  Coinbase will not be launching its crypto lend...   \n",
       "2     CryptoCurrency  I strongly believe Ryan Reynolds and Rob McElh...   \n",
       "3     CryptoCurrency  You will want to take your ALGOs off any excha...   \n",
       "4     CryptoCurrency  If you're bringing up mobile phones, smart dev...   \n",
       "...              ...                                                ...   \n",
       "2025          stocks  Hi all -- I'm hoping for help understanding wh...   \n",
       "2026          stocks  Obviously tobacco consumption has declined con...   \n",
       "2027          stocks  Hey guys. I have been using free tools until n...   \n",
       "2028          stocks  What happens to stocks when the company goes b...   \n",
       "2029          stocks  I have 40k in my Charles Schwab account.  My I...   \n",
       "\n",
       "                                                  title  \\\n",
       "0                          Not Your Keys, Not Your Coin   \n",
       "1     The SEC bullied coinbase into dropping their 4...   \n",
       "2                        Wrexham Football Club as a DAO   \n",
       "3     ALGO hodlers, don't forget governance starts O...   \n",
       "4     Blockchain's relevance- The link between milit...   \n",
       "...                                                 ...   \n",
       "2025     Help requested: What is my 401(k) invested in?   \n",
       "2026  Looking to get into weed/vape/tobacco companie...   \n",
       "2027          What tools/services are worth paying for?   \n",
       "2028  Can hedge funds or retail still own stock in a...   \n",
       "2029  Another annoying question about what I should ...   \n",
       "\n",
       "                                         selftext_title  \n",
       "0     i'm pretty new to crypto just got in this year...  \n",
       "1     coinbase will not be launching it crypto lendi...  \n",
       "2     strongly believe ryan reynolds and rob mcelhen...  \n",
       "3     you will want to take your algos off any excha...  \n",
       "4     if you're bringing up mobile phone smart devic...  \n",
       "...                                                 ...  \n",
       "2025  hi all i'm hoping for help understanding what ...  \n",
       "2026  obviously tobacco consumption ha declined cons...  \n",
       "2027  hey guy have been using free tool until now as...  \n",
       "2028  what happens to stock when the company go bank...  \n",
       "2029  have in my charles schwab account my individua...  \n",
       "\n",
       "[2030 rows x 4 columns]"
      ]
     },
     "execution_count": 12,
     "metadata": {},
     "output_type": "execute_result"
    }
   ],
   "source": [
    "main_df"
   ]
  },
  {
   "cell_type": "markdown",
   "id": "3a5a3db1",
   "metadata": {},
   "source": [
    "#### Map results of subreddit to 1 and 0"
   ]
  },
  {
   "cell_type": "code",
   "execution_count": 13,
   "id": "6448d435",
   "metadata": {},
   "outputs": [],
   "source": [
    "main_df['subreddit'] = main_df['subreddit'].map({'CryptoCurrency':1, 'stocks':0})\n",
    "# main_df['subreddit'] = main_df['subreddit'].map({'CryptoCurrency':1, 'wallstreetbets':0})"
   ]
  },
  {
   "cell_type": "code",
   "execution_count": 14,
   "id": "9924fe05",
   "metadata": {},
   "outputs": [],
   "source": [
    "X = main_df['selftext_title']\n",
    "y = main_df['subreddit']"
   ]
  },
  {
   "cell_type": "code",
   "execution_count": 15,
   "id": "62b1c9ab",
   "metadata": {},
   "outputs": [
    {
     "data": {
      "text/plain": [
       "0    0.500985\n",
       "1    0.499015\n",
       "Name: subreddit, dtype: float64"
      ]
     },
     "execution_count": 15,
     "metadata": {},
     "output_type": "execute_result"
    }
   ],
   "source": [
    "y.value_counts(normalize=True)"
   ]
  },
  {
   "cell_type": "markdown",
   "id": "52d9c179",
   "metadata": {},
   "source": [
    "#### Stopwords"
   ]
  },
  {
   "cell_type": "code",
   "execution_count": 16,
   "id": "3172268e",
   "metadata": {},
   "outputs": [],
   "source": [
    "eng_stopwords = list(CountVectorizer(stop_words='english').get_stop_words())\n",
    "self_def_stopwords = ['cryptocurrency','crypto','stocks','stock','amp','share','like','just','make','shares','market','buy','people','time','don','money','price','companies','company','new','know','bitcoin','ethereum','ve','coin','btc','eth','long','day','good','year','think','going','gt','want', 'dip', 'news', 'years', 'sell','need', 'week','blockchain','coins','lot','said','term','way','use','trading','ha','wa','thi']\n",
    "list_of_stopwords = eng_stopwords + self_def_stopwords"
   ]
  },
  {
   "cell_type": "code",
   "execution_count": null,
   "id": "f7d37b7c",
   "metadata": {},
   "outputs": [],
   "source": []
  },
  {
   "cell_type": "markdown",
   "id": "0083d75e",
   "metadata": {},
   "source": [
    "#### TODO: Create function to take in and compare words from Lemmatizer and Stemmer\n",
    "Show 2 charts side by side for comparison. <br>\n",
    "Explain choice of lemmatising vs stemmer"
   ]
  },
  {
   "cell_type": "code",
   "execution_count": null,
   "id": "ab88e2b0",
   "metadata": {},
   "outputs": [],
   "source": []
  },
  {
   "cell_type": "code",
   "execution_count": 17,
   "id": "0a4bfc57",
   "metadata": {},
   "outputs": [],
   "source": [
    "cvec = CountVectorizer(stop_words=list_of_stopwords)"
   ]
  },
  {
   "cell_type": "code",
   "execution_count": 18,
   "id": "b8a1923f",
   "metadata": {},
   "outputs": [],
   "source": [
    "sample = cvec.fit_transform(X)"
   ]
  },
  {
   "cell_type": "code",
   "execution_count": 19,
   "id": "623ca603",
   "metadata": {},
   "outputs": [],
   "source": [
    "sample_df = pd.DataFrame(sample.todense(), columns=cvec.get_feature_names())"
   ]
  },
  {
   "cell_type": "code",
   "execution_count": 20,
   "id": "59c33631",
   "metadata": {},
   "outputs": [
    {
     "data": {
      "text/plain": [
       "<AxesSubplot:>"
      ]
     },
     "execution_count": 20,
     "metadata": {},
     "output_type": "execute_result"
    },
    {
     "data": {
      "image/png": "[encoded data removed]",
      "text/plain": [
       "<Figure size 1080x1080 with 1 Axes>"
      ]
     },
     "metadata": {
      "needs_background": "light"
     },
     "output_type": "display_data"
    }
   ],
   "source": [
    "plt.figure(figsize=(15,15))\n",
    "sample_df.sum().sort_values(ascending=False).head(50).plot(kind='barh')"
   ]
  },
  {
   "cell_type": "code",
   "execution_count": null,
   "id": "b0dfdf2d",
   "metadata": {},
   "outputs": [],
   "source": []
  },
  {
   "cell_type": "code",
   "execution_count": 21,
   "id": "ec8a663e",
   "metadata": {},
   "outputs": [],
   "source": [
    "tvec = TfidfVectorizer(stop_words=list_of_stopwords)"
   ]
  },
  {
   "cell_type": "code",
   "execution_count": 22,
   "id": "2039030a",
   "metadata": {},
   "outputs": [],
   "source": [
    "sample = tvec.fit_transform(X)"
   ]
  },
  {
   "cell_type": "code",
   "execution_count": 23,
   "id": "8c5cf880",
   "metadata": {},
   "outputs": [],
   "source": [
    "sample_df = pd.DataFrame(sample.todense(), columns=tvec.get_feature_names())"
   ]
  },
  {
   "cell_type": "code",
   "execution_count": 24,
   "id": "daff7372",
   "metadata": {},
   "outputs": [
    {
     "data": {
      "text/plain": [
       "<AxesSubplot:>"
      ]
     },
     "execution_count": 24,
     "metadata": {},
     "output_type": "execute_result"
    },
    {
     "data": {
      "image/png": "[encoded data removed]",
      "text/plain": [
       "<Figure size 1080x1080 with 1 Axes>"
      ]
     },
     "metadata": {
      "needs_background": "light"
     },
     "output_type": "display_data"
    }
   ],
   "source": [
    "plt.figure(figsize=(15,15))\n",
    "sample_df.sum().sort_values(ascending=False).head(50).plot(kind='barh')"
   ]
  },
  {
   "cell_type": "code",
   "execution_count": null,
   "id": "4260948c",
   "metadata": {},
   "outputs": [],
   "source": []
  },
  {
   "cell_type": "code",
   "execution_count": null,
   "id": "67f2d554",
   "metadata": {},
   "outputs": [],
   "source": []
  },
  {
   "cell_type": "code",
   "execution_count": null,
   "id": "39cdb3a7",
   "metadata": {},
   "outputs": [],
   "source": []
  },
  {
   "cell_type": "code",
   "execution_count": null,
   "id": "20fe994f",
   "metadata": {},
   "outputs": [],
   "source": []
  },
  {
   "cell_type": "markdown",
   "id": "29f54eda",
   "metadata": {},
   "source": [
    "### Train Test and Split"
   ]
  },
  {
   "cell_type": "code",
   "execution_count": 25,
   "id": "10fb5ac2",
   "metadata": {},
   "outputs": [],
   "source": [
    "X_train, X_test, y_train, y_test = train_test_split(X, y, train_size=0.8, stratify=y, random_state=42)"
   ]
  },
  {
   "cell_type": "code",
   "execution_count": null,
   "id": "502c8895",
   "metadata": {},
   "outputs": [],
   "source": []
  },
  {
   "cell_type": "code",
   "execution_count": 26,
   "id": "cbe4c7f3",
   "metadata": {},
   "outputs": [
    {
     "data": {
      "text/plain": [
       "CountVectorizer(ngram_range=(1, 2),\n",
       "                stop_words=['find', 'meanwhile', 'hereupon', 'over', 'everyone',\n",
       "                            'twelve', 'throughout', 'most', 'and', 'made',\n",
       "                            'keep', 'beforehand', 'ourselves', 'show',\n",
       "                            'whereby', 'fill', 'his', 'is', 'hereafter',\n",
       "                            'somewhere', 'formerly', 'put', 'more', 'indeed',\n",
       "                            'these', 'became', 'former', 'get', 'give',\n",
       "                            'whence', ...])"
      ]
     },
     "execution_count": 26,
     "metadata": {},
     "output_type": "execute_result"
    }
   ],
   "source": [
    "cvec = CountVectorizer(stop_words=list_of_stopwords, ngram_range=(1,2))\n",
    "cvec.fit(X_train)"
   ]
  },
  {
   "cell_type": "code",
   "execution_count": 27,
   "id": "6e8ee465",
   "metadata": {},
   "outputs": [],
   "source": [
    "X_train_sc = cvec.transform(X_train)"
   ]
  },
  {
   "cell_type": "code",
   "execution_count": 28,
   "id": "aac05469",
   "metadata": {},
   "outputs": [
    {
     "data": {
      "text/plain": [
       "<1624x116483 sparse matrix of type '<class 'numpy.int64'>'\n",
       "\twith 222209 stored elements in Compressed Sparse Row format>"
      ]
     },
     "execution_count": 28,
     "metadata": {},
     "output_type": "execute_result"
    }
   ],
   "source": [
    "X_train_sc"
   ]
  },
  {
   "cell_type": "code",
   "execution_count": 29,
   "id": "0f018529",
   "metadata": {},
   "outputs": [],
   "source": [
    "X_train_df = pd.DataFrame(X_train_sc.todense(),\n",
    "                         columns=cvec.get_feature_names())"
   ]
  },
  {
   "cell_type": "code",
   "execution_count": 30,
   "id": "a14a26f1",
   "metadata": {},
   "outputs": [
    {
     "data": {
      "text/plain": [
       "Index(['wallet', 'month', 'post', 'option', 'evergrande', 'bank', 'exchange',\n",
       "       'investment', 'thing', 'say', 'right', 'high', 'account', 'short',\n",
       "       'really', 'xb', 'today', 'looking', 'transaction', 'future', 'look',\n",
       "       'investor', 'financial', 'profit', 'buying', 'doe', 'million',\n",
       "       'question', 'come', 'value', 'world', 'invest', 'currently', 'help',\n",
       "       'fund', 'china', 'trade', 'work', 'pay', 'let'],\n",
       "      dtype='object')"
      ]
     },
     "execution_count": 30,
     "metadata": {},
     "output_type": "execute_result"
    }
   ],
   "source": [
    "X_train_df.sum().sort_values(ascending=False).head(40).index"
   ]
  },
  {
   "cell_type": "code",
   "execution_count": 31,
   "id": "89930f2a",
   "metadata": {
    "scrolled": false
   },
   "outputs": [
    {
     "data": {
      "text/plain": [
       "<AxesSubplot:>"
      ]
     },
     "execution_count": 31,
     "metadata": {},
     "output_type": "execute_result"
    },
    {
     "data": {
      "image/png": "[encoded data removed]",
      "text/plain": [
       "<Figure size 1080x1080 with 1 Axes>"
      ]
     },
     "metadata": {
      "needs_background": "light"
     },
     "output_type": "display_data"
    }
   ],
   "source": [
    "plt.figure(figsize=(15,15))\n",
    "X_train_df.sum().sort_values(ascending=False).head(40).plot(kind='barh')"
   ]
  },
  {
   "cell_type": "code",
   "execution_count": null,
   "id": "4d9a3f41",
   "metadata": {},
   "outputs": [],
   "source": []
  },
  {
   "cell_type": "markdown",
   "id": "a2fb9d73",
   "metadata": {},
   "source": [
    "### Logistic Regression"
   ]
  },
  {
   "cell_type": "markdown",
   "id": "22bf00ad",
   "metadata": {},
   "source": [
    "#### CountVectorizer with Logistic Regression"
   ]
  },
  {
   "cell_type": "code",
   "execution_count": 171,
   "id": "9c121f5a",
   "metadata": {},
   "outputs": [],
   "source": [
    "pipe_cvec_logreg = Pipeline([\n",
    "    ('cvec', CountVectorizer(stop_words=list_of_stopwords)),\n",
    "    ('logreg',LogisticRegression()),\n",
    "])"
   ]
  },
  {
   "cell_type": "code",
   "execution_count": 172,
   "id": "5abf8555",
   "metadata": {},
   "outputs": [],
   "source": [
    "# pipe_logreg_params = {\n",
    "#     'cvec__max_features': [None,2000,3000,4000,5000],\n",
    "#     'cvec__min_df': [2,3],\n",
    "#     'cvec__max_df': [.85,.9,.95],\n",
    "#     'cvec__ngram_range': [(1,1),(1,2),(1,3)],\n",
    "# }\n",
    "\n",
    "\n",
    "pipe_cvec_logreg_params = {\n",
    "    'cvec__max_features': [None],\n",
    "    'cvec__min_df': [.01],\n",
    "    'cvec__max_df': [.85],\n",
    "    'cvec__ngram_range': [(1,2)],\n",
    "}"
   ]
  },
  {
   "cell_type": "code",
   "execution_count": 173,
   "id": "edcf8adb",
   "metadata": {},
   "outputs": [],
   "source": [
    "gs_cvec_logreg = GridSearchCV(pipe_cvec_logreg, param_grid=pipe_cvec_logreg_params, cv=5)"
   ]
  },
  {
   "cell_type": "code",
   "execution_count": 174,
   "id": "94158592",
   "metadata": {},
   "outputs": [
    {
     "data": {
      "text/plain": [
       "GridSearchCV(cv=5,\n",
       "             estimator=Pipeline(steps=[('cvec',\n",
       "                                        CountVectorizer(stop_words=['find',\n",
       "                                                                    'meanwhile',\n",
       "                                                                    'hereupon',\n",
       "                                                                    'over',\n",
       "                                                                    'everyone',\n",
       "                                                                    'twelve',\n",
       "                                                                    'throughout',\n",
       "                                                                    'most',\n",
       "                                                                    'and',\n",
       "                                                                    'made',\n",
       "                                                                    'keep',\n",
       "                                                                    'beforehand',\n",
       "                                                                    'ourselves',\n",
       "                                                                    'show',\n",
       "                                                                    'whereby',\n",
       "                                                                    'fill',\n",
       "                                                                    'his', 'is',\n",
       "                                                                    'hereafter',\n",
       "                                                                    'somewhere',\n",
       "                                                                    'formerly',\n",
       "                                                                    'put',\n",
       "                                                                    'more',\n",
       "                                                                    'indeed',\n",
       "                                                                    'these',\n",
       "                                                                    'became',\n",
       "                                                                    'former',\n",
       "                                                                    'get',\n",
       "                                                                    'give',\n",
       "                                                                    'whence', ...])),\n",
       "                                       ('logreg', LogisticRegression())]),\n",
       "             param_grid={'cvec__max_df': [0.85], 'cvec__max_features': [None],\n",
       "                         'cvec__min_df': [0.01],\n",
       "                         'cvec__ngram_range': [(1, 2)]})"
      ]
     },
     "execution_count": 174,
     "metadata": {},
     "output_type": "execute_result"
    }
   ],
   "source": [
    "gs_cvec_logreg.fit(X_train,y_train)"
   ]
  },
  {
   "cell_type": "code",
   "execution_count": 175,
   "id": "88ccfe37",
   "metadata": {},
   "outputs": [
    {
     "data": {
      "text/plain": [
       "0.872539411206078"
      ]
     },
     "execution_count": 175,
     "metadata": {},
     "output_type": "execute_result"
    }
   ],
   "source": [
    "gs_cvec_logreg.best_score_"
   ]
  },
  {
   "cell_type": "code",
   "execution_count": 176,
   "id": "ddb431e4",
   "metadata": {},
   "outputs": [
    {
     "data": {
      "text/plain": [
       "{'cvec__max_df': 0.85,\n",
       " 'cvec__max_features': None,\n",
       " 'cvec__min_df': 0.01,\n",
       " 'cvec__ngram_range': (1, 2)}"
      ]
     },
     "execution_count": 176,
     "metadata": {},
     "output_type": "execute_result"
    }
   ],
   "source": [
    "gs_cvec_logreg.best_params_"
   ]
  },
  {
   "cell_type": "code",
   "execution_count": 177,
   "id": "712b59ba",
   "metadata": {},
   "outputs": [
    {
     "data": {
      "text/plain": [
       "0.9926108374384236"
      ]
     },
     "execution_count": 177,
     "metadata": {},
     "output_type": "execute_result"
    }
   ],
   "source": [
    "gs_cvec_logreg.score(X_train,y_train)"
   ]
  },
  {
   "cell_type": "code",
   "execution_count": 178,
   "id": "b9964209",
   "metadata": {},
   "outputs": [
    {
     "data": {
      "text/plain": [
       "0.8916256157635468"
      ]
     },
     "execution_count": 178,
     "metadata": {},
     "output_type": "execute_result"
    }
   ],
   "source": [
    "gs_cvec_logreg.score(X_test, y_test)"
   ]
  },
  {
   "cell_type": "code",
   "execution_count": 179,
   "id": "9791caca",
   "metadata": {},
   "outputs": [
    {
     "data": {
      "text/html": [
       "<div>\n",
       "<style scoped>\n",
       "    .dataframe tbody tr th:only-of-type {\n",
       "        vertical-align: middle;\n",
       "    }\n",
       "\n",
       "    .dataframe tbody tr th {\n",
       "        vertical-align: top;\n",
       "    }\n",
       "\n",
       "    .dataframe thead th {\n",
       "        text-align: right;\n",
       "    }\n",
       "</style>\n",
       "<table border=\"1\" class=\"dataframe\">\n",
       "  <thead>\n",
       "    <tr style=\"text-align: right;\">\n",
       "      <th></th>\n",
       "      <th>Metric</th>\n",
       "      <th>Score</th>\n",
       "    </tr>\n",
       "  </thead>\n",
       "  <tbody>\n",
       "    <tr>\n",
       "      <th>0</th>\n",
       "      <td>Accuracy</td>\n",
       "      <td>0.891626</td>\n",
       "    </tr>\n",
       "    <tr>\n",
       "      <th>1</th>\n",
       "      <td>Misclassification Rate</td>\n",
       "      <td>0.108374</td>\n",
       "    </tr>\n",
       "    <tr>\n",
       "      <th>2</th>\n",
       "      <td>Sensitivity</td>\n",
       "      <td>0.886700</td>\n",
       "    </tr>\n",
       "    <tr>\n",
       "      <th>3</th>\n",
       "      <td>Specificity</td>\n",
       "      <td>0.896552</td>\n",
       "    </tr>\n",
       "    <tr>\n",
       "      <th>4</th>\n",
       "      <td>Precision</td>\n",
       "      <td>0.895522</td>\n",
       "    </tr>\n",
       "  </tbody>\n",
       "</table>\n",
       "</div>"
      ],
      "text/plain": [
       "                   Metric     Score\n",
       "0                Accuracy  0.891626\n",
       "1  Misclassification Rate  0.108374\n",
       "2             Sensitivity  0.886700\n",
       "3             Specificity  0.896552\n",
       "4               Precision  0.895522"
      ]
     },
     "execution_count": 179,
     "metadata": {},
     "output_type": "execute_result"
    },
    {
     "data": {
      "image/png": "[encoded data removed]",
      "text/plain": [
       "<Figure size 432x288 with 2 Axes>"
      ]
     },
     "metadata": {
      "needs_background": "light"
     },
     "output_type": "display_data"
    }
   ],
   "source": [
    "metrics_and_plot_cm(gs_cvec_logreg,X_test, y_test)"
   ]
  },
  {
   "cell_type": "markdown",
   "id": "7525531f",
   "metadata": {},
   "source": [
    "#### TFIDF Vectorizer with Logistic Regression"
   ]
  },
  {
   "cell_type": "code",
   "execution_count": 180,
   "id": "c470874a",
   "metadata": {},
   "outputs": [],
   "source": [
    "pipe_tvec_logreg = Pipeline([\n",
    "    ('tvec', TfidfVectorizer(stop_words=list_of_stopwords)),\n",
    "    ('logreg',LogisticRegression()),\n",
    "])"
   ]
  },
  {
   "cell_type": "code",
   "execution_count": 181,
   "id": "68cb9769",
   "metadata": {},
   "outputs": [],
   "source": [
    "# pipe_logreg_tvec_params = {\n",
    "#     'tvec__max_features': [None,2000,3000,4000,5000],\n",
    "#     'tvec__min_df': [2,3],\n",
    "#     'tvec__max_df': [.85,.9,.95],\n",
    "#     'tvec__ngram_range': [(1,1),(1,2),(1,3)],\n",
    "# }\n",
    "\n",
    "pipe_tvec_logreg_params = {\n",
    "    'tvec__max_features': [None],\n",
    "    'tvec__min_df': [.01],\n",
    "    'tvec__max_df': [.85],\n",
    "    'tvec__ngram_range': [(1,3)],\n",
    "}"
   ]
  },
  {
   "cell_type": "code",
   "execution_count": 182,
   "id": "1c7abfaf",
   "metadata": {},
   "outputs": [],
   "source": [
    "gs_tvec_logreg = GridSearchCV(pipe_tvec_logreg, param_grid=pipe_tvec_logreg_params, cv=5)"
   ]
  },
  {
   "cell_type": "code",
   "execution_count": 183,
   "id": "f812c3d6",
   "metadata": {},
   "outputs": [
    {
     "name": "stdout",
     "output_type": "stream",
     "text": [
      "Wall time: 2.62 s\n"
     ]
    },
    {
     "data": {
      "text/plain": [
       "GridSearchCV(cv=5,\n",
       "             estimator=Pipeline(steps=[('tvec',\n",
       "                                        TfidfVectorizer(stop_words=['find',\n",
       "                                                                    'meanwhile',\n",
       "                                                                    'hereupon',\n",
       "                                                                    'over',\n",
       "                                                                    'everyone',\n",
       "                                                                    'twelve',\n",
       "                                                                    'throughout',\n",
       "                                                                    'most',\n",
       "                                                                    'and',\n",
       "                                                                    'made',\n",
       "                                                                    'keep',\n",
       "                                                                    'beforehand',\n",
       "                                                                    'ourselves',\n",
       "                                                                    'show',\n",
       "                                                                    'whereby',\n",
       "                                                                    'fill',\n",
       "                                                                    'his', 'is',\n",
       "                                                                    'hereafter',\n",
       "                                                                    'somewhere',\n",
       "                                                                    'formerly',\n",
       "                                                                    'put',\n",
       "                                                                    'more',\n",
       "                                                                    'indeed',\n",
       "                                                                    'these',\n",
       "                                                                    'became',\n",
       "                                                                    'former',\n",
       "                                                                    'get',\n",
       "                                                                    'give',\n",
       "                                                                    'whence', ...])),\n",
       "                                       ('logreg', LogisticRegression())]),\n",
       "             param_grid={'tvec__max_df': [0.85], 'tvec__max_features': [None],\n",
       "                         'tvec__min_df': [0.01],\n",
       "                         'tvec__ngram_range': [(1, 3)]})"
      ]
     },
     "execution_count": 183,
     "metadata": {},
     "output_type": "execute_result"
    }
   ],
   "source": [
    "%%time\n",
    "gs_tvec_logreg.fit(X_train,y_train)"
   ]
  },
  {
   "cell_type": "code",
   "execution_count": 184,
   "id": "f3281150",
   "metadata": {},
   "outputs": [
    {
     "data": {
      "text/plain": [
       "0.8879449192782527"
      ]
     },
     "execution_count": 184,
     "metadata": {},
     "output_type": "execute_result"
    }
   ],
   "source": [
    "gs_tvec_logreg.best_score_"
   ]
  },
  {
   "cell_type": "code",
   "execution_count": 185,
   "id": "53aa3aff",
   "metadata": {},
   "outputs": [
    {
     "data": {
      "text/plain": [
       "{'tvec__max_df': 0.85,\n",
       " 'tvec__max_features': None,\n",
       " 'tvec__min_df': 0.01,\n",
       " 'tvec__ngram_range': (1, 3)}"
      ]
     },
     "execution_count": 185,
     "metadata": {},
     "output_type": "execute_result"
    }
   ],
   "source": [
    "gs_tvec_logreg.best_params_"
   ]
  },
  {
   "cell_type": "code",
   "execution_count": 186,
   "id": "0797653a",
   "metadata": {},
   "outputs": [
    {
     "data": {
      "text/plain": [
       "0.9618226600985221"
      ]
     },
     "execution_count": 186,
     "metadata": {},
     "output_type": "execute_result"
    }
   ],
   "source": [
    "gs_tvec_logreg.score(X_train,y_train)"
   ]
  },
  {
   "cell_type": "code",
   "execution_count": 187,
   "id": "3866ac61",
   "metadata": {},
   "outputs": [
    {
     "data": {
      "text/plain": [
       "0.9064039408866995"
      ]
     },
     "execution_count": 187,
     "metadata": {},
     "output_type": "execute_result"
    }
   ],
   "source": [
    "gs_tvec_logreg.score(X_test, y_test)"
   ]
  },
  {
   "cell_type": "code",
   "execution_count": 188,
   "id": "3b62af50",
   "metadata": {},
   "outputs": [
    {
     "data": {
      "text/html": [
       "<div>\n",
       "<style scoped>\n",
       "    .dataframe tbody tr th:only-of-type {\n",
       "        vertical-align: middle;\n",
       "    }\n",
       "\n",
       "    .dataframe tbody tr th {\n",
       "        vertical-align: top;\n",
       "    }\n",
       "\n",
       "    .dataframe thead th {\n",
       "        text-align: right;\n",
       "    }\n",
       "</style>\n",
       "<table border=\"1\" class=\"dataframe\">\n",
       "  <thead>\n",
       "    <tr style=\"text-align: right;\">\n",
       "      <th></th>\n",
       "      <th>Metric</th>\n",
       "      <th>Score</th>\n",
       "    </tr>\n",
       "  </thead>\n",
       "  <tbody>\n",
       "    <tr>\n",
       "      <th>0</th>\n",
       "      <td>Accuracy</td>\n",
       "      <td>0.906404</td>\n",
       "    </tr>\n",
       "    <tr>\n",
       "      <th>1</th>\n",
       "      <td>Misclassification Rate</td>\n",
       "      <td>0.093596</td>\n",
       "    </tr>\n",
       "    <tr>\n",
       "      <th>2</th>\n",
       "      <td>Sensitivity</td>\n",
       "      <td>0.901478</td>\n",
       "    </tr>\n",
       "    <tr>\n",
       "      <th>3</th>\n",
       "      <td>Specificity</td>\n",
       "      <td>0.911330</td>\n",
       "    </tr>\n",
       "    <tr>\n",
       "      <th>4</th>\n",
       "      <td>Precision</td>\n",
       "      <td>0.910448</td>\n",
       "    </tr>\n",
       "  </tbody>\n",
       "</table>\n",
       "</div>"
      ],
      "text/plain": [
       "                   Metric     Score\n",
       "0                Accuracy  0.906404\n",
       "1  Misclassification Rate  0.093596\n",
       "2             Sensitivity  0.901478\n",
       "3             Specificity  0.911330\n",
       "4               Precision  0.910448"
      ]
     },
     "execution_count": 188,
     "metadata": {},
     "output_type": "execute_result"
    },
    {
     "data": {
      "image/png": "[encoded data removed]",
      "text/plain": [
       "<Figure size 432x288 with 2 Axes>"
      ]
     },
     "metadata": {
      "needs_background": "light"
     },
     "output_type": "display_data"
    }
   ],
   "source": [
    "metrics_and_plot_cm(gs_tvec_logreg,X_test, y_test)"
   ]
  },
  {
   "cell_type": "markdown",
   "id": "3b23777f",
   "metadata": {},
   "source": [
    "#### CountVectorizer with k-NN Classifier"
   ]
  },
  {
   "cell_type": "code",
   "execution_count": 189,
   "id": "f758cb06",
   "metadata": {},
   "outputs": [],
   "source": [
    "pipe_cvec_knn = Pipeline([\n",
    "    ('cvec', CountVectorizer(stop_words=list_of_stopwords)),\n",
    "    ('knn',KNeighborsClassifier()),\n",
    "])"
   ]
  },
  {
   "cell_type": "code",
   "execution_count": 190,
   "id": "4d69e5f9",
   "metadata": {},
   "outputs": [],
   "source": [
    "# pipe_cvec_knn_params = {\n",
    "#     'cvec__max_features': [None,2000,3000,4000,5000],\n",
    "#     'cvec__min_df': [2,3],\n",
    "#     'cvec__max_df': [.85],\n",
    "#     'cvec__ngram_range': [(1,1),(1,2),(1,3)],\n",
    "#     'knn__n_neighbors': [5,6,7,8,9,10],\n",
    "\n",
    "# }\n",
    "\n",
    "pipe_cvec_knn_params = {\n",
    "    'cvec__max_features': [None],\n",
    "    'cvec__min_df': [.01],\n",
    "    'cvec__max_df': [.85],\n",
    "    'cvec__ngram_range': [(1,1)],\n",
    "    'knn__n_neighbors': [13],\n",
    "\n",
    "}\n",
    "\n"
   ]
  },
  {
   "cell_type": "code",
   "execution_count": 191,
   "id": "8f75aeb5",
   "metadata": {},
   "outputs": [],
   "source": [
    "gs_cvec_knn = GridSearchCV(pipe_cvec_knn, param_grid=pipe_cvec_knn_params, cv=5, verbose=1)"
   ]
  },
  {
   "cell_type": "code",
   "execution_count": 192,
   "id": "d6b20bd5",
   "metadata": {
    "scrolled": false
   },
   "outputs": [
    {
     "name": "stdout",
     "output_type": "stream",
     "text": [
      "Fitting 5 folds for each of 1 candidates, totalling 5 fits\n",
      "Wall time: 1.02 s\n"
     ]
    },
    {
     "data": {
      "text/plain": [
       "GridSearchCV(cv=5,\n",
       "             estimator=Pipeline(steps=[('cvec',\n",
       "                                        CountVectorizer(stop_words=['find',\n",
       "                                                                    'meanwhile',\n",
       "                                                                    'hereupon',\n",
       "                                                                    'over',\n",
       "                                                                    'everyone',\n",
       "                                                                    'twelve',\n",
       "                                                                    'throughout',\n",
       "                                                                    'most',\n",
       "                                                                    'and',\n",
       "                                                                    'made',\n",
       "                                                                    'keep',\n",
       "                                                                    'beforehand',\n",
       "                                                                    'ourselves',\n",
       "                                                                    'show',\n",
       "                                                                    'whereby',\n",
       "                                                                    'fill',\n",
       "                                                                    'his', 'is',\n",
       "                                                                    'hereafter',\n",
       "                                                                    'somewhere',\n",
       "                                                                    'formerly',\n",
       "                                                                    'put',\n",
       "                                                                    'more',\n",
       "                                                                    'indeed',\n",
       "                                                                    'these',\n",
       "                                                                    'became',\n",
       "                                                                    'former',\n",
       "                                                                    'get',\n",
       "                                                                    'give',\n",
       "                                                                    'whence', ...])),\n",
       "                                       ('knn', KNeighborsClassifier())]),\n",
       "             param_grid={'cvec__max_df': [0.85], 'cvec__max_features': [None],\n",
       "                         'cvec__min_df': [0.01], 'cvec__ngram_range': [(1, 1)],\n",
       "                         'knn__n_neighbors': [13]},\n",
       "             verbose=1)"
      ]
     },
     "execution_count": 192,
     "metadata": {},
     "output_type": "execute_result"
    }
   ],
   "source": [
    "%%time\n",
    "gs_cvec_knn.fit(X_train, y_train)"
   ]
  },
  {
   "cell_type": "code",
   "execution_count": 193,
   "id": "5db45e11",
   "metadata": {},
   "outputs": [
    {
     "data": {
      "text/plain": [
       "{'cvec__max_df': 0.85,\n",
       " 'cvec__max_features': None,\n",
       " 'cvec__min_df': 0.01,\n",
       " 'cvec__ngram_range': (1, 1),\n",
       " 'knn__n_neighbors': 13}"
      ]
     },
     "execution_count": 193,
     "metadata": {},
     "output_type": "execute_result"
    }
   ],
   "source": [
    "gs_cvec_knn.best_params_"
   ]
  },
  {
   "cell_type": "code",
   "execution_count": 194,
   "id": "8a6c4fb3",
   "metadata": {},
   "outputs": [
    {
     "data": {
      "text/plain": [
       "0.646551724137931"
      ]
     },
     "execution_count": 194,
     "metadata": {},
     "output_type": "execute_result"
    }
   ],
   "source": [
    "gs_cvec_knn.score(X_train, y_train)"
   ]
  },
  {
   "cell_type": "code",
   "execution_count": 195,
   "id": "1a859b39",
   "metadata": {},
   "outputs": [
    {
     "data": {
      "text/plain": [
       "0.5197044334975369"
      ]
     },
     "execution_count": 195,
     "metadata": {},
     "output_type": "execute_result"
    }
   ],
   "source": [
    "gs_cvec_knn.score(X_test,y_test)"
   ]
  },
  {
   "cell_type": "code",
   "execution_count": 196,
   "id": "085a700e",
   "metadata": {},
   "outputs": [
    {
     "data": {
      "text/html": [
       "<div>\n",
       "<style scoped>\n",
       "    .dataframe tbody tr th:only-of-type {\n",
       "        vertical-align: middle;\n",
       "    }\n",
       "\n",
       "    .dataframe tbody tr th {\n",
       "        vertical-align: top;\n",
       "    }\n",
       "\n",
       "    .dataframe thead th {\n",
       "        text-align: right;\n",
       "    }\n",
       "</style>\n",
       "<table border=\"1\" class=\"dataframe\">\n",
       "  <thead>\n",
       "    <tr style=\"text-align: right;\">\n",
       "      <th></th>\n",
       "      <th>Metric</th>\n",
       "      <th>Score</th>\n",
       "    </tr>\n",
       "  </thead>\n",
       "  <tbody>\n",
       "    <tr>\n",
       "      <th>0</th>\n",
       "      <td>Accuracy</td>\n",
       "      <td>0.519704</td>\n",
       "    </tr>\n",
       "    <tr>\n",
       "      <th>1</th>\n",
       "      <td>Misclassification Rate</td>\n",
       "      <td>0.480296</td>\n",
       "    </tr>\n",
       "    <tr>\n",
       "      <th>2</th>\n",
       "      <td>Sensitivity</td>\n",
       "      <td>0.571429</td>\n",
       "    </tr>\n",
       "    <tr>\n",
       "      <th>3</th>\n",
       "      <td>Specificity</td>\n",
       "      <td>0.467980</td>\n",
       "    </tr>\n",
       "    <tr>\n",
       "      <th>4</th>\n",
       "      <td>Precision</td>\n",
       "      <td>0.517857</td>\n",
       "    </tr>\n",
       "  </tbody>\n",
       "</table>\n",
       "</div>"
      ],
      "text/plain": [
       "                   Metric     Score\n",
       "0                Accuracy  0.519704\n",
       "1  Misclassification Rate  0.480296\n",
       "2             Sensitivity  0.571429\n",
       "3             Specificity  0.467980\n",
       "4               Precision  0.517857"
      ]
     },
     "execution_count": 196,
     "metadata": {},
     "output_type": "execute_result"
    },
    {
     "data": {
      "image/png": "[encoded data removed]",
      "text/plain": [
       "<Figure size 432x288 with 2 Axes>"
      ]
     },
     "metadata": {
      "needs_background": "light"
     },
     "output_type": "display_data"
    }
   ],
   "source": [
    "metrics_and_plot_cm(gs_cvec_knn,X_test, y_test)"
   ]
  },
  {
   "cell_type": "markdown",
   "id": "5555398e",
   "metadata": {},
   "source": [
    "#### TFIDF Vectorizer with k-NN Classifier"
   ]
  },
  {
   "cell_type": "code",
   "execution_count": 211,
   "id": "375ebb28",
   "metadata": {},
   "outputs": [],
   "source": [
    "pipe_tvec_knn = Pipeline([\n",
    "    ('tvec', TfidfVectorizer(stop_words=list_of_stopwords)),\n",
    "    ('knn',KNeighborsClassifier()),\n",
    "])"
   ]
  },
  {
   "cell_type": "code",
   "execution_count": 212,
   "id": "68e39a5c",
   "metadata": {},
   "outputs": [],
   "source": [
    "pipe_tvec_knn_params = {\n",
    "    'tvec__max_features': [None],\n",
    "     'tvec__min_df': [.01],\n",
    "    'tvec__max_df': [.9],\n",
    "    'tvec__ngram_range': [(1,1)],\n",
    "    'knn__n_neighbors': [13],\n",
    "\n",
    "}"
   ]
  },
  {
   "cell_type": "code",
   "execution_count": 213,
   "id": "74e1150a",
   "metadata": {},
   "outputs": [],
   "source": [
    "gs_tvec_knn = GridSearchCV(pipe_tvec_knn, param_grid=pipe_tvec_knn_params, cv=5, verbose=1)"
   ]
  },
  {
   "cell_type": "code",
   "execution_count": 214,
   "id": "53fd5b77",
   "metadata": {
    "scrolled": true
   },
   "outputs": [
    {
     "name": "stdout",
     "output_type": "stream",
     "text": [
      "Fitting 5 folds for each of 1 candidates, totalling 5 fits\n",
      "Wall time: 1.02 s\n"
     ]
    },
    {
     "data": {
      "text/plain": [
       "GridSearchCV(cv=5,\n",
       "             estimator=Pipeline(steps=[('tvec',\n",
       "                                        TfidfVectorizer(stop_words=['find',\n",
       "                                                                    'meanwhile',\n",
       "                                                                    'hereupon',\n",
       "                                                                    'over',\n",
       "                                                                    'everyone',\n",
       "                                                                    'twelve',\n",
       "                                                                    'throughout',\n",
       "                                                                    'most',\n",
       "                                                                    'and',\n",
       "                                                                    'made',\n",
       "                                                                    'keep',\n",
       "                                                                    'beforehand',\n",
       "                                                                    'ourselves',\n",
       "                                                                    'show',\n",
       "                                                                    'whereby',\n",
       "                                                                    'fill',\n",
       "                                                                    'his', 'is',\n",
       "                                                                    'hereafter',\n",
       "                                                                    'somewhere',\n",
       "                                                                    'formerly',\n",
       "                                                                    'put',\n",
       "                                                                    'more',\n",
       "                                                                    'indeed',\n",
       "                                                                    'these',\n",
       "                                                                    'became',\n",
       "                                                                    'former',\n",
       "                                                                    'get',\n",
       "                                                                    'give',\n",
       "                                                                    'whence', ...])),\n",
       "                                       ('knn', KNeighborsClassifier())]),\n",
       "             param_grid={'knn__n_neighbors': [13], 'tvec__max_df': [0.9],\n",
       "                         'tvec__max_features': [None], 'tvec__min_df': [0.01],\n",
       "                         'tvec__ngram_range': [(1, 1)]},\n",
       "             verbose=1)"
      ]
     },
     "execution_count": 214,
     "metadata": {},
     "output_type": "execute_result"
    }
   ],
   "source": [
    "%%time\n",
    "gs_tvec_knn.fit(X_train, y_train)"
   ]
  },
  {
   "cell_type": "code",
   "execution_count": 215,
   "id": "6e8a4153",
   "metadata": {},
   "outputs": [
    {
     "data": {
      "text/plain": [
       "{'knn__n_neighbors': 13,\n",
       " 'tvec__max_df': 0.9,\n",
       " 'tvec__max_features': None,\n",
       " 'tvec__min_df': 0.01,\n",
       " 'tvec__ngram_range': (1, 1)}"
      ]
     },
     "execution_count": 215,
     "metadata": {},
     "output_type": "execute_result"
    }
   ],
   "source": [
    "gs_tvec_knn.best_params_"
   ]
  },
  {
   "cell_type": "code",
   "execution_count": 216,
   "id": "b8d6400e",
   "metadata": {},
   "outputs": [
    {
     "data": {
      "text/plain": [
       "0.8146571699905033"
      ]
     },
     "execution_count": 216,
     "metadata": {},
     "output_type": "execute_result"
    }
   ],
   "source": [
    "gs_tvec_knn.best_score_"
   ]
  },
  {
   "cell_type": "code",
   "execution_count": 217,
   "id": "39786bf0",
   "metadata": {},
   "outputs": [
    {
     "data": {
      "text/plain": [
       "0.8565270935960592"
      ]
     },
     "execution_count": 217,
     "metadata": {},
     "output_type": "execute_result"
    }
   ],
   "source": [
    "gs_tvec_knn.score(X_train, y_train)"
   ]
  },
  {
   "cell_type": "code",
   "execution_count": 218,
   "id": "2a383168",
   "metadata": {},
   "outputs": [
    {
     "data": {
      "text/plain": [
       "0.8399014778325123"
      ]
     },
     "execution_count": 218,
     "metadata": {},
     "output_type": "execute_result"
    }
   ],
   "source": [
    "gs_tvec_knn.score(X_test, y_test)"
   ]
  },
  {
   "cell_type": "code",
   "execution_count": 210,
   "id": "30277b48",
   "metadata": {},
   "outputs": [
    {
     "data": {
      "text/html": [
       "<div>\n",
       "<style scoped>\n",
       "    .dataframe tbody tr th:only-of-type {\n",
       "        vertical-align: middle;\n",
       "    }\n",
       "\n",
       "    .dataframe tbody tr th {\n",
       "        vertical-align: top;\n",
       "    }\n",
       "\n",
       "    .dataframe thead th {\n",
       "        text-align: right;\n",
       "    }\n",
       "</style>\n",
       "<table border=\"1\" class=\"dataframe\">\n",
       "  <thead>\n",
       "    <tr style=\"text-align: right;\">\n",
       "      <th></th>\n",
       "      <th>Metric</th>\n",
       "      <th>Score</th>\n",
       "    </tr>\n",
       "  </thead>\n",
       "  <tbody>\n",
       "    <tr>\n",
       "      <th>0</th>\n",
       "      <td>Accuracy</td>\n",
       "      <td>0.839901</td>\n",
       "    </tr>\n",
       "    <tr>\n",
       "      <th>1</th>\n",
       "      <td>Misclassification Rate</td>\n",
       "      <td>0.160099</td>\n",
       "    </tr>\n",
       "    <tr>\n",
       "      <th>2</th>\n",
       "      <td>Sensitivity</td>\n",
       "      <td>0.871921</td>\n",
       "    </tr>\n",
       "    <tr>\n",
       "      <th>3</th>\n",
       "      <td>Specificity</td>\n",
       "      <td>0.807882</td>\n",
       "    </tr>\n",
       "    <tr>\n",
       "      <th>4</th>\n",
       "      <td>Precision</td>\n",
       "      <td>0.819444</td>\n",
       "    </tr>\n",
       "  </tbody>\n",
       "</table>\n",
       "</div>"
      ],
      "text/plain": [
       "                   Metric     Score\n",
       "0                Accuracy  0.839901\n",
       "1  Misclassification Rate  0.160099\n",
       "2             Sensitivity  0.871921\n",
       "3             Specificity  0.807882\n",
       "4               Precision  0.819444"
      ]
     },
     "execution_count": 210,
     "metadata": {},
     "output_type": "execute_result"
    },
    {
     "data": {
      "image/png": "[encoded data removed]",
      "text/plain": [
       "<Figure size 432x288 with 2 Axes>"
      ]
     },
     "metadata": {
      "needs_background": "light"
     },
     "output_type": "display_data"
    }
   ],
   "source": [
    "metrics_and_plot_cm(gs_tvec_knn,X_test, y_test)"
   ]
  },
  {
   "cell_type": "markdown",
   "id": "3997abff",
   "metadata": {},
   "source": [
    "#### Using CountVectorizer with Naive Bayes"
   ]
  },
  {
   "cell_type": "code",
   "execution_count": 224,
   "id": "142114f8",
   "metadata": {},
   "outputs": [],
   "source": [
    "pipe_cvec_nb = Pipeline([\n",
    "    ('cvec', CountVectorizer(stop_words=list_of_stopwords)),\n",
    "    ('nb', MultinomialNB())\n",
    "])"
   ]
  },
  {
   "cell_type": "code",
   "execution_count": 225,
   "id": "bfe33aa2",
   "metadata": {},
   "outputs": [],
   "source": [
    "pipe_cvec_nb_params = {\n",
    "    'cvec__max_features': [None],\n",
    "    'cvec__min_df': [.01],\n",
    "    'cvec__max_df': [.9],\n",
    "    'cvec__ngram_range': [(1,2)],\n",
    "    'nb__alpha':[0.25]\n",
    "}"
   ]
  },
  {
   "cell_type": "code",
   "execution_count": 226,
   "id": "f34d4923",
   "metadata": {},
   "outputs": [],
   "source": [
    "gs_cvec_nb = GridSearchCV(pipe_cvec_nb, param_grid=pipe_cvec_nb_params, cv=5, verbose=1)"
   ]
  },
  {
   "cell_type": "code",
   "execution_count": 227,
   "id": "a28f19c4",
   "metadata": {},
   "outputs": [
    {
     "name": "stdout",
     "output_type": "stream",
     "text": [
      "Fitting 5 folds for each of 1 candidates, totalling 5 fits\n",
      "Wall time: 1.72 s\n"
     ]
    },
    {
     "data": {
      "text/plain": [
       "GridSearchCV(cv=5,\n",
       "             estimator=Pipeline(steps=[('cvec',\n",
       "                                        CountVectorizer(stop_words=['find',\n",
       "                                                                    'meanwhile',\n",
       "                                                                    'hereupon',\n",
       "                                                                    'over',\n",
       "                                                                    'everyone',\n",
       "                                                                    'twelve',\n",
       "                                                                    'throughout',\n",
       "                                                                    'most',\n",
       "                                                                    'and',\n",
       "                                                                    'made',\n",
       "                                                                    'keep',\n",
       "                                                                    'beforehand',\n",
       "                                                                    'ourselves',\n",
       "                                                                    'show',\n",
       "                                                                    'whereby',\n",
       "                                                                    'fill',\n",
       "                                                                    'his', 'is',\n",
       "                                                                    'hereafter',\n",
       "                                                                    'somewhere',\n",
       "                                                                    'formerly',\n",
       "                                                                    'put',\n",
       "                                                                    'more',\n",
       "                                                                    'indeed',\n",
       "                                                                    'these',\n",
       "                                                                    'became',\n",
       "                                                                    'former',\n",
       "                                                                    'get',\n",
       "                                                                    'give',\n",
       "                                                                    'whence', ...])),\n",
       "                                       ('nb', MultinomialNB())]),\n",
       "             param_grid={'cvec__max_df': [0.9], 'cvec__max_features': [None],\n",
       "                         'cvec__min_df': [0.01], 'cvec__ngram_range': [(1, 2)],\n",
       "                         'nb__alpha': [0.25]},\n",
       "             verbose=1)"
      ]
     },
     "execution_count": 227,
     "metadata": {},
     "output_type": "execute_result"
    }
   ],
   "source": [
    "%%time\n",
    "gs_cvec_nb.fit(X_train, y_train)"
   ]
  },
  {
   "cell_type": "code",
   "execution_count": 228,
   "id": "849dbeb7",
   "metadata": {
    "scrolled": true
   },
   "outputs": [
    {
     "name": "stdout",
     "output_type": "stream",
     "text": [
      "0.8725508072174737\n"
     ]
    }
   ],
   "source": [
    "print(gs_cvec_nb.best_score_)"
   ]
  },
  {
   "cell_type": "code",
   "execution_count": 229,
   "id": "ec44b270",
   "metadata": {},
   "outputs": [
    {
     "data": {
      "text/plain": [
       "{'cvec__max_df': 0.9,\n",
       " 'cvec__max_features': None,\n",
       " 'cvec__min_df': 0.01,\n",
       " 'cvec__ngram_range': (1, 2),\n",
       " 'nb__alpha': 0.25}"
      ]
     },
     "execution_count": 229,
     "metadata": {},
     "output_type": "execute_result"
    }
   ],
   "source": [
    "gs_cvec_nb.best_params_"
   ]
  },
  {
   "cell_type": "code",
   "execution_count": 230,
   "id": "ab697a21",
   "metadata": {},
   "outputs": [
    {
     "data": {
      "text/plain": [
       "0.9144088669950738"
      ]
     },
     "execution_count": 230,
     "metadata": {},
     "output_type": "execute_result"
    }
   ],
   "source": [
    "gs_cvec_nb.score(X_train, y_train)"
   ]
  },
  {
   "cell_type": "code",
   "execution_count": 231,
   "id": "d08da03c",
   "metadata": {},
   "outputs": [
    {
     "data": {
      "text/plain": [
       "0.874384236453202"
      ]
     },
     "execution_count": 231,
     "metadata": {},
     "output_type": "execute_result"
    }
   ],
   "source": [
    "gs_cvec_nb.score(X_test,y_test)"
   ]
  },
  {
   "cell_type": "code",
   "execution_count": 233,
   "id": "b41f2b7c",
   "metadata": {},
   "outputs": [
    {
     "data": {
      "text/html": [
       "<div>\n",
       "<style scoped>\n",
       "    .dataframe tbody tr th:only-of-type {\n",
       "        vertical-align: middle;\n",
       "    }\n",
       "\n",
       "    .dataframe tbody tr th {\n",
       "        vertical-align: top;\n",
       "    }\n",
       "\n",
       "    .dataframe thead th {\n",
       "        text-align: right;\n",
       "    }\n",
       "</style>\n",
       "<table border=\"1\" class=\"dataframe\">\n",
       "  <thead>\n",
       "    <tr style=\"text-align: right;\">\n",
       "      <th></th>\n",
       "      <th>Metric</th>\n",
       "      <th>Score</th>\n",
       "    </tr>\n",
       "  </thead>\n",
       "  <tbody>\n",
       "    <tr>\n",
       "      <th>0</th>\n",
       "      <td>Accuracy</td>\n",
       "      <td>0.874384</td>\n",
       "    </tr>\n",
       "    <tr>\n",
       "      <th>1</th>\n",
       "      <td>Misclassification Rate</td>\n",
       "      <td>0.125616</td>\n",
       "    </tr>\n",
       "    <tr>\n",
       "      <th>2</th>\n",
       "      <td>Sensitivity</td>\n",
       "      <td>0.926108</td>\n",
       "    </tr>\n",
       "    <tr>\n",
       "      <th>3</th>\n",
       "      <td>Specificity</td>\n",
       "      <td>0.822660</td>\n",
       "    </tr>\n",
       "    <tr>\n",
       "      <th>4</th>\n",
       "      <td>Precision</td>\n",
       "      <td>0.839286</td>\n",
       "    </tr>\n",
       "  </tbody>\n",
       "</table>\n",
       "</div>"
      ],
      "text/plain": [
       "                   Metric     Score\n",
       "0                Accuracy  0.874384\n",
       "1  Misclassification Rate  0.125616\n",
       "2             Sensitivity  0.926108\n",
       "3             Specificity  0.822660\n",
       "4               Precision  0.839286"
      ]
     },
     "execution_count": 233,
     "metadata": {},
     "output_type": "execute_result"
    },
    {
     "data": {
      "image/png": "[encoded data removed]",
      "text/plain": [
       "<Figure size 432x288 with 2 Axes>"
      ]
     },
     "metadata": {
      "needs_background": "light"
     },
     "output_type": "display_data"
    }
   ],
   "source": [
    "metrics_and_plot_cm(gs_cvec_nb,X_test, y_test)"
   ]
  },
  {
   "cell_type": "markdown",
   "id": "57d8a841",
   "metadata": {},
   "source": [
    "#### Using TFIDF Vectorizer with Naive Bayes Classifier"
   ]
  },
  {
   "cell_type": "code",
   "execution_count": 234,
   "id": "ff1899a5",
   "metadata": {},
   "outputs": [],
   "source": [
    "pipe_tvec_nb = Pipeline([\n",
    "    ('tvec', TfidfVectorizer(stop_words=list_of_stopwords)),\n",
    "    ('nb', MultinomialNB())\n",
    "])"
   ]
  },
  {
   "cell_type": "code",
   "execution_count": 235,
   "id": "b4acb375",
   "metadata": {},
   "outputs": [],
   "source": [
    "# pipe_tvec_nb_params = {\n",
    "#     'tvec__max_features': [None,2000,3000,4000],\n",
    "#     'tvec__min_df': [.2],\n",
    "#     'tvec__max_df': [.9,.95],\n",
    "#     'tvec__ngram_range': [(1,1),(1,2),(1,3)],\n",
    "#     'nb__alpha':[0.1,1,10]\n",
    "# }\n",
    "\n",
    "pipe_tvec_nb_params = {\n",
    "    'tvec__max_features': [None],\n",
    "    'tvec__min_df': [.01],\n",
    "    'tvec__max_df': [.9],\n",
    "    'tvec__ngram_range': [(1,1)],\n",
    "    'nb__alpha':[0.1]\n",
    "}\n"
   ]
  },
  {
   "cell_type": "code",
   "execution_count": 236,
   "id": "3ee83d6b",
   "metadata": {},
   "outputs": [],
   "source": [
    "gs_tvec_nb = GridSearchCV(pipe_tvec_nb, param_grid=pipe_tvec_nb_params, cv=5, verbose=1)"
   ]
  },
  {
   "cell_type": "code",
   "execution_count": 237,
   "id": "df5b13b8",
   "metadata": {},
   "outputs": [
    {
     "name": "stdout",
     "output_type": "stream",
     "text": [
      "Fitting 5 folds for each of 1 candidates, totalling 5 fits\n",
      "Wall time: 931 ms\n"
     ]
    },
    {
     "data": {
      "text/plain": [
       "GridSearchCV(cv=5,\n",
       "             estimator=Pipeline(steps=[('tvec',\n",
       "                                        TfidfVectorizer(stop_words=['find',\n",
       "                                                                    'meanwhile',\n",
       "                                                                    'hereupon',\n",
       "                                                                    'over',\n",
       "                                                                    'everyone',\n",
       "                                                                    'twelve',\n",
       "                                                                    'throughout',\n",
       "                                                                    'most',\n",
       "                                                                    'and',\n",
       "                                                                    'made',\n",
       "                                                                    'keep',\n",
       "                                                                    'beforehand',\n",
       "                                                                    'ourselves',\n",
       "                                                                    'show',\n",
       "                                                                    'whereby',\n",
       "                                                                    'fill',\n",
       "                                                                    'his', 'is',\n",
       "                                                                    'hereafter',\n",
       "                                                                    'somewhere',\n",
       "                                                                    'formerly',\n",
       "                                                                    'put',\n",
       "                                                                    'more',\n",
       "                                                                    'indeed',\n",
       "                                                                    'these',\n",
       "                                                                    'became',\n",
       "                                                                    'former',\n",
       "                                                                    'get',\n",
       "                                                                    'give',\n",
       "                                                                    'whence', ...])),\n",
       "                                       ('nb', MultinomialNB())]),\n",
       "             param_grid={'nb__alpha': [0.1], 'tvec__max_df': [0.9],\n",
       "                         'tvec__max_features': [None], 'tvec__min_df': [0.01],\n",
       "                         'tvec__ngram_range': [(1, 1)]},\n",
       "             verbose=1)"
      ]
     },
     "execution_count": 237,
     "metadata": {},
     "output_type": "execute_result"
    }
   ],
   "source": [
    "%%time\n",
    "gs_tvec_nb.fit(X_train, y_train)"
   ]
  },
  {
   "cell_type": "code",
   "execution_count": 238,
   "id": "b927f9eb",
   "metadata": {},
   "outputs": [
    {
     "data": {
      "text/plain": [
       "0.9341133004926109"
      ]
     },
     "execution_count": 238,
     "metadata": {},
     "output_type": "execute_result"
    }
   ],
   "source": [
    "gs_tvec_nb.score(X_train,y_train)"
   ]
  },
  {
   "cell_type": "code",
   "execution_count": 239,
   "id": "716e58fa",
   "metadata": {},
   "outputs": [
    {
     "data": {
      "text/plain": [
       "0.8768472906403941"
      ]
     },
     "execution_count": 239,
     "metadata": {},
     "output_type": "execute_result"
    }
   ],
   "source": [
    "gs_tvec_nb.score(X_test, y_test)"
   ]
  },
  {
   "cell_type": "code",
   "execution_count": 240,
   "id": "953e0f49",
   "metadata": {},
   "outputs": [
    {
     "data": {
      "text/plain": [
       "0.8817891737891739"
      ]
     },
     "execution_count": 240,
     "metadata": {},
     "output_type": "execute_result"
    }
   ],
   "source": [
    "gs_tvec_nb.best_score_"
   ]
  },
  {
   "cell_type": "code",
   "execution_count": 242,
   "id": "965e85fa",
   "metadata": {},
   "outputs": [
    {
     "data": {
      "text/html": [
       "<div>\n",
       "<style scoped>\n",
       "    .dataframe tbody tr th:only-of-type {\n",
       "        vertical-align: middle;\n",
       "    }\n",
       "\n",
       "    .dataframe tbody tr th {\n",
       "        vertical-align: top;\n",
       "    }\n",
       "\n",
       "    .dataframe thead th {\n",
       "        text-align: right;\n",
       "    }\n",
       "</style>\n",
       "<table border=\"1\" class=\"dataframe\">\n",
       "  <thead>\n",
       "    <tr style=\"text-align: right;\">\n",
       "      <th></th>\n",
       "      <th>Metric</th>\n",
       "      <th>Score</th>\n",
       "    </tr>\n",
       "  </thead>\n",
       "  <tbody>\n",
       "    <tr>\n",
       "      <th>0</th>\n",
       "      <td>Accuracy</td>\n",
       "      <td>0.876847</td>\n",
       "    </tr>\n",
       "    <tr>\n",
       "      <th>1</th>\n",
       "      <td>Misclassification Rate</td>\n",
       "      <td>0.123153</td>\n",
       "    </tr>\n",
       "    <tr>\n",
       "      <th>2</th>\n",
       "      <td>Sensitivity</td>\n",
       "      <td>0.911330</td>\n",
       "    </tr>\n",
       "    <tr>\n",
       "      <th>3</th>\n",
       "      <td>Specificity</td>\n",
       "      <td>0.842365</td>\n",
       "    </tr>\n",
       "    <tr>\n",
       "      <th>4</th>\n",
       "      <td>Precision</td>\n",
       "      <td>0.852535</td>\n",
       "    </tr>\n",
       "  </tbody>\n",
       "</table>\n",
       "</div>"
      ],
      "text/plain": [
       "                   Metric     Score\n",
       "0                Accuracy  0.876847\n",
       "1  Misclassification Rate  0.123153\n",
       "2             Sensitivity  0.911330\n",
       "3             Specificity  0.842365\n",
       "4               Precision  0.852535"
      ]
     },
     "execution_count": 242,
     "metadata": {},
     "output_type": "execute_result"
    },
    {
     "data": {
      "image/png": "[encoded data removed]",
      "text/plain": [
       "<Figure size 432x288 with 2 Axes>"
      ]
     },
     "metadata": {
      "needs_background": "light"
     },
     "output_type": "display_data"
    }
   ],
   "source": [
    "metrics_and_plot_cm(gs_tvec_nb,X_test, y_test)"
   ]
  },
  {
   "cell_type": "markdown",
   "id": "d36cfe70",
   "metadata": {},
   "source": [
    "#### Using CountVectorizer with DecisionTreeClassifier"
   ]
  },
  {
   "cell_type": "code",
   "execution_count": 243,
   "id": "2cfdd87a",
   "metadata": {},
   "outputs": [],
   "source": [
    "pipe_cvec_tree = Pipeline([\n",
    "    ('cvec', CountVectorizer(stop_words=list_of_stopwords)),\n",
    "    ('tree', DecisionTreeClassifier())\n",
    "])"
   ]
  },
  {
   "cell_type": "code",
   "execution_count": 244,
   "id": "32c22c4c",
   "metadata": {},
   "outputs": [],
   "source": [
    "pipe_cvec_tree_params = {\n",
    "    'cvec__max_features': [None],\n",
    "    'cvec__min_df': [.01],\n",
    "    'cvec__max_df': [.9],\n",
    "    'cvec__ngram_range': [(1,1)],\n",
    "    'tree__max_depth': [None],\n",
    "    'tree__min_samples_split': [30],\n",
    "    'tree__min_samples_leaf': [5],\n",
    "    'tree__ccp_alpha': [0.001]\n",
    "}"
   ]
  },
  {
   "cell_type": "code",
   "execution_count": 245,
   "id": "4d64640b",
   "metadata": {},
   "outputs": [],
   "source": [
    "gs_cvec_tree = GridSearchCV(estimator=pipe_cvec_tree, \n",
    "                            param_grid=pipe_cvec_tree_params,\n",
    "                            cv=5,\n",
    "                            verbose=1)"
   ]
  },
  {
   "cell_type": "code",
   "execution_count": 246,
   "id": "df3174cb",
   "metadata": {},
   "outputs": [
    {
     "name": "stdout",
     "output_type": "stream",
     "text": [
      "Fitting 5 folds for each of 1 candidates, totalling 5 fits\n",
      "Wall time: 1.17 s\n"
     ]
    },
    {
     "data": {
      "text/plain": [
       "GridSearchCV(cv=5,\n",
       "             estimator=Pipeline(steps=[('cvec',\n",
       "                                        CountVectorizer(stop_words=['find',\n",
       "                                                                    'meanwhile',\n",
       "                                                                    'hereupon',\n",
       "                                                                    'over',\n",
       "                                                                    'everyone',\n",
       "                                                                    'twelve',\n",
       "                                                                    'throughout',\n",
       "                                                                    'most',\n",
       "                                                                    'and',\n",
       "                                                                    'made',\n",
       "                                                                    'keep',\n",
       "                                                                    'beforehand',\n",
       "                                                                    'ourselves',\n",
       "                                                                    'show',\n",
       "                                                                    'whereby',\n",
       "                                                                    'fill',\n",
       "                                                                    'his', 'is',\n",
       "                                                                    'hereafter',\n",
       "                                                                    'somewhere',\n",
       "                                                                    'formerly',\n",
       "                                                                    'put',\n",
       "                                                                    'more',\n",
       "                                                                    'indeed',\n",
       "                                                                    'these',\n",
       "                                                                    'became',\n",
       "                                                                    'former',\n",
       "                                                                    'get',\n",
       "                                                                    'give',\n",
       "                                                                    'whence', ...])),\n",
       "                                       ('tree', DecisionTreeClassifier())]),\n",
       "             param_grid={'cvec__max_df': [0.9], 'cvec__max_features': [None],\n",
       "                         'cvec__min_df': [0.01], 'cvec__ngram_range': [(1, 1)],\n",
       "                         'tree__ccp_alpha': [0.001], 'tree__max_depth': [None],\n",
       "                         'tree__min_samples_leaf': [5],\n",
       "                         'tree__min_samples_split': [30]},\n",
       "             verbose=1)"
      ]
     },
     "execution_count": 246,
     "metadata": {},
     "output_type": "execute_result"
    }
   ],
   "source": [
    "%%time\n",
    "gs_cvec_tree.fit(X_train, y_train)"
   ]
  },
  {
   "cell_type": "code",
   "execution_count": 247,
   "id": "a4dc5a10",
   "metadata": {},
   "outputs": [
    {
     "data": {
      "text/plain": [
       "{'cvec__max_df': 0.9,\n",
       " 'cvec__max_features': None,\n",
       " 'cvec__min_df': 0.01,\n",
       " 'cvec__ngram_range': (1, 1),\n",
       " 'tree__ccp_alpha': 0.001,\n",
       " 'tree__max_depth': None,\n",
       " 'tree__min_samples_leaf': 5,\n",
       " 'tree__min_samples_split': 30}"
      ]
     },
     "execution_count": 247,
     "metadata": {},
     "output_type": "execute_result"
    }
   ],
   "source": [
    "gs_cvec_tree.best_params_"
   ]
  },
  {
   "cell_type": "code",
   "execution_count": 248,
   "id": "55f87fcc",
   "metadata": {},
   "outputs": [
    {
     "data": {
      "text/plain": [
       "0.7623285849952517"
      ]
     },
     "execution_count": 248,
     "metadata": {},
     "output_type": "execute_result"
    }
   ],
   "source": [
    "gs_cvec_tree.best_score_"
   ]
  },
  {
   "cell_type": "code",
   "execution_count": 249,
   "id": "84667ec4",
   "metadata": {},
   "outputs": [
    {
     "data": {
      "text/plain": [
       "0.8848522167487685"
      ]
     },
     "execution_count": 249,
     "metadata": {},
     "output_type": "execute_result"
    }
   ],
   "source": [
    "gs_cvec_tree.score(X_train, y_train)"
   ]
  },
  {
   "cell_type": "code",
   "execution_count": 250,
   "id": "11bd8558",
   "metadata": {},
   "outputs": [
    {
     "data": {
      "text/plain": [
       "0.8226600985221675"
      ]
     },
     "execution_count": 250,
     "metadata": {},
     "output_type": "execute_result"
    }
   ],
   "source": [
    "gs_cvec_tree.score(X_test, y_test)"
   ]
  },
  {
   "cell_type": "code",
   "execution_count": 251,
   "id": "f782f99d",
   "metadata": {},
   "outputs": [
    {
     "data": {
      "text/html": [
       "<div>\n",
       "<style scoped>\n",
       "    .dataframe tbody tr th:only-of-type {\n",
       "        vertical-align: middle;\n",
       "    }\n",
       "\n",
       "    .dataframe tbody tr th {\n",
       "        vertical-align: top;\n",
       "    }\n",
       "\n",
       "    .dataframe thead th {\n",
       "        text-align: right;\n",
       "    }\n",
       "</style>\n",
       "<table border=\"1\" class=\"dataframe\">\n",
       "  <thead>\n",
       "    <tr style=\"text-align: right;\">\n",
       "      <th></th>\n",
       "      <th>Metric</th>\n",
       "      <th>Score</th>\n",
       "    </tr>\n",
       "  </thead>\n",
       "  <tbody>\n",
       "    <tr>\n",
       "      <th>0</th>\n",
       "      <td>Accuracy</td>\n",
       "      <td>0.822660</td>\n",
       "    </tr>\n",
       "    <tr>\n",
       "      <th>1</th>\n",
       "      <td>Misclassification Rate</td>\n",
       "      <td>0.177340</td>\n",
       "    </tr>\n",
       "    <tr>\n",
       "      <th>2</th>\n",
       "      <td>Sensitivity</td>\n",
       "      <td>0.802956</td>\n",
       "    </tr>\n",
       "    <tr>\n",
       "      <th>3</th>\n",
       "      <td>Specificity</td>\n",
       "      <td>0.842365</td>\n",
       "    </tr>\n",
       "    <tr>\n",
       "      <th>4</th>\n",
       "      <td>Precision</td>\n",
       "      <td>0.835897</td>\n",
       "    </tr>\n",
       "  </tbody>\n",
       "</table>\n",
       "</div>"
      ],
      "text/plain": [
       "                   Metric     Score\n",
       "0                Accuracy  0.822660\n",
       "1  Misclassification Rate  0.177340\n",
       "2             Sensitivity  0.802956\n",
       "3             Specificity  0.842365\n",
       "4               Precision  0.835897"
      ]
     },
     "execution_count": 251,
     "metadata": {},
     "output_type": "execute_result"
    },
    {
     "data": {
      "image/png": "[encoded data removed]",
      "text/plain": [
       "<Figure size 432x288 with 2 Axes>"
      ]
     },
     "metadata": {
      "needs_background": "light"
     },
     "output_type": "display_data"
    }
   ],
   "source": [
    "metrics_and_plot_cm(gs_cvec_tree,X_test, y_test)"
   ]
  },
  {
   "cell_type": "code",
   "execution_count": null,
   "id": "8f9f6fe2",
   "metadata": {},
   "outputs": [],
   "source": []
  },
  {
   "cell_type": "code",
   "execution_count": null,
   "id": "8c8fe0c3",
   "metadata": {},
   "outputs": [],
   "source": []
  },
  {
   "cell_type": "markdown",
   "id": "12f56b19",
   "metadata": {},
   "source": [
    "#### Using TFIDFVectorizer with DecisionTreeClassifier"
   ]
  },
  {
   "cell_type": "code",
   "execution_count": 252,
   "id": "8c528242",
   "metadata": {},
   "outputs": [],
   "source": [
    "pipe_tvec_tree = Pipeline([\n",
    "    ('tvec', TfidfVectorizer(stop_words=list_of_stopwords)),\n",
    "    ('tree', DecisionTreeClassifier())\n",
    "])"
   ]
  },
  {
   "cell_type": "code",
   "execution_count": 253,
   "id": "3af6ce91",
   "metadata": {},
   "outputs": [],
   "source": [
    "# pipe_tree_params = {\n",
    "#     'tvec__max_features': [None],\n",
    "#     'tvec__min_df': [.2,.3],\n",
    "#     'tvec__max_df': [.9,.95],\n",
    "#     'tvec__ngram_range': [(1,1),(1,2)],\n",
    "#     'tree__max_depth': [None],\n",
    "#     'tree__min_samples_split': [5,10,15,20],\n",
    "#     'tree__min_samples_leaf': [2,3,4,5,6],\n",
    "#     'tree__ccp_alpha': [0,0.001,0.01,0.1,1,10]\n",
    "# }\n",
    "\n",
    "pipe_tvec_tree_params = {\n",
    "    'tvec__max_features': [None],\n",
    "    'tvec__min_df': [.01],\n",
    "    'tvec__max_df': [.9],\n",
    "    'tvec__ngram_range': [(1,1)],\n",
    "    'tree__max_depth': [None],\n",
    "    'tree__min_samples_split': [30],\n",
    "    'tree__min_samples_leaf': [2],\n",
    "    'tree__ccp_alpha': [0.001]\n",
    "}"
   ]
  },
  {
   "cell_type": "code",
   "execution_count": 254,
   "id": "df700b6e",
   "metadata": {},
   "outputs": [],
   "source": [
    "gs_tvec_tree = GridSearchCV(estimator = pipe_tvec_tree,\n",
    "                      param_grid=pipe_tvec_tree_params,\n",
    "                      cv=5,\n",
    "                      verbose=1\n",
    "                     )"
   ]
  },
  {
   "cell_type": "code",
   "execution_count": 255,
   "id": "b181e233",
   "metadata": {},
   "outputs": [
    {
     "name": "stdout",
     "output_type": "stream",
     "text": [
      "Fitting 5 folds for each of 1 candidates, totalling 5 fits\n",
      "Wall time: 1.57 s\n"
     ]
    },
    {
     "data": {
      "text/plain": [
       "GridSearchCV(cv=5,\n",
       "             estimator=Pipeline(steps=[('tvec',\n",
       "                                        TfidfVectorizer(stop_words=['find',\n",
       "                                                                    'meanwhile',\n",
       "                                                                    'hereupon',\n",
       "                                                                    'over',\n",
       "                                                                    'everyone',\n",
       "                                                                    'twelve',\n",
       "                                                                    'throughout',\n",
       "                                                                    'most',\n",
       "                                                                    'and',\n",
       "                                                                    'made',\n",
       "                                                                    'keep',\n",
       "                                                                    'beforehand',\n",
       "                                                                    'ourselves',\n",
       "                                                                    'show',\n",
       "                                                                    'whereby',\n",
       "                                                                    'fill',\n",
       "                                                                    'his', 'is',\n",
       "                                                                    'hereafter',\n",
       "                                                                    'somewhere',\n",
       "                                                                    'formerly',\n",
       "                                                                    'put',\n",
       "                                                                    'more',\n",
       "                                                                    'indeed',\n",
       "                                                                    'these',\n",
       "                                                                    'became',\n",
       "                                                                    'former',\n",
       "                                                                    'get',\n",
       "                                                                    'give',\n",
       "                                                                    'whence', ...])),\n",
       "                                       ('tree', DecisionTreeClassifier())]),\n",
       "             param_grid={'tree__ccp_alpha': [0.001], 'tree__max_depth': [None],\n",
       "                         'tree__min_samples_leaf': [2],\n",
       "                         'tree__min_samples_split': [30], 'tvec__max_df': [0.9],\n",
       "                         'tvec__max_features': [None], 'tvec__min_df': [0.01],\n",
       "                         'tvec__ngram_range': [(1, 1)]},\n",
       "             verbose=1)"
      ]
     },
     "execution_count": 255,
     "metadata": {},
     "output_type": "execute_result"
    }
   ],
   "source": [
    "%%time\n",
    "gs_tvec_tree.fit(X_train, y_train)"
   ]
  },
  {
   "cell_type": "code",
   "execution_count": 256,
   "id": "f35a06e9",
   "metadata": {},
   "outputs": [
    {
     "data": {
      "text/plain": [
       "{'tree__ccp_alpha': 0.001,\n",
       " 'tree__max_depth': None,\n",
       " 'tree__min_samples_leaf': 2,\n",
       " 'tree__min_samples_split': 30,\n",
       " 'tvec__max_df': 0.9,\n",
       " 'tvec__max_features': None,\n",
       " 'tvec__min_df': 0.01,\n",
       " 'tvec__ngram_range': (1, 1)}"
      ]
     },
     "execution_count": 256,
     "metadata": {},
     "output_type": "execute_result"
    }
   ],
   "source": [
    "gs_tvec_tree.best_params_"
   ]
  },
  {
   "cell_type": "code",
   "execution_count": 257,
   "id": "07f3c0ed",
   "metadata": {
    "scrolled": true
   },
   "outputs": [
    {
     "data": {
      "text/plain": [
       "0.756773029439696"
      ]
     },
     "execution_count": 257,
     "metadata": {},
     "output_type": "execute_result"
    }
   ],
   "source": [
    "gs_tvec_tree.best_score_"
   ]
  },
  {
   "cell_type": "code",
   "execution_count": 258,
   "id": "02dbb68b",
   "metadata": {},
   "outputs": [
    {
     "data": {
      "text/plain": [
       "0.9359605911330049"
      ]
     },
     "execution_count": 258,
     "metadata": {},
     "output_type": "execute_result"
    }
   ],
   "source": [
    "gs_tvec_tree.score(X_train, y_train)"
   ]
  },
  {
   "cell_type": "code",
   "execution_count": 259,
   "id": "c8079c7c",
   "metadata": {},
   "outputs": [
    {
     "data": {
      "text/plain": [
       "0.8374384236453202"
      ]
     },
     "execution_count": 259,
     "metadata": {},
     "output_type": "execute_result"
    }
   ],
   "source": [
    "gs_tvec_tree.score(X_test, y_test)"
   ]
  },
  {
   "cell_type": "code",
   "execution_count": 260,
   "id": "a40375b7",
   "metadata": {},
   "outputs": [
    {
     "data": {
      "text/html": [
       "<div>\n",
       "<style scoped>\n",
       "    .dataframe tbody tr th:only-of-type {\n",
       "        vertical-align: middle;\n",
       "    }\n",
       "\n",
       "    .dataframe tbody tr th {\n",
       "        vertical-align: top;\n",
       "    }\n",
       "\n",
       "    .dataframe thead th {\n",
       "        text-align: right;\n",
       "    }\n",
       "</style>\n",
       "<table border=\"1\" class=\"dataframe\">\n",
       "  <thead>\n",
       "    <tr style=\"text-align: right;\">\n",
       "      <th></th>\n",
       "      <th>Metric</th>\n",
       "      <th>Score</th>\n",
       "    </tr>\n",
       "  </thead>\n",
       "  <tbody>\n",
       "    <tr>\n",
       "      <th>0</th>\n",
       "      <td>Accuracy</td>\n",
       "      <td>0.837438</td>\n",
       "    </tr>\n",
       "    <tr>\n",
       "      <th>1</th>\n",
       "      <td>Misclassification Rate</td>\n",
       "      <td>0.162562</td>\n",
       "    </tr>\n",
       "    <tr>\n",
       "      <th>2</th>\n",
       "      <td>Sensitivity</td>\n",
       "      <td>0.881773</td>\n",
       "    </tr>\n",
       "    <tr>\n",
       "      <th>3</th>\n",
       "      <td>Specificity</td>\n",
       "      <td>0.793103</td>\n",
       "    </tr>\n",
       "    <tr>\n",
       "      <th>4</th>\n",
       "      <td>Precision</td>\n",
       "      <td>0.809955</td>\n",
       "    </tr>\n",
       "  </tbody>\n",
       "</table>\n",
       "</div>"
      ],
      "text/plain": [
       "                   Metric     Score\n",
       "0                Accuracy  0.837438\n",
       "1  Misclassification Rate  0.162562\n",
       "2             Sensitivity  0.881773\n",
       "3             Specificity  0.793103\n",
       "4               Precision  0.809955"
      ]
     },
     "execution_count": 260,
     "metadata": {},
     "output_type": "execute_result"
    },
    {
     "data": {
      "image/png": "[encoded data removed]",
      "text/plain": [
       "<Figure size 432x288 with 2 Axes>"
      ]
     },
     "metadata": {
      "needs_background": "light"
     },
     "output_type": "display_data"
    }
   ],
   "source": [
    "metrics_and_plot_cm(gs_tvec_tree,X_test, y_test)"
   ]
  },
  {
   "cell_type": "code",
   "execution_count": null,
   "id": "04239a21",
   "metadata": {},
   "outputs": [],
   "source": []
  },
  {
   "cell_type": "markdown",
   "id": "34d629cd",
   "metadata": {},
   "source": [
    "#### Using CountVectorizer with Bagging"
   ]
  },
  {
   "cell_type": "code",
   "execution_count": 261,
   "id": "187a270a",
   "metadata": {},
   "outputs": [],
   "source": [
    "pipe_cvec_bag = Pipeline([\n",
    "    ('cvec', CountVectorizer(stop_words=list_of_stopwords)),\n",
    "    ('bag', BaggingClassifier(bootstrap=True))\n",
    "])"
   ]
  },
  {
   "cell_type": "code",
   "execution_count": 262,
   "id": "a5abc28c",
   "metadata": {},
   "outputs": [],
   "source": [
    "# Best params found\n",
    "pipe_cvec_bag_params = {\n",
    "    'cvec__max_features': [None],\n",
    "    'cvec__min_df': [.01],\n",
    "    'cvec__max_df': [.9],\n",
    "    'cvec__ngram_range': [(1,2)],\n",
    "    'bag__n_estimators': [40],\n",
    "}"
   ]
  },
  {
   "cell_type": "code",
   "execution_count": 263,
   "id": "c0fdeb9a",
   "metadata": {},
   "outputs": [],
   "source": [
    "gs_cvec_bag = GridSearchCV(estimator = pipe_cvec_bag,\n",
    "                      param_grid=pipe_cvec_bag_params,\n",
    "                      cv=5,\n",
    "                      verbose=1\n",
    "                     )"
   ]
  },
  {
   "cell_type": "code",
   "execution_count": 264,
   "id": "f5bcac36",
   "metadata": {},
   "outputs": [
    {
     "name": "stdout",
     "output_type": "stream",
     "text": [
      "Fitting 5 folds for each of 1 candidates, totalling 5 fits\n",
      "Wall time: 15.4 s\n"
     ]
    },
    {
     "data": {
      "text/plain": [
       "GridSearchCV(cv=5,\n",
       "             estimator=Pipeline(steps=[('cvec',\n",
       "                                        CountVectorizer(stop_words=['find',\n",
       "                                                                    'meanwhile',\n",
       "                                                                    'hereupon',\n",
       "                                                                    'over',\n",
       "                                                                    'everyone',\n",
       "                                                                    'twelve',\n",
       "                                                                    'throughout',\n",
       "                                                                    'most',\n",
       "                                                                    'and',\n",
       "                                                                    'made',\n",
       "                                                                    'keep',\n",
       "                                                                    'beforehand',\n",
       "                                                                    'ourselves',\n",
       "                                                                    'show',\n",
       "                                                                    'whereby',\n",
       "                                                                    'fill',\n",
       "                                                                    'his', 'is',\n",
       "                                                                    'hereafter',\n",
       "                                                                    'somewhere',\n",
       "                                                                    'formerly',\n",
       "                                                                    'put',\n",
       "                                                                    'more',\n",
       "                                                                    'indeed',\n",
       "                                                                    'these',\n",
       "                                                                    'became',\n",
       "                                                                    'former',\n",
       "                                                                    'get',\n",
       "                                                                    'give',\n",
       "                                                                    'whence', ...])),\n",
       "                                       ('bag', BaggingClassifier())]),\n",
       "             param_grid={'bag__n_estimators': [40], 'cvec__max_df': [0.9],\n",
       "                         'cvec__max_features': [None], 'cvec__min_df': [0.01],\n",
       "                         'cvec__ngram_range': [(1, 2)]},\n",
       "             verbose=1)"
      ]
     },
     "execution_count": 264,
     "metadata": {},
     "output_type": "execute_result"
    }
   ],
   "source": [
    "%%time\n",
    "gs_cvec_bag.fit(X_train, y_train)"
   ]
  },
  {
   "cell_type": "code",
   "execution_count": 265,
   "id": "e6c955d6",
   "metadata": {},
   "outputs": [
    {
     "data": {
      "text/plain": [
       "{'bag__n_estimators': 40,\n",
       " 'cvec__max_df': 0.9,\n",
       " 'cvec__max_features': None,\n",
       " 'cvec__min_df': 0.01,\n",
       " 'cvec__ngram_range': (1, 2)}"
      ]
     },
     "execution_count": 265,
     "metadata": {},
     "output_type": "execute_result"
    }
   ],
   "source": [
    "gs_cvec_bag.best_params_"
   ]
  },
  {
   "cell_type": "code",
   "execution_count": 266,
   "id": "47774c9f",
   "metadata": {},
   "outputs": [
    {
     "data": {
      "text/plain": [
       "0.8263627730294397"
      ]
     },
     "execution_count": 266,
     "metadata": {},
     "output_type": "execute_result"
    }
   ],
   "source": [
    "gs_cvec_bag.best_score_"
   ]
  },
  {
   "cell_type": "code",
   "execution_count": 267,
   "id": "4aa0c9d3",
   "metadata": {},
   "outputs": [
    {
     "data": {
      "text/plain": [
       "0.9981527093596059"
      ]
     },
     "execution_count": 267,
     "metadata": {},
     "output_type": "execute_result"
    }
   ],
   "source": [
    "gs_cvec_bag.score(X_train, y_train)"
   ]
  },
  {
   "cell_type": "code",
   "execution_count": 268,
   "id": "ceca004e",
   "metadata": {},
   "outputs": [
    {
     "data": {
      "text/plain": [
       "0.8497536945812808"
      ]
     },
     "execution_count": 268,
     "metadata": {},
     "output_type": "execute_result"
    }
   ],
   "source": [
    "gs_cvec_bag.score(X_test, y_test)"
   ]
  },
  {
   "cell_type": "code",
   "execution_count": 269,
   "id": "025544e7",
   "metadata": {},
   "outputs": [
    {
     "data": {
      "text/html": [
       "<div>\n",
       "<style scoped>\n",
       "    .dataframe tbody tr th:only-of-type {\n",
       "        vertical-align: middle;\n",
       "    }\n",
       "\n",
       "    .dataframe tbody tr th {\n",
       "        vertical-align: top;\n",
       "    }\n",
       "\n",
       "    .dataframe thead th {\n",
       "        text-align: right;\n",
       "    }\n",
       "</style>\n",
       "<table border=\"1\" class=\"dataframe\">\n",
       "  <thead>\n",
       "    <tr style=\"text-align: right;\">\n",
       "      <th></th>\n",
       "      <th>Metric</th>\n",
       "      <th>Score</th>\n",
       "    </tr>\n",
       "  </thead>\n",
       "  <tbody>\n",
       "    <tr>\n",
       "      <th>0</th>\n",
       "      <td>Accuracy</td>\n",
       "      <td>0.849754</td>\n",
       "    </tr>\n",
       "    <tr>\n",
       "      <th>1</th>\n",
       "      <td>Misclassification Rate</td>\n",
       "      <td>0.150246</td>\n",
       "    </tr>\n",
       "    <tr>\n",
       "      <th>2</th>\n",
       "      <td>Sensitivity</td>\n",
       "      <td>0.876847</td>\n",
       "    </tr>\n",
       "    <tr>\n",
       "      <th>3</th>\n",
       "      <td>Specificity</td>\n",
       "      <td>0.822660</td>\n",
       "    </tr>\n",
       "    <tr>\n",
       "      <th>4</th>\n",
       "      <td>Precision</td>\n",
       "      <td>0.831776</td>\n",
       "    </tr>\n",
       "  </tbody>\n",
       "</table>\n",
       "</div>"
      ],
      "text/plain": [
       "                   Metric     Score\n",
       "0                Accuracy  0.849754\n",
       "1  Misclassification Rate  0.150246\n",
       "2             Sensitivity  0.876847\n",
       "3             Specificity  0.822660\n",
       "4               Precision  0.831776"
      ]
     },
     "execution_count": 269,
     "metadata": {},
     "output_type": "execute_result"
    },
    {
     "data": {
      "image/png": "[encoded data removed]",
      "text/plain": [
       "<Figure size 432x288 with 2 Axes>"
      ]
     },
     "metadata": {
      "needs_background": "light"
     },
     "output_type": "display_data"
    }
   ],
   "source": [
    "metrics_and_plot_cm(gs_cvec_bag,X_test, y_test)"
   ]
  },
  {
   "cell_type": "markdown",
   "id": "98d4e701",
   "metadata": {},
   "source": [
    "#### Using TFIDFVectorizer with Bagging"
   ]
  },
  {
   "cell_type": "code",
   "execution_count": 270,
   "id": "066a175a",
   "metadata": {},
   "outputs": [],
   "source": [
    "pipe_tvec_bag = Pipeline([\n",
    "    ('tvec', TfidfVectorizer(stop_words=list_of_stopwords)),\n",
    "    ('bag', BaggingClassifier(bootstrap=True))\n",
    "])"
   ]
  },
  {
   "cell_type": "code",
   "execution_count": 271,
   "id": "4421f325",
   "metadata": {},
   "outputs": [],
   "source": [
    "# pipe_bag_params = {\n",
    "#     'tvec__max_features': [None,2000,3000,4000,5000],\n",
    "#     'tvec__min_df': [.2,.3],\n",
    "#     'tvec__max_df': [.85,.9,.95],\n",
    "#     'tvec__ngram_range': [(1,1),(1,2),(1,3)],\n",
    "#     'bag__n_estimators': [10,20,30],\n",
    "# }\n",
    "\n",
    "# Best params found\n",
    "pipe_tvec_bag_params = {\n",
    "    'tvec__max_features': [None],\n",
    "     'tvec__min_df': [.01],\n",
    "     'tvec__max_df': [.95],\n",
    "    'tvec__ngram_range': [(1,1)],\n",
    "    'bag__n_estimators': [40],\n",
    "}"
   ]
  },
  {
   "cell_type": "code",
   "execution_count": 272,
   "id": "b01e647b",
   "metadata": {},
   "outputs": [],
   "source": [
    "gs_tvec_bag = GridSearchCV(estimator = pipe_tvec_bag,\n",
    "                      param_grid=pipe_tvec_bag_params,\n",
    "                      cv=5,\n",
    "#                       verbose=1\n",
    "                     )"
   ]
  },
  {
   "cell_type": "code",
   "execution_count": 273,
   "id": "46d8b4a4",
   "metadata": {},
   "outputs": [
    {
     "name": "stdout",
     "output_type": "stream",
     "text": [
      "Wall time: 20.5 s\n"
     ]
    },
    {
     "data": {
      "text/plain": [
       "GridSearchCV(cv=5,\n",
       "             estimator=Pipeline(steps=[('tvec',\n",
       "                                        TfidfVectorizer(stop_words=['find',\n",
       "                                                                    'meanwhile',\n",
       "                                                                    'hereupon',\n",
       "                                                                    'over',\n",
       "                                                                    'everyone',\n",
       "                                                                    'twelve',\n",
       "                                                                    'throughout',\n",
       "                                                                    'most',\n",
       "                                                                    'and',\n",
       "                                                                    'made',\n",
       "                                                                    'keep',\n",
       "                                                                    'beforehand',\n",
       "                                                                    'ourselves',\n",
       "                                                                    'show',\n",
       "                                                                    'whereby',\n",
       "                                                                    'fill',\n",
       "                                                                    'his', 'is',\n",
       "                                                                    'hereafter',\n",
       "                                                                    'somewhere',\n",
       "                                                                    'formerly',\n",
       "                                                                    'put',\n",
       "                                                                    'more',\n",
       "                                                                    'indeed',\n",
       "                                                                    'these',\n",
       "                                                                    'became',\n",
       "                                                                    'former',\n",
       "                                                                    'get',\n",
       "                                                                    'give',\n",
       "                                                                    'whence', ...])),\n",
       "                                       ('bag', BaggingClassifier())]),\n",
       "             param_grid={'bag__n_estimators': [40], 'tvec__max_df': [0.95],\n",
       "                         'tvec__max_features': [None], 'tvec__min_df': [0.01],\n",
       "                         'tvec__ngram_range': [(1, 1)]})"
      ]
     },
     "execution_count": 273,
     "metadata": {},
     "output_type": "execute_result"
    }
   ],
   "source": [
    "%%time\n",
    "gs_tvec_bag.fit(X_train, y_train)"
   ]
  },
  {
   "cell_type": "code",
   "execution_count": 274,
   "id": "045018ae",
   "metadata": {},
   "outputs": [
    {
     "data": {
      "text/plain": [
       "{'bag__n_estimators': 40,\n",
       " 'tvec__max_df': 0.95,\n",
       " 'tvec__max_features': None,\n",
       " 'tvec__min_df': 0.01,\n",
       " 'tvec__ngram_range': (1, 1)}"
      ]
     },
     "execution_count": 274,
     "metadata": {},
     "output_type": "execute_result"
    }
   ],
   "source": [
    "gs_tvec_bag.best_params_"
   ]
  },
  {
   "cell_type": "code",
   "execution_count": 275,
   "id": "01d12628",
   "metadata": {},
   "outputs": [
    {
     "data": {
      "text/plain": [
       "Pipeline(steps=[('tvec',\n",
       "                 TfidfVectorizer(max_df=0.95, min_df=0.01,\n",
       "                                 stop_words=['find', 'meanwhile', 'hereupon',\n",
       "                                             'over', 'everyone', 'twelve',\n",
       "                                             'throughout', 'most', 'and',\n",
       "                                             'made', 'keep', 'beforehand',\n",
       "                                             'ourselves', 'show', 'whereby',\n",
       "                                             'fill', 'his', 'is', 'hereafter',\n",
       "                                             'somewhere', 'formerly', 'put',\n",
       "                                             'more', 'indeed', 'these',\n",
       "                                             'became', 'former', 'get', 'give',\n",
       "                                             'whence', ...])),\n",
       "                ('bag', BaggingClassifier(n_estimators=40))])"
      ]
     },
     "execution_count": 275,
     "metadata": {},
     "output_type": "execute_result"
    }
   ],
   "source": [
    "gs_tvec_bag.best_estimator_"
   ]
  },
  {
   "cell_type": "code",
   "execution_count": 276,
   "id": "5302c97c",
   "metadata": {},
   "outputs": [
    {
     "data": {
      "text/plain": [
       "0.8312877492877494"
      ]
     },
     "execution_count": 276,
     "metadata": {},
     "output_type": "execute_result"
    }
   ],
   "source": [
    "gs_tvec_bag.best_score_"
   ]
  },
  {
   "cell_type": "code",
   "execution_count": 277,
   "id": "64cd921f",
   "metadata": {},
   "outputs": [
    {
     "data": {
      "text/plain": [
       "0.999384236453202"
      ]
     },
     "execution_count": 277,
     "metadata": {},
     "output_type": "execute_result"
    }
   ],
   "source": [
    "gs_tvec_bag.score(X_train, y_train)"
   ]
  },
  {
   "cell_type": "code",
   "execution_count": 278,
   "id": "967a226b",
   "metadata": {},
   "outputs": [
    {
     "data": {
      "text/plain": [
       "0.8423645320197044"
      ]
     },
     "execution_count": 278,
     "metadata": {},
     "output_type": "execute_result"
    }
   ],
   "source": [
    "gs_tvec_bag.score(X_test, y_test)"
   ]
  },
  {
   "cell_type": "code",
   "execution_count": 279,
   "id": "6cb5e697",
   "metadata": {},
   "outputs": [
    {
     "data": {
      "text/html": [
       "<div>\n",
       "<style scoped>\n",
       "    .dataframe tbody tr th:only-of-type {\n",
       "        vertical-align: middle;\n",
       "    }\n",
       "\n",
       "    .dataframe tbody tr th {\n",
       "        vertical-align: top;\n",
       "    }\n",
       "\n",
       "    .dataframe thead th {\n",
       "        text-align: right;\n",
       "    }\n",
       "</style>\n",
       "<table border=\"1\" class=\"dataframe\">\n",
       "  <thead>\n",
       "    <tr style=\"text-align: right;\">\n",
       "      <th></th>\n",
       "      <th>Metric</th>\n",
       "      <th>Score</th>\n",
       "    </tr>\n",
       "  </thead>\n",
       "  <tbody>\n",
       "    <tr>\n",
       "      <th>0</th>\n",
       "      <td>Accuracy</td>\n",
       "      <td>0.842365</td>\n",
       "    </tr>\n",
       "    <tr>\n",
       "      <th>1</th>\n",
       "      <td>Misclassification Rate</td>\n",
       "      <td>0.157635</td>\n",
       "    </tr>\n",
       "    <tr>\n",
       "      <th>2</th>\n",
       "      <td>Sensitivity</td>\n",
       "      <td>0.901478</td>\n",
       "    </tr>\n",
       "    <tr>\n",
       "      <th>3</th>\n",
       "      <td>Specificity</td>\n",
       "      <td>0.783251</td>\n",
       "    </tr>\n",
       "    <tr>\n",
       "      <th>4</th>\n",
       "      <td>Precision</td>\n",
       "      <td>0.806167</td>\n",
       "    </tr>\n",
       "  </tbody>\n",
       "</table>\n",
       "</div>"
      ],
      "text/plain": [
       "                   Metric     Score\n",
       "0                Accuracy  0.842365\n",
       "1  Misclassification Rate  0.157635\n",
       "2             Sensitivity  0.901478\n",
       "3             Specificity  0.783251\n",
       "4               Precision  0.806167"
      ]
     },
     "execution_count": 279,
     "metadata": {},
     "output_type": "execute_result"
    },
    {
     "data": {
      "image/png": "[encoded data removed]",
      "text/plain": [
       "<Figure size 432x288 with 2 Axes>"
      ]
     },
     "metadata": {
      "needs_background": "light"
     },
     "output_type": "display_data"
    }
   ],
   "source": [
    "metrics_and_plot_cm(gs_tvec_bag,X_test, y_test)"
   ]
  },
  {
   "cell_type": "markdown",
   "id": "05933003",
   "metadata": {},
   "source": [
    "#### CountVectorizer with RandomForest Classifier"
   ]
  },
  {
   "cell_type": "code",
   "execution_count": 280,
   "id": "23144384",
   "metadata": {},
   "outputs": [],
   "source": [
    "pipe_cvec_rf = Pipeline([\n",
    "    ('cvec', CountVectorizer(stop_words=list_of_stopwords)),\n",
    "    ('rf', RandomForestClassifier()),\n",
    "])"
   ]
  },
  {
   "cell_type": "code",
   "execution_count": 281,
   "id": "2f436f9f",
   "metadata": {},
   "outputs": [],
   "source": [
    "pipe_cvec_rf_params = {\n",
    "    'cvec__max_features': [3000],\n",
    "    'cvec__min_df': [.01],\n",
    "    'cvec__max_df': [.95],\n",
    "    'cvec__ngram_range': [(1,1)],\n",
    "    'rf__n_estimators':[200],\n",
    "    'rf__max_depth':  [None],\n",
    "}"
   ]
  },
  {
   "cell_type": "code",
   "execution_count": 282,
   "id": "f1d7eb41",
   "metadata": {},
   "outputs": [],
   "source": [
    "gs_cvec_rf = GridSearchCV(estimator=pipe_cvec_rf,\n",
    "                     param_grid=pipe_cvec_rf_params,\n",
    "                     cv=5,\n",
    "#                      verbose=1\n",
    "                    )"
   ]
  },
  {
   "cell_type": "code",
   "execution_count": 283,
   "id": "904c13f4",
   "metadata": {},
   "outputs": [
    {
     "name": "stdout",
     "output_type": "stream",
     "text": [
      "Wall time: 5.78 s\n"
     ]
    },
    {
     "data": {
      "text/plain": [
       "GridSearchCV(cv=5,\n",
       "             estimator=Pipeline(steps=[('cvec',\n",
       "                                        CountVectorizer(stop_words=['find',\n",
       "                                                                    'meanwhile',\n",
       "                                                                    'hereupon',\n",
       "                                                                    'over',\n",
       "                                                                    'everyone',\n",
       "                                                                    'twelve',\n",
       "                                                                    'throughout',\n",
       "                                                                    'most',\n",
       "                                                                    'and',\n",
       "                                                                    'made',\n",
       "                                                                    'keep',\n",
       "                                                                    'beforehand',\n",
       "                                                                    'ourselves',\n",
       "                                                                    'show',\n",
       "                                                                    'whereby',\n",
       "                                                                    'fill',\n",
       "                                                                    'his', 'is',\n",
       "                                                                    'hereafter',\n",
       "                                                                    'somewhere',\n",
       "                                                                    'formerly',\n",
       "                                                                    'put',\n",
       "                                                                    'more',\n",
       "                                                                    'indeed',\n",
       "                                                                    'these',\n",
       "                                                                    'became',\n",
       "                                                                    'former',\n",
       "                                                                    'get',\n",
       "                                                                    'give',\n",
       "                                                                    'whence', ...])),\n",
       "                                       ('rf', RandomForestClassifier())]),\n",
       "             param_grid={'cvec__max_df': [0.95], 'cvec__max_features': [3000],\n",
       "                         'cvec__min_df': [0.01], 'cvec__ngram_range': [(1, 1)],\n",
       "                         'rf__max_depth': [None], 'rf__n_estimators': [200]})"
      ]
     },
     "execution_count": 283,
     "metadata": {},
     "output_type": "execute_result"
    }
   ],
   "source": [
    "%%time\n",
    "gs_cvec_rf.fit(X_train, y_train)"
   ]
  },
  {
   "cell_type": "code",
   "execution_count": 284,
   "id": "a959a413",
   "metadata": {},
   "outputs": [
    {
     "data": {
      "text/plain": [
       "{'cvec__max_df': 0.95,\n",
       " 'cvec__max_features': 3000,\n",
       " 'cvec__min_df': 0.01,\n",
       " 'cvec__ngram_range': (1, 1),\n",
       " 'rf__max_depth': None,\n",
       " 'rf__n_estimators': 200}"
      ]
     },
     "execution_count": 284,
     "metadata": {},
     "output_type": "execute_result"
    }
   ],
   "source": [
    "gs_cvec_rf.best_params_"
   ]
  },
  {
   "cell_type": "code",
   "execution_count": 285,
   "id": "bd781ba3",
   "metadata": {},
   "outputs": [
    {
     "data": {
      "text/plain": [
       "0.8645318138651472"
      ]
     },
     "execution_count": 285,
     "metadata": {},
     "output_type": "execute_result"
    }
   ],
   "source": [
    "gs_cvec_rf.best_score_"
   ]
  },
  {
   "cell_type": "code",
   "execution_count": 286,
   "id": "29774707",
   "metadata": {},
   "outputs": [
    {
     "data": {
      "text/plain": [
       "0.999384236453202"
      ]
     },
     "execution_count": 286,
     "metadata": {},
     "output_type": "execute_result"
    }
   ],
   "source": [
    "gs_cvec_rf.score(X_train, y_train)"
   ]
  },
  {
   "cell_type": "code",
   "execution_count": 287,
   "id": "4116ea2e",
   "metadata": {},
   "outputs": [
    {
     "data": {
      "text/plain": [
       "0.874384236453202"
      ]
     },
     "execution_count": 287,
     "metadata": {},
     "output_type": "execute_result"
    }
   ],
   "source": [
    "gs_cvec_rf.score(X_test, y_test)"
   ]
  },
  {
   "cell_type": "code",
   "execution_count": 288,
   "id": "65b41f49",
   "metadata": {},
   "outputs": [
    {
     "data": {
      "text/html": [
       "<div>\n",
       "<style scoped>\n",
       "    .dataframe tbody tr th:only-of-type {\n",
       "        vertical-align: middle;\n",
       "    }\n",
       "\n",
       "    .dataframe tbody tr th {\n",
       "        vertical-align: top;\n",
       "    }\n",
       "\n",
       "    .dataframe thead th {\n",
       "        text-align: right;\n",
       "    }\n",
       "</style>\n",
       "<table border=\"1\" class=\"dataframe\">\n",
       "  <thead>\n",
       "    <tr style=\"text-align: right;\">\n",
       "      <th></th>\n",
       "      <th>Metric</th>\n",
       "      <th>Score</th>\n",
       "    </tr>\n",
       "  </thead>\n",
       "  <tbody>\n",
       "    <tr>\n",
       "      <th>0</th>\n",
       "      <td>Accuracy</td>\n",
       "      <td>0.874384</td>\n",
       "    </tr>\n",
       "    <tr>\n",
       "      <th>1</th>\n",
       "      <td>Misclassification Rate</td>\n",
       "      <td>0.125616</td>\n",
       "    </tr>\n",
       "    <tr>\n",
       "      <th>2</th>\n",
       "      <td>Sensitivity</td>\n",
       "      <td>0.906404</td>\n",
       "    </tr>\n",
       "    <tr>\n",
       "      <th>3</th>\n",
       "      <td>Specificity</td>\n",
       "      <td>0.842365</td>\n",
       "    </tr>\n",
       "    <tr>\n",
       "      <th>4</th>\n",
       "      <td>Precision</td>\n",
       "      <td>0.851852</td>\n",
       "    </tr>\n",
       "  </tbody>\n",
       "</table>\n",
       "</div>"
      ],
      "text/plain": [
       "                   Metric     Score\n",
       "0                Accuracy  0.874384\n",
       "1  Misclassification Rate  0.125616\n",
       "2             Sensitivity  0.906404\n",
       "3             Specificity  0.842365\n",
       "4               Precision  0.851852"
      ]
     },
     "execution_count": 288,
     "metadata": {},
     "output_type": "execute_result"
    },
    {
     "data": {
      "image/png": "[encoded data removed]",
      "text/plain": [
       "<Figure size 432x288 with 2 Axes>"
      ]
     },
     "metadata": {
      "needs_background": "light"
     },
     "output_type": "display_data"
    }
   ],
   "source": [
    "metrics_and_plot_cm(gs_cvec_rf,X_test, y_test)"
   ]
  },
  {
   "cell_type": "code",
   "execution_count": null,
   "id": "01736593",
   "metadata": {},
   "outputs": [],
   "source": []
  },
  {
   "cell_type": "code",
   "execution_count": null,
   "id": "2db2aa01",
   "metadata": {},
   "outputs": [],
   "source": []
  },
  {
   "cell_type": "markdown",
   "id": "085026b4",
   "metadata": {},
   "source": [
    "#### Using TFIDFVectorizer with Random Forest Classifier"
   ]
  },
  {
   "cell_type": "code",
   "execution_count": 289,
   "id": "6354e741",
   "metadata": {},
   "outputs": [],
   "source": [
    "pipe_tvec_rf = Pipeline([\n",
    "    ('tvec', TfidfVectorizer(stop_words=list_of_stopwords)),\n",
    "    ('rf', RandomForestClassifier()),\n",
    "])"
   ]
  },
  {
   "cell_type": "code",
   "execution_count": 290,
   "id": "18e12bfd",
   "metadata": {},
   "outputs": [],
   "source": [
    "# pipe_rf_params = {\n",
    "#     'tvec__max_features': [None,2000,3000],\n",
    "#     'tvec__min_df': [.2,.3],\n",
    "#     'tvec__ngram_range': [(1,1),(1,2),(1,3)],\n",
    "#     'rf__n_estimators':[100,150,200],\n",
    "#     'rf__max_depth': [None, 1, 2, 3],\n",
    "# }\n",
    "\n",
    "# Best params for Random Forest\n",
    "pipe_tvec_rf_params = {\n",
    "    'tvec__max_features': [4000],\n",
    "    'tvec__min_df': [.01],\n",
    "#     'tvec__max_df': [.95],\n",
    "    'tvec__ngram_range': [(1,2)],\n",
    "    'rf__n_estimators':[150],\n",
    "    'rf__max_depth':  [None],\n",
    "}"
   ]
  },
  {
   "cell_type": "code",
   "execution_count": 291,
   "id": "6239ecb0",
   "metadata": {},
   "outputs": [],
   "source": [
    "gs_tvec_rf = GridSearchCV(estimator=pipe_tvec_rf,\n",
    "                     param_grid=pipe_tvec_rf_params,\n",
    "                     cv=5,\n",
    "#                      verbose=1\n",
    "                    )"
   ]
  },
  {
   "cell_type": "code",
   "execution_count": 292,
   "id": "59c97cd5",
   "metadata": {},
   "outputs": [
    {
     "name": "stdout",
     "output_type": "stream",
     "text": [
      "Wall time: 6.36 s\n"
     ]
    },
    {
     "data": {
      "text/plain": [
       "GridSearchCV(cv=5,\n",
       "             estimator=Pipeline(steps=[('tvec',\n",
       "                                        TfidfVectorizer(stop_words=['find',\n",
       "                                                                    'meanwhile',\n",
       "                                                                    'hereupon',\n",
       "                                                                    'over',\n",
       "                                                                    'everyone',\n",
       "                                                                    'twelve',\n",
       "                                                                    'throughout',\n",
       "                                                                    'most',\n",
       "                                                                    'and',\n",
       "                                                                    'made',\n",
       "                                                                    'keep',\n",
       "                                                                    'beforehand',\n",
       "                                                                    'ourselves',\n",
       "                                                                    'show',\n",
       "                                                                    'whereby',\n",
       "                                                                    'fill',\n",
       "                                                                    'his', 'is',\n",
       "                                                                    'hereafter',\n",
       "                                                                    'somewhere',\n",
       "                                                                    'formerly',\n",
       "                                                                    'put',\n",
       "                                                                    'more',\n",
       "                                                                    'indeed',\n",
       "                                                                    'these',\n",
       "                                                                    'became',\n",
       "                                                                    'former',\n",
       "                                                                    'get',\n",
       "                                                                    'give',\n",
       "                                                                    'whence', ...])),\n",
       "                                       ('rf', RandomForestClassifier())]),\n",
       "             param_grid={'rf__max_depth': [None], 'rf__n_estimators': [150],\n",
       "                         'tvec__max_features': [4000], 'tvec__min_df': [0.01],\n",
       "                         'tvec__ngram_range': [(1, 2)]})"
      ]
     },
     "execution_count": 292,
     "metadata": {},
     "output_type": "execute_result"
    }
   ],
   "source": [
    "%%time\n",
    "gs_tvec_rf.fit(X_train, y_train)"
   ]
  },
  {
   "cell_type": "code",
   "execution_count": 293,
   "id": "844d629e",
   "metadata": {
    "scrolled": true
   },
   "outputs": [
    {
     "data": {
      "text/plain": [
       "{'rf__max_depth': None,\n",
       " 'rf__n_estimators': 150,\n",
       " 'tvec__max_features': 4000,\n",
       " 'tvec__min_df': 0.01,\n",
       " 'tvec__ngram_range': (1, 2)}"
      ]
     },
     "execution_count": 293,
     "metadata": {},
     "output_type": "execute_result"
    }
   ],
   "source": [
    "gs_tvec_rf.best_params_"
   ]
  },
  {
   "cell_type": "code",
   "execution_count": 294,
   "id": "e3e4180a",
   "metadata": {},
   "outputs": [
    {
     "data": {
      "text/plain": [
       "0.8713048433048434"
      ]
     },
     "execution_count": 294,
     "metadata": {},
     "output_type": "execute_result"
    }
   ],
   "source": [
    "gs_tvec_rf.best_score_"
   ]
  },
  {
   "cell_type": "code",
   "execution_count": 295,
   "id": "7123aa79",
   "metadata": {},
   "outputs": [
    {
     "data": {
      "text/plain": [
       "0.999384236453202"
      ]
     },
     "execution_count": 295,
     "metadata": {},
     "output_type": "execute_result"
    }
   ],
   "source": [
    "gs_tvec_rf.score(X_train, y_train)"
   ]
  },
  {
   "cell_type": "code",
   "execution_count": 296,
   "id": "b8f4d98f",
   "metadata": {},
   "outputs": [
    {
     "data": {
      "text/plain": [
       "0.896551724137931"
      ]
     },
     "execution_count": 296,
     "metadata": {},
     "output_type": "execute_result"
    }
   ],
   "source": [
    "gs_tvec_rf.score(X_test, y_test)"
   ]
  },
  {
   "cell_type": "code",
   "execution_count": 297,
   "id": "d2796f68",
   "metadata": {},
   "outputs": [
    {
     "data": {
      "text/html": [
       "<div>\n",
       "<style scoped>\n",
       "    .dataframe tbody tr th:only-of-type {\n",
       "        vertical-align: middle;\n",
       "    }\n",
       "\n",
       "    .dataframe tbody tr th {\n",
       "        vertical-align: top;\n",
       "    }\n",
       "\n",
       "    .dataframe thead th {\n",
       "        text-align: right;\n",
       "    }\n",
       "</style>\n",
       "<table border=\"1\" class=\"dataframe\">\n",
       "  <thead>\n",
       "    <tr style=\"text-align: right;\">\n",
       "      <th></th>\n",
       "      <th>Metric</th>\n",
       "      <th>Score</th>\n",
       "    </tr>\n",
       "  </thead>\n",
       "  <tbody>\n",
       "    <tr>\n",
       "      <th>0</th>\n",
       "      <td>Accuracy</td>\n",
       "      <td>0.896552</td>\n",
       "    </tr>\n",
       "    <tr>\n",
       "      <th>1</th>\n",
       "      <td>Misclassification Rate</td>\n",
       "      <td>0.103448</td>\n",
       "    </tr>\n",
       "    <tr>\n",
       "      <th>2</th>\n",
       "      <td>Sensitivity</td>\n",
       "      <td>0.916256</td>\n",
       "    </tr>\n",
       "    <tr>\n",
       "      <th>3</th>\n",
       "      <td>Specificity</td>\n",
       "      <td>0.876847</td>\n",
       "    </tr>\n",
       "    <tr>\n",
       "      <th>4</th>\n",
       "      <td>Precision</td>\n",
       "      <td>0.881517</td>\n",
       "    </tr>\n",
       "  </tbody>\n",
       "</table>\n",
       "</div>"
      ],
      "text/plain": [
       "                   Metric     Score\n",
       "0                Accuracy  0.896552\n",
       "1  Misclassification Rate  0.103448\n",
       "2             Sensitivity  0.916256\n",
       "3             Specificity  0.876847\n",
       "4               Precision  0.881517"
      ]
     },
     "execution_count": 297,
     "metadata": {},
     "output_type": "execute_result"
    },
    {
     "data": {
      "image/png": "[encoded data removed]",
      "text/plain": [
       "<Figure size 432x288 with 2 Axes>"
      ]
     },
     "metadata": {
      "needs_background": "light"
     },
     "output_type": "display_data"
    }
   ],
   "source": [
    "metrics_and_plot_cm(gs_tvec_rf,X_test, y_test)"
   ]
  },
  {
   "cell_type": "markdown",
   "id": "89b9147a",
   "metadata": {},
   "source": [
    "#### CountVectorizer with ExtraTreesClassifier"
   ]
  },
  {
   "cell_type": "code",
   "execution_count": 298,
   "id": "93802b38",
   "metadata": {},
   "outputs": [],
   "source": [
    "pipe_cvec_et = Pipeline([\n",
    "    ('cvec', CountVectorizer()),\n",
    "    ('et', ExtraTreesClassifier()),\n",
    "])"
   ]
  },
  {
   "cell_type": "code",
   "execution_count": 299,
   "id": "be89da55",
   "metadata": {},
   "outputs": [],
   "source": [
    "pipe_cvec_et_params = {\n",
    "    'cvec__max_features': [None],\n",
    "    'cvec__min_df': [.01],\n",
    "    'cvec__max_df': [.95],\n",
    "    'cvec__ngram_range': [(1,2)],\n",
    "    'et__n_estimators':[500],\n",
    "    'et__max_depth':  [None],\n",
    "}"
   ]
  },
  {
   "cell_type": "code",
   "execution_count": 300,
   "id": "52d287a4",
   "metadata": {},
   "outputs": [],
   "source": [
    "gs_cvec_et = GridSearchCV(pipe_cvec_et, param_grid=pipe_cvec_et_params,cv=5,verbose=1)"
   ]
  },
  {
   "cell_type": "code",
   "execution_count": 301,
   "id": "466f6f06",
   "metadata": {},
   "outputs": [
    {
     "name": "stdout",
     "output_type": "stream",
     "text": [
      "Fitting 5 folds for each of 1 candidates, totalling 5 fits\n",
      "Wall time: 20.6 s\n"
     ]
    },
    {
     "data": {
      "text/plain": [
       "GridSearchCV(cv=5,\n",
       "             estimator=Pipeline(steps=[('cvec', CountVectorizer()),\n",
       "                                       ('et', ExtraTreesClassifier())]),\n",
       "             param_grid={'cvec__max_df': [0.95], 'cvec__max_features': [None],\n",
       "                         'cvec__min_df': [0.01], 'cvec__ngram_range': [(1, 2)],\n",
       "                         'et__max_depth': [None], 'et__n_estimators': [500]},\n",
       "             verbose=1)"
      ]
     },
     "execution_count": 301,
     "metadata": {},
     "output_type": "execute_result"
    }
   ],
   "source": [
    "%%time\n",
    "gs_cvec_et.fit(X_train, y_train)"
   ]
  },
  {
   "cell_type": "code",
   "execution_count": 302,
   "id": "fff9158b",
   "metadata": {},
   "outputs": [
    {
     "data": {
      "text/plain": [
       "{'cvec__max_df': 0.95,\n",
       " 'cvec__max_features': None,\n",
       " 'cvec__min_df': 0.01,\n",
       " 'cvec__ngram_range': (1, 2),\n",
       " 'et__max_depth': None,\n",
       " 'et__n_estimators': 500}"
      ]
     },
     "execution_count": 302,
     "metadata": {},
     "output_type": "execute_result"
    }
   ],
   "source": [
    "gs_cvec_et.best_params_"
   ]
  },
  {
   "cell_type": "code",
   "execution_count": 303,
   "id": "984c8089",
   "metadata": {},
   "outputs": [
    {
     "data": {
      "text/plain": [
       "0.943346628679962"
      ]
     },
     "execution_count": 303,
     "metadata": {},
     "output_type": "execute_result"
    }
   ],
   "source": [
    "gs_cvec_et.best_score_"
   ]
  },
  {
   "cell_type": "code",
   "execution_count": 304,
   "id": "d8eb6715",
   "metadata": {},
   "outputs": [
    {
     "data": {
      "text/plain": [
       "1.0"
      ]
     },
     "execution_count": 304,
     "metadata": {},
     "output_type": "execute_result"
    }
   ],
   "source": [
    "gs_cvec_et.score(X_train, y_train)"
   ]
  },
  {
   "cell_type": "code",
   "execution_count": 305,
   "id": "899eb125",
   "metadata": {},
   "outputs": [
    {
     "data": {
      "text/plain": [
       "0.9556650246305419"
      ]
     },
     "execution_count": 305,
     "metadata": {},
     "output_type": "execute_result"
    }
   ],
   "source": [
    "gs_cvec_et.score(X_test, y_test)"
   ]
  },
  {
   "cell_type": "code",
   "execution_count": 306,
   "id": "07a1a95f",
   "metadata": {},
   "outputs": [
    {
     "data": {
      "text/html": [
       "<div>\n",
       "<style scoped>\n",
       "    .dataframe tbody tr th:only-of-type {\n",
       "        vertical-align: middle;\n",
       "    }\n",
       "\n",
       "    .dataframe tbody tr th {\n",
       "        vertical-align: top;\n",
       "    }\n",
       "\n",
       "    .dataframe thead th {\n",
       "        text-align: right;\n",
       "    }\n",
       "</style>\n",
       "<table border=\"1\" class=\"dataframe\">\n",
       "  <thead>\n",
       "    <tr style=\"text-align: right;\">\n",
       "      <th></th>\n",
       "      <th>Metric</th>\n",
       "      <th>Score</th>\n",
       "    </tr>\n",
       "  </thead>\n",
       "  <tbody>\n",
       "    <tr>\n",
       "      <th>0</th>\n",
       "      <td>Accuracy</td>\n",
       "      <td>0.955665</td>\n",
       "    </tr>\n",
       "    <tr>\n",
       "      <th>1</th>\n",
       "      <td>Misclassification Rate</td>\n",
       "      <td>0.044335</td>\n",
       "    </tr>\n",
       "    <tr>\n",
       "      <th>2</th>\n",
       "      <td>Sensitivity</td>\n",
       "      <td>0.965517</td>\n",
       "    </tr>\n",
       "    <tr>\n",
       "      <th>3</th>\n",
       "      <td>Specificity</td>\n",
       "      <td>0.945813</td>\n",
       "    </tr>\n",
       "    <tr>\n",
       "      <th>4</th>\n",
       "      <td>Precision</td>\n",
       "      <td>0.946860</td>\n",
       "    </tr>\n",
       "  </tbody>\n",
       "</table>\n",
       "</div>"
      ],
      "text/plain": [
       "                   Metric     Score\n",
       "0                Accuracy  0.955665\n",
       "1  Misclassification Rate  0.044335\n",
       "2             Sensitivity  0.965517\n",
       "3             Specificity  0.945813\n",
       "4               Precision  0.946860"
      ]
     },
     "execution_count": 306,
     "metadata": {},
     "output_type": "execute_result"
    },
    {
     "data": {
      "image/png": "[encoded data removed]",
      "text/plain": [
       "<Figure size 432x288 with 2 Axes>"
      ]
     },
     "metadata": {
      "needs_background": "light"
     },
     "output_type": "display_data"
    }
   ],
   "source": [
    "metrics_and_plot_cm(gs_cvec_et,X_test, y_test)"
   ]
  },
  {
   "cell_type": "markdown",
   "id": "5e670c00",
   "metadata": {},
   "source": [
    "#### TFIDFVectorizer with ExtraTreesClassifier"
   ]
  },
  {
   "cell_type": "code",
   "execution_count": 307,
   "id": "d138a968",
   "metadata": {},
   "outputs": [],
   "source": [
    "pipe_tvec_et = Pipeline([\n",
    "    ('tvec', TfidfVectorizer()),\n",
    "    ('et', ExtraTreesClassifier()),\n",
    "])"
   ]
  },
  {
   "cell_type": "code",
   "execution_count": 308,
   "id": "967a513a",
   "metadata": {},
   "outputs": [],
   "source": [
    "pipe_tvec_et_params = {\n",
    "    'tvec__max_features': [None],\n",
    "    'tvec__min_df': [.01],\n",
    "    'tvec__max_df': [.95],\n",
    "    'tvec__ngram_range': [(1,1)],\n",
    "    'et__n_estimators':[600],\n",
    "    'et__max_depth':  [None],\n",
    "}"
   ]
  },
  {
   "cell_type": "code",
   "execution_count": 309,
   "id": "83b12e85",
   "metadata": {},
   "outputs": [],
   "source": [
    "gs_tvec_et = GridSearchCV(pipe_tvec_et, param_grid=pipe_tvec_et_params,cv=5,verbose=1)"
   ]
  },
  {
   "cell_type": "code",
   "execution_count": 310,
   "id": "aee66af2",
   "metadata": {},
   "outputs": [
    {
     "name": "stdout",
     "output_type": "stream",
     "text": [
      "Fitting 5 folds for each of 1 candidates, totalling 5 fits\n",
      "Wall time: 20.6 s\n"
     ]
    },
    {
     "data": {
      "text/plain": [
       "GridSearchCV(cv=5,\n",
       "             estimator=Pipeline(steps=[('tvec', TfidfVectorizer()),\n",
       "                                       ('et', ExtraTreesClassifier())]),\n",
       "             param_grid={'et__max_depth': [None], 'et__n_estimators': [600],\n",
       "                         'tvec__max_df': [0.95], 'tvec__max_features': [None],\n",
       "                         'tvec__min_df': [0.01],\n",
       "                         'tvec__ngram_range': [(1, 1)]},\n",
       "             verbose=1)"
      ]
     },
     "execution_count": 310,
     "metadata": {},
     "output_type": "execute_result"
    }
   ],
   "source": [
    "%%time\n",
    "gs_tvec_et.fit(X_train, y_train)"
   ]
  },
  {
   "cell_type": "code",
   "execution_count": 311,
   "id": "3b2d02f3",
   "metadata": {},
   "outputs": [
    {
     "data": {
      "text/plain": [
       "{'et__max_depth': None,\n",
       " 'et__n_estimators': 600,\n",
       " 'tvec__max_df': 0.95,\n",
       " 'tvec__max_features': None,\n",
       " 'tvec__min_df': 0.01,\n",
       " 'tvec__ngram_range': (1, 1)}"
      ]
     },
     "execution_count": 311,
     "metadata": {},
     "output_type": "execute_result"
    }
   ],
   "source": [
    "gs_tvec_et.best_params_"
   ]
  },
  {
   "cell_type": "code",
   "execution_count": 312,
   "id": "ab2080bd",
   "metadata": {},
   "outputs": [
    {
     "data": {
      "text/plain": [
       "0.9550560303893636"
      ]
     },
     "execution_count": 312,
     "metadata": {},
     "output_type": "execute_result"
    }
   ],
   "source": [
    "gs_tvec_et.best_score_"
   ]
  },
  {
   "cell_type": "code",
   "execution_count": 313,
   "id": "dd92e974",
   "metadata": {},
   "outputs": [
    {
     "data": {
      "text/plain": [
       "1.0"
      ]
     },
     "execution_count": 313,
     "metadata": {},
     "output_type": "execute_result"
    }
   ],
   "source": [
    "gs_tvec_et.score(X_train, y_train)"
   ]
  },
  {
   "cell_type": "code",
   "execution_count": 314,
   "id": "effeb216",
   "metadata": {},
   "outputs": [
    {
     "data": {
      "text/plain": [
       "0.9605911330049262"
      ]
     },
     "execution_count": 314,
     "metadata": {},
     "output_type": "execute_result"
    }
   ],
   "source": [
    "gs_tvec_et.score(X_test, y_test)"
   ]
  },
  {
   "cell_type": "code",
   "execution_count": 315,
   "id": "91e60e67",
   "metadata": {},
   "outputs": [
    {
     "data": {
      "text/html": [
       "<div>\n",
       "<style scoped>\n",
       "    .dataframe tbody tr th:only-of-type {\n",
       "        vertical-align: middle;\n",
       "    }\n",
       "\n",
       "    .dataframe tbody tr th {\n",
       "        vertical-align: top;\n",
       "    }\n",
       "\n",
       "    .dataframe thead th {\n",
       "        text-align: right;\n",
       "    }\n",
       "</style>\n",
       "<table border=\"1\" class=\"dataframe\">\n",
       "  <thead>\n",
       "    <tr style=\"text-align: right;\">\n",
       "      <th></th>\n",
       "      <th>Metric</th>\n",
       "      <th>Score</th>\n",
       "    </tr>\n",
       "  </thead>\n",
       "  <tbody>\n",
       "    <tr>\n",
       "      <th>0</th>\n",
       "      <td>Accuracy</td>\n",
       "      <td>0.960591</td>\n",
       "    </tr>\n",
       "    <tr>\n",
       "      <th>1</th>\n",
       "      <td>Misclassification Rate</td>\n",
       "      <td>0.039409</td>\n",
       "    </tr>\n",
       "    <tr>\n",
       "      <th>2</th>\n",
       "      <td>Sensitivity</td>\n",
       "      <td>0.965517</td>\n",
       "    </tr>\n",
       "    <tr>\n",
       "      <th>3</th>\n",
       "      <td>Specificity</td>\n",
       "      <td>0.955665</td>\n",
       "    </tr>\n",
       "    <tr>\n",
       "      <th>4</th>\n",
       "      <td>Precision</td>\n",
       "      <td>0.956098</td>\n",
       "    </tr>\n",
       "  </tbody>\n",
       "</table>\n",
       "</div>"
      ],
      "text/plain": [
       "                   Metric     Score\n",
       "0                Accuracy  0.960591\n",
       "1  Misclassification Rate  0.039409\n",
       "2             Sensitivity  0.965517\n",
       "3             Specificity  0.955665\n",
       "4               Precision  0.956098"
      ]
     },
     "execution_count": 315,
     "metadata": {},
     "output_type": "execute_result"
    },
    {
     "data": {
      "image/png": "[encoded data removed]",
      "text/plain": [
       "<Figure size 432x288 with 2 Axes>"
      ]
     },
     "metadata": {
      "needs_background": "light"
     },
     "output_type": "display_data"
    }
   ],
   "source": [
    "metrics_and_plot_cm(gs_tvec_et,X_test, y_test)"
   ]
  },
  {
   "cell_type": "code",
   "execution_count": null,
   "id": "80575a94",
   "metadata": {},
   "outputs": [],
   "source": []
  },
  {
   "cell_type": "code",
   "execution_count": null,
   "id": "4142fa9c",
   "metadata": {},
   "outputs": [],
   "source": []
  }
 ],
 "metadata": {
  "kernelspec": {
   "display_name": "Python 3",
   "language": "python",
   "name": "python3"
  },
  "language_info": {
   "codemirror_mode": {
    "name": "ipython",
    "version": 3
   },
   "file_extension": ".py",
   "mimetype": "text/x-python",
   "name": "python",
   "nbconvert_exporter": "python",
   "pygments_lexer": "ipython3",
   "version": "3.8.8"
  }
 },
 "nbformat": 4,
 "nbformat_minor": 5
}
