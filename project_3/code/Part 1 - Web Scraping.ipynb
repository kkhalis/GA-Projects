{
 "cells": [
  {
   "cell_type": "code",
   "execution_count": 4,
   "id": "303b97d3",
   "metadata": {},
   "outputs": [],
   "source": [
    "import requests\n",
    "import numpy as np\n",
    "import pandas as pd\n",
    "import time"
   ]
  },
  {
   "cell_type": "code",
   "execution_count": 5,
   "id": "c2eb63fd",
   "metadata": {},
   "outputs": [],
   "source": [
    "test_url = 'https://api.pushshift.io/reddit/search/submission'"
   ]
  },
  {
   "cell_type": "code",
   "execution_count": 13,
   "id": "56783bcd",
   "metadata": {},
   "outputs": [],
   "source": [
    "params = {\n",
    "    'subreddit': 'cryptocurrency',\n",
    "    'size' : 100,\n",
    "#     'after':  '10d',\n",
    "#     'before': '10d',\n",
    "}"
   ]
  },
  {
   "cell_type": "code",
   "execution_count": 14,
   "id": "f73127a7",
   "metadata": {},
   "outputs": [],
   "source": [
    "res = requests.get(test_url, params)"
   ]
  },
  {
   "cell_type": "code",
   "execution_count": 15,
   "id": "bfdb7461",
   "metadata": {},
   "outputs": [],
   "source": [
    "data = res.json()"
   ]
  },
  {
   "cell_type": "code",
   "execution_count": 16,
   "id": "481e5747",
   "metadata": {},
   "outputs": [],
   "source": [
    "posts = data['data']"
   ]
  },
  {
   "cell_type": "code",
   "execution_count": 18,
   "id": "524185a1",
   "metadata": {},
   "outputs": [
    {
     "data": {
      "text/plain": [
       "100"
      ]
     },
     "execution_count": 18,
     "metadata": {},
     "output_type": "execute_result"
    }
   ],
   "source": [
    "len(posts)"
   ]
  },
  {
   "cell_type": "code",
   "execution_count": null,
   "id": "ef97f30e",
   "metadata": {},
   "outputs": [],
   "source": []
  },
  {
   "cell_type": "code",
   "execution_count": null,
   "id": "c238a368",
   "metadata": {},
   "outputs": [],
   "source": []
  },
  {
   "cell_type": "code",
   "execution_count": null,
   "id": "6c9c160f",
   "metadata": {},
   "outputs": [],
   "source": []
  },
  {
   "cell_type": "code",
   "execution_count": null,
   "id": "b1102890",
   "metadata": {},
   "outputs": [],
   "source": [
    "res.status_code"
   ]
  },
  {
   "cell_type": "code",
   "execution_count": null,
   "id": "3fe67e2b",
   "metadata": {},
   "outputs": [],
   "source": [
    "data = res.json()"
   ]
  },
  {
   "cell_type": "code",
   "execution_count": null,
   "id": "d8a9c226",
   "metadata": {},
   "outputs": [],
   "source": [
    "posts = data['data']"
   ]
  },
  {
   "cell_type": "code",
   "execution_count": null,
   "id": "c6814088",
   "metadata": {},
   "outputs": [],
   "source": [
    "def get_data(base_url, subreddit, size):\n",
    "    tmp =  []\n",
    "    params = {\n",
    "        'subreddit': subreddit,\n",
    "        'size' : size,\n",
    "    }\n",
    "    while len(tmp) < 5:\n",
    "        res = requests.get(base_url,params)\n",
    "        print(f' Dataframe size:{len(tmp)}, Status of request: {res.status_code}')\n",
    "        data = res.json()\n",
    "        posts = data['data']\n",
    "        tmp.append(posts)\n",
    "        time.sleep(1)\n",
    "    \n",
    "    return tmp"
   ]
  },
  {
   "cell_type": "code",
   "execution_count": null,
   "id": "1623325b",
   "metadata": {},
   "outputs": [],
   "source": [
    "sample = get_data(test_url, 'cryptocurrency',100)"
   ]
  },
  {
   "cell_type": "code",
   "execution_count": null,
   "id": "0f729c8c",
   "metadata": {},
   "outputs": [],
   "source": [
    "df = pd.DataFrame()\n",
    "for item in sample:\n",
    "    print(type(item))\n",
    "    \n",
    "df"
   ]
  },
  {
   "cell_type": "code",
   "execution_count": null,
   "id": "99d98bda",
   "metadata": {},
   "outputs": [],
   "source": [
    "df"
   ]
  },
  {
   "cell_type": "code",
   "execution_count": null,
   "id": "72ef6d40",
   "metadata": {},
   "outputs": [],
   "source": [
    "posts[0]"
   ]
  },
  {
   "cell_type": "code",
   "execution_count": null,
   "id": "a54c41eb",
   "metadata": {},
   "outputs": [],
   "source": [
    "df =pd.DataFrame(posts)"
   ]
  },
  {
   "cell_type": "code",
   "execution_count": null,
   "id": "2a4596bc",
   "metadata": {},
   "outputs": [],
   "source": [
    "df.shape[0]"
   ]
  },
  {
   "cell_type": "code",
   "execution_count": null,
   "id": "f1eb68f5",
   "metadata": {},
   "outputs": [],
   "source": [
    "df[['subreddit','selftext','title']].head()"
   ]
  },
  {
   "cell_type": "code",
   "execution_count": null,
   "id": "054cb358",
   "metadata": {},
   "outputs": [],
   "source": []
  }
 ],
 "metadata": {
  "kernelspec": {
   "display_name": "Python 3",
   "language": "python",
   "name": "python3"
  },
  "language_info": {
   "codemirror_mode": {
    "name": "ipython",
    "version": 3
   },
   "file_extension": ".py",
   "mimetype": "text/x-python",
   "name": "python",
   "nbconvert_exporter": "python",
   "pygments_lexer": "ipython3",
   "version": "3.8.8"
  }
 },
 "nbformat": 4,
 "nbformat_minor": 5
}
