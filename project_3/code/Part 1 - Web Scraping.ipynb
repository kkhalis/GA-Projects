{
 "cells": [
  {
   "cell_type": "code",
   "execution_count": 1,
   "id": "303b97d3",
   "metadata": {},
   "outputs": [],
   "source": [
    "import requests\n",
    "import numpy as np\n",
    "import pandas as pd\n",
    "import time"
   ]
  },
  {
   "cell_type": "code",
   "execution_count": 5,
   "id": "7424a0a0",
   "metadata": {},
   "outputs": [],
   "source": [
    "def get_data(subreddit):\n",
    "    continue_scrape = True\n",
    "    base_url = 'https://api.pushshift.io/reddit/search/submission'\n",
    "    params = {\n",
    "        'subreddit': subreddit,\n",
    "        'size' : 100,\n",
    "    }\n",
    "    comb_df = pd.DataFrame()\n",
    "\n",
    "    while continue_scrape:\n",
    "        res = requests.get(base_url,params)\n",
    "        while res.status_code != 200:\n",
    "            time.sleep(0.5)\n",
    "            res = requests.get(base_url,params)\n",
    "        data = res.json()\n",
    "        posts = data['data']\n",
    "        tmp_df = pd.DataFrame(posts)\n",
    "\n",
    "        comb_df = pd.concat([comb_df,tmp_df.loc[(tmp_df['selftext'] != '') & (tmp_df['selftext'] != '[removed]') & (tmp_df['selftext'] != '[deleted]') & (pd.notna(tmp_df['selftext'])), :]], ignore_index=True)\n",
    "        #params['before'] = comb_df.loc[comb_df.index[-1],'created_utc']\n",
    "        params['before'] = tmp_df.loc[tmp_df.index[-1],'created_utc']\n",
    "        \n",
    "#         print(comb_df.shape)\n",
    "        if len(comb_df) > 1000:\n",
    "            continue_scrape = False\n",
    "\n",
    "    return comb_df"
   ]
  },
  {
   "cell_type": "code",
   "execution_count": 6,
   "id": "28ee82c8",
   "metadata": {},
   "outputs": [],
   "source": [
    "import os\n",
    "\n",
    "outdir = '../data'\n",
    "if not os.path.exists(outdir):\n",
    "    os.mkdir(outdir)\n"
   ]
  },
  {
   "cell_type": "code",
   "execution_count": null,
   "id": "a132d886",
   "metadata": {},
   "outputs": [],
   "source": [
    "%%time\n",
    "crypto_df = get_data('cryptocurrency')\n",
    "crypto_df.to_csv('../data/cryptocurrency.csv', index=False)"
   ]
  },
  {
   "cell_type": "code",
   "execution_count": 7,
   "id": "3ac72fd7",
   "metadata": {},
   "outputs": [
    {
     "name": "stdout",
     "output_type": "stream",
     "text": [
      "(40, 70)\n",
      "(84, 70)\n",
      "(130, 71)\n",
      "(166, 71)\n",
      "(202, 71)\n",
      "(247, 71)\n",
      "(282, 71)\n",
      "(313, 71)\n",
      "(354, 71)\n",
      "(401, 71)\n",
      "(440, 71)\n",
      "(478, 71)\n",
      "(509, 71)\n",
      "(540, 71)\n",
      "(578, 71)\n",
      "(611, 71)\n",
      "(650, 71)\n",
      "(692, 71)\n",
      "(733, 71)\n",
      "(768, 71)\n",
      "(804, 71)\n",
      "(847, 71)\n",
      "(878, 71)\n",
      "(914, 71)\n",
      "(949, 71)\n",
      "(979, 71)\n",
      "(1017, 71)\n"
     ]
    }
   ],
   "source": [
    "%%time\n",
    "stocks_df = get_data('stocks')\n",
    "stocks_df.to_csv('../data/stocks.csv', index=False)"
   ]
  },
  {
   "cell_type": "code",
   "execution_count": 8,
   "id": "f97f9d43",
   "metadata": {},
   "outputs": [
    {
     "name": "stdout",
     "output_type": "stream",
     "text": [
      "(27, 79)\n",
      "(51, 79)\n",
      "(57, 81)\n",
      "(60, 82)\n",
      "(64, 83)\n",
      "(68, 83)\n",
      "(85, 83)\n",
      "(105, 83)\n",
      "(120, 83)\n",
      "(144, 83)\n",
      "(171, 83)\n",
      "(210, 83)\n",
      "(240, 83)\n",
      "(267, 83)\n",
      "(295, 83)\n",
      "(316, 83)\n",
      "(351, 83)\n",
      "(377, 83)\n",
      "(405, 83)\n",
      "(428, 83)\n",
      "(447, 83)\n",
      "(473, 83)\n",
      "(489, 83)\n",
      "(518, 83)\n",
      "(541, 83)\n",
      "(560, 83)\n",
      "(579, 83)\n",
      "(597, 83)\n",
      "(616, 83)\n",
      "(640, 84)\n",
      "(661, 84)\n",
      "(686, 84)\n",
      "(719, 84)\n",
      "(755, 84)\n",
      "(779, 84)\n",
      "(802, 84)\n",
      "(821, 84)\n",
      "(839, 84)\n",
      "(864, 84)\n",
      "(882, 84)\n",
      "(914, 84)\n",
      "(942, 84)\n",
      "(970, 84)\n",
      "(995, 84)\n",
      "(1016, 84)\n"
     ]
    }
   ],
   "source": [
    "%%time\n",
    "wsb_df = get_data('wallstreetbets')\n",
    "wsb_df.to_csv('../data/wallstreetbets.csv', index=False)"
   ]
  },
  {
   "cell_type": "code",
   "execution_count": null,
   "id": "2e9459f7",
   "metadata": {},
   "outputs": [],
   "source": []
  }
 ],
 "metadata": {
  "kernelspec": {
   "display_name": "Python 3",
   "language": "python",
   "name": "python3"
  },
  "language_info": {
   "codemirror_mode": {
    "name": "ipython",
    "version": 3
   },
   "file_extension": ".py",
   "mimetype": "text/x-python",
   "name": "python",
   "nbconvert_exporter": "python",
   "pygments_lexer": "ipython3",
   "version": "3.8.8"
  }
 },
 "nbformat": 4,
 "nbformat_minor": 5
}
